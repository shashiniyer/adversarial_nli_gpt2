{
 "cells": [
  {
   "cell_type": "markdown",
   "id": "ea85f917",
   "metadata": {},
   "source": [
    "# Training a Baseline Model: GPT-2 fine-tuned for NLI using all of SNLI train data\n",
    "\n",
    "### 1. Imports and Global Settings"
   ]
  },
  {
   "cell_type": "code",
   "execution_count": null,
   "id": "f1771bdf",
   "metadata": {},
   "outputs": [],
   "source": [
    "from datasets import load_dataset, disable_caching\n",
    "from tqdm.notebook import tqdm\n",
    "from transformers import GPT2TokenizerFast, DataCollatorWithPadding, set_seed\n",
    "import torch\n",
    "from torch.nn.functional import one_hot\n",
    "device = torch.device(\"cuda\") if torch.cuda.is_available() else torch.device(\"cpu\")\n",
    "set_seed(42)\n",
    "disable_caching()"
   ]
  },
  {
   "cell_type": "markdown",
   "id": "78053619",
   "metadata": {},
   "source": [
    "### 2. Pre-Processing\n",
    "- Get SNLI Dataset (Train fold)\n",
    "- Remove instances without gold standard labels, i.e., label = -1\n",
    "- One-hot encoding for labels\n",
    "- Tokenise data"
   ]
  },
  {
   "cell_type": "code",
   "execution_count": null,
   "id": "f1562027",
   "metadata": {},
   "outputs": [],
   "source": [
    "train = load_dataset('snli', split = 'train')\n",
    "train = train.filter(lambda x: x['label'] != -1).map( \\\n",
    "    lambda x: {'label': one_hot(torch.tensor(x['label']), 3).type(torch.float32).numpy()}, \\\n",
    "    batched = True)"
   ]
  },
  {
   "cell_type": "code",
   "execution_count": null,
   "id": "0391fd81",
   "metadata": {},
   "outputs": [],
   "source": [
    "# set up tokeniser\n",
    "# padding to left because GPT2 uses last token for prediction\n",
    "tokenizer = GPT2TokenizerFast.from_pretrained(\"gpt2\", padding_side = 'left', \\\n",
    "                                              padding = True, truncation = True)\n",
    "tokenizer.pad_token = tokenizer.eos_token # pad with 'eos' token"
   ]
  },
  {
   "cell_type": "code",
   "execution_count": null,
   "id": "fdc89111",
   "metadata": {},
   "outputs": [],
   "source": [
    "# tokenize data\n",
    "train = train.map(lambda x: tokenizer(x['premise'] + '|' + x['hypothesis']))"
   ]
  },
  {
   "cell_type": "code",
   "execution_count": null,
   "id": "97eb16bf",
   "metadata": {},
   "outputs": [],
   "source": [
    "# keep only needed columns, set data format to PyTorch\n",
    "train.set_format(type = 'torch', columns = ['label', 'input_ids', 'attention_mask'])"
   ]
  },
  {
   "cell_type": "markdown",
   "id": "efb6458a",
   "metadata": {},
   "source": [
    "### 3. Model"
   ]
  },
  {
   "cell_type": "code",
   "execution_count": null,
   "id": "c701db6a",
   "metadata": {},
   "outputs": [],
   "source": [
    "# set up data collator - https://huggingface.co/docs/transformers/main_classes/data_collator\n",
    "# this is a (callable) helper object that sends batches of data to the model\n",
    "data_collator = DataCollatorWithPadding(tokenizer, padding = 'max_length', \\\n",
    "                                         return_tensors = 'pt', max_length = 512)"
   ]
  },
  {
   "cell_type": "code",
   "execution_count": null,
   "id": "860f9c8f",
   "metadata": {},
   "outputs": [],
   "source": [
    "# hyper-parameters for model training\n",
    "batch_size = 16 # constrained by GPU memory\n",
    "lr = 1e-5 # also set to match Le et al. (2020) - https://arxiv.org/abs/2002.04108"
   ]
  },
  {
   "cell_type": "code",
   "execution_count": null,
   "id": "1cd3ba3f",
   "metadata": {},
   "outputs": [],
   "source": [
    "# set up a dataloader (batch generator)\n",
    "dataloader = torch.utils.data.DataLoader(train, batch_size=batch_size, \\\n",
    "                                 shuffle=True, collate_fn=data_collator) # batch size constrained by GPU memory"
   ]
  },
  {
   "cell_type": "code",
   "execution_count": null,
   "id": "64ef7d8a",
   "metadata": {},
   "outputs": [],
   "source": [
    "# move model to device\n",
    "model.to(device)"
   ]
  },
  {
   "cell_type": "code",
   "execution_count": null,
   "id": "5ddfb8a1",
   "metadata": {},
   "outputs": [],
   "source": [
    "# set up optimizer (loss function in-built)\n",
    "optimizer = torch.optim.Adam(model.parameters(), lr=lr)"
   ]
  },
  {
   "cell_type": "code",
   "execution_count": null,
   "id": "dcd5cc0e",
   "metadata": {},
   "outputs": [],
   "source": [
    "# Train\n",
    "model.train()\n",
    "\n",
    "size = len(dataloader.dataset)\n",
    "\n",
    "for epoch in range(3):\n",
    "\n",
    "    for batch, data in tqdm(enumerate(dataloader), total = len(dataloader)):\n",
    "\n",
    "            # Torch requirement\n",
    "            model.zero_grad()\n",
    "\n",
    "            # Compute prediction and loss\n",
    "            outputs = model(**data.to(device))\n",
    "            loss = outputs[0]\n",
    "\n",
    "            # Backpropagation\n",
    "            loss.backward()\n",
    "            torch.nn.utils.clip_grad_norm_(model.parameters(), 1.0)\n",
    "            optimizer.step()\n",
    "\n",
    "            if batch % int(len(dataloader)/10) == 0:\n",
    "                loss, current = loss.item(), batch * len(data['labels'])\n",
    "                print(f\"loss: {loss:>7f}  [{current:>5d}/{size:>5d}]\")"
   ]
  },
  {
   "cell_type": "code",
   "execution_count": null,
   "id": "ed35360e",
   "metadata": {},
   "outputs": [],
   "source": [
    "# Save model\n",
    "torch.save(model, 'baseline_unfiltered.pth')"
   ]
  },
  {
   "cell_type": "code",
   "execution_count": null,
   "id": "79337f2e",
   "metadata": {},
   "outputs": [],
   "source": [
    "# check last batch loss\n",
    "loss.item()"
   ]
  },
  {
   "cell_type": "code",
   "execution_count": null,
   "id": "88e7cd94",
   "metadata": {},
   "outputs": [],
   "source": []
  }
 ],
 "metadata": {
  "kernelspec": {
   "display_name": "Python 3 (ipykernel)",
   "language": "python",
   "name": "python3"
  },
  "language_info": {
   "codemirror_mode": {
    "name": "ipython",
    "version": 3
   },
   "file_extension": ".py",
   "mimetype": "text/x-python",
   "name": "python",
   "nbconvert_exporter": "python",
   "pygments_lexer": "ipython3",
   "version": "3.8.13"
  }
 },
 "nbformat": 4,
 "nbformat_minor": 5
}
