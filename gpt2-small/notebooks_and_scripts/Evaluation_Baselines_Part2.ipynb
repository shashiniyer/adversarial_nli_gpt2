{
 "cells": [
  {
   "cell_type": "markdown",
   "id": "6016ff83",
   "metadata": {},
   "source": [
    "# Evaluate Performance of Baseline Models\n",
    "__Model performance will be evaluated on:__\n",
    "1. In-Distribution sample (SNLI test split), in zero-shot settings (see [Part 1](https://github.com/shashiniyer/adversarial_nli_gpt2/blob/main/gpt2-small/notebooks_and_scripts/Evaluation_Baselines_Part1.ipynb))\n",
    "2. The following Out-of-Distribution samples:\n",
    "    - HANS dataset (validation split), in zero-shot settings  (see [Part 1](https://github.com/shashiniyer/adversarial_nli_gpt2/blob/main/gpt2-small/notebooks_and_scripts/Evaluation_Baselines_Part1.ipynb))\n",
    "    - NLI Diagnostics dataset, in zero-shot settings  (see [Part 1](https://github.com/shashiniyer/adversarial_nli_gpt2/blob/main/gpt2-small/notebooks_and_scripts/Evaluation_Baselines_Part1.ipynb))\n",
    "    - Stress Test datasets, in zero-shot settings  (see [Part 1](https://github.com/shashiniyer/adversarial_nli_gpt2/blob/main/gpt2-small/notebooks_and_scripts/Evaluation_Baselines_Part1.ipynb))\n",
    "    - ANLI datasets (test splits), after fine-tuning the model for each round (_this notebook_)\n",
    "\n",
    "__Performance indicators:__ Classification accuracy and $R_K$\n",
    "\n",
    "\n",
    "## 1. Imports and Global Settings"
   ]
  },
  {
   "cell_type": "code",
   "execution_count": 1,
   "id": "7f4fbc81",
   "metadata": {},
   "outputs": [],
   "source": [
    "from datasets import load_dataset, disable_caching\n",
    "from transformers import GPT2TokenizerFast, DataCollatorWithPadding, set_seed\n",
    "import torch\n",
    "from torch.nn.functional import one_hot\n",
    "from utils_ import tokenize, train_classifier, evaluate_acc_rk\n",
    "device = torch.device(\"cuda\") if torch.cuda.is_available() else torch.device(\"cpu\")\n",
    "set_seed(42)\n",
    "#disable_caching()"
   ]
  },
  {
   "cell_type": "code",
   "execution_count": 2,
   "id": "9de5b15b",
   "metadata": {},
   "outputs": [],
   "source": [
    "# set up tokeniser\n",
    "# padding to left because GPT2 uses last token for prediction\n",
    "tokenizer = GPT2TokenizerFast.from_pretrained(\"gpt2\", padding_side = 'left', \\\n",
    "                                              padding = True, truncation = True)\n",
    "tokenizer.pad_token = tokenizer.eos_token # pad with 'eos' token"
   ]
  },
  {
   "cell_type": "code",
   "execution_count": 3,
   "id": "57213f51",
   "metadata": {},
   "outputs": [],
   "source": [
    "# set up data collator - https://huggingface.co/docs/transformers/main_classes/data_collator\n",
    "# this is a (callable) helper object that sends batches of data to the model\n",
    "data_collator = DataCollatorWithPadding(tokenizer, padding = 'max_length', \\\n",
    "                                         return_tensors = 'pt', max_length = 128)"
   ]
  },
  {
   "cell_type": "markdown",
   "id": "895c85bb",
   "metadata": {},
   "source": [
    "## 2. Out-of-Distribution Evaluation - ANLI - Fine-Tuning\n",
    "### 2.1. Data Read + Pre-Processing\n",
    "- Get ANLI Datasets\n",
    "- One-hot encode labels\n",
    "- Tokenise data"
   ]
  },
  {
   "cell_type": "code",
   "execution_count": 4,
   "id": "f6067d83",
   "metadata": {},
   "outputs": [],
   "source": [
    "# function to read in data and pre-process\n",
    "def anli_data(split, tokenizer):\n",
    "\n",
    "    # read in data\n",
    "    data = load_dataset('anli', split = split)\n",
    "    \n",
    "    # one-hot encode labels\n",
    "    data = data.map(lambda x: {'label': one_hot(torch.tensor(x['label']), 3).type(torch.float32).numpy()}, \\\n",
    "        batched = True)\n",
    "    \n",
    "    # tokenize data\n",
    "    data = data.map(lambda x: tokenize(tokenizer, x['premise'] + '|' + x['hypothesis']))\n",
    "    len_bef_exclusion = len(data)\n",
    "\n",
    "    # exclude instances with > 128 tokens\n",
    "    data = data.filter(lambda x: x['exclude'] == False)\n",
    "    len_aft_exclusion = len(data)\n",
    "\n",
    "    # print message if instances were in fact excluded\n",
    "    if len_bef_exclusion - len_aft_exclusion > 0:\n",
    "\n",
    "        print(f'Split: {split} - {len_bef_exclusion - len_aft_exclusion} ' + \\\n",
    "              f'({(len_bef_exclusion/len_aft_exclusion - 1)*100:>2f}%) sequences excluded')\n",
    "    \n",
    "    # keep only needed columns, set data format to PyTorch\n",
    "    data.set_format(type = 'torch', columns = ['label', 'input_ids', 'attention_mask'])\n",
    "    \n",
    "    # store in data_dict\n",
    "    return(data)"
   ]
  },
  {
   "cell_type": "markdown",
   "id": "719d6b28",
   "metadata": {},
   "source": [
    "### 2.2. Fine-tune both Baseline models using corresponding training data for each ANLI round, then evaluate"
   ]
  },
  {
   "cell_type": "code",
   "execution_count": 5,
   "id": "3665ffae",
   "metadata": {},
   "outputs": [],
   "source": [
    "# set up dictionary of the models/file_names\n",
    "models = {'Unfiltered': 'baseline_unfiltered.pth', 'Random 190k Subset': 'baseline_random_190k.pth'}"
   ]
  },
  {
   "cell_type": "code",
   "execution_count": 6,
   "id": "79691c25",
   "metadata": {
    "scrolled": true
   },
   "outputs": [
    {
     "name": "stderr",
     "output_type": "stream",
     "text": [
      "Reusing dataset anli (/home/shana92/.cache/huggingface/datasets/anli/plain_text/0.1.0/aabce88453b06dff21c201855ea83283bab0390bff746deadb30b65695755c0b)\n",
      "Parameter 'function'=<function anli_data.<locals>.<lambda> at 0x7fb711a639d0> of the transform datasets.arrow_dataset.Dataset._map_single couldn't be hashed properly, a random hash was used instead. Make sure your transforms and parameters are serializable with pickle or dill for the dataset fingerprinting and caching to work. If you reuse this transform, the caching mechanism will consider it to be different from the previous calls and recompute everything. This warning is only showed once. Subsequent hashing failures won't be showed.\n",
      "Loading cached processed dataset at /home/shana92/.cache/huggingface/datasets/anli/plain_text/0.1.0/aabce88453b06dff21c201855ea83283bab0390bff746deadb30b65695755c0b/cache-1c80317fa3b1799d.arrow\n",
      "Loading cached processed dataset at /home/shana92/.cache/huggingface/datasets/anli/plain_text/0.1.0/aabce88453b06dff21c201855ea83283bab0390bff746deadb30b65695755c0b/cache-bdd640fb06671ad1.arrow\n",
      "Loading cached processed dataset at /home/shana92/.cache/huggingface/datasets/anli/plain_text/0.1.0/aabce88453b06dff21c201855ea83283bab0390bff746deadb30b65695755c0b/cache-9a90de1e791ac553.arrow\n"
     ]
    },
    {
     "name": "stdout",
     "output_type": "stream",
     "text": [
      "Split: train_r1 - 446 (2.703030%) sequences excluded\n"
     ]
    },
    {
     "data": {
      "application/vnd.jupyter.widget-view+json": {
       "model_id": "db6d90a275e04922ae6df6ebd94b56ae",
       "version_major": 2,
       "version_minor": 0
      },
      "text/plain": [
       "  0%|          | 0/258 [00:00<?, ?it/s]"
      ]
     },
     "metadata": {},
     "output_type": "display_data"
    },
    {
     "name": "stdout",
     "output_type": "stream",
     "text": [
      "loss: 0.662190  [    0/16500]\n",
      "loss: 0.684524  [ 1600/16500]\n",
      "loss: 0.627868  [ 3200/16500]\n",
      "loss: 0.631673  [ 4800/16500]\n",
      "loss: 0.619842  [ 6400/16500]\n",
      "loss: 0.622510  [ 8000/16500]\n",
      "loss: 0.589818  [ 9600/16500]\n",
      "loss: 0.639176  [11200/16500]\n",
      "loss: 0.620326  [12800/16500]\n",
      "loss: 0.632369  [14400/16500]\n",
      "loss: 0.650170  [16000/16500]\n",
      "Epoch average loss: 0.629946231842041\n"
     ]
    },
    {
     "data": {
      "application/vnd.jupyter.widget-view+json": {
       "model_id": "908db407f74e4398829f11fdea21d6fd",
       "version_major": 2,
       "version_minor": 0
      },
      "text/plain": [
       "  0%|          | 0/258 [00:00<?, ?it/s]"
      ]
     },
     "metadata": {},
     "output_type": "display_data"
    },
    {
     "name": "stdout",
     "output_type": "stream",
     "text": [
      "loss: 0.626826  [    0/16500]\n",
      "loss: 0.637085  [ 1600/16500]\n",
      "loss: 0.614172  [ 3200/16500]\n",
      "loss: 0.588634  [ 4800/16500]\n",
      "loss: 0.615306  [ 6400/16500]\n",
      "loss: 0.623370  [ 8000/16500]\n",
      "loss: 0.623684  [ 9600/16500]\n",
      "loss: 0.600798  [11200/16500]\n",
      "loss: 0.625641  [12800/16500]\n",
      "loss: 0.628761  [14400/16500]\n",
      "loss: 0.568816  [16000/16500]\n",
      "Epoch average loss: 0.6183813810348511\n"
     ]
    },
    {
     "data": {
      "application/vnd.jupyter.widget-view+json": {
       "model_id": "3ad74e8147424e2e9a3a9a4d4b6fa0d3",
       "version_major": 2,
       "version_minor": 0
      },
      "text/plain": [
       "  0%|          | 0/258 [00:00<?, ?it/s]"
      ]
     },
     "metadata": {},
     "output_type": "display_data"
    },
    {
     "name": "stdout",
     "output_type": "stream",
     "text": [
      "loss: 0.604350  [    0/16500]\n",
      "loss: 0.601835  [ 1600/16500]\n",
      "loss: 0.603542  [ 3200/16500]\n",
      "loss: 0.612788  [ 4800/16500]\n",
      "loss: 0.580942  [ 6400/16500]\n",
      "loss: 0.586551  [ 8000/16500]\n",
      "loss: 0.592043  [ 9600/16500]\n",
      "loss: 0.590704  [11200/16500]\n",
      "loss: 0.625573  [12800/16500]\n",
      "loss: 0.607084  [14400/16500]\n",
      "loss: 0.575626  [16000/16500]\n",
      "Epoch average loss: 0.6013104319572449\n",
      "Done!\n"
     ]
    },
    {
     "name": "stderr",
     "output_type": "stream",
     "text": [
      "Reusing dataset anli (/home/shana92/.cache/huggingface/datasets/anli/plain_text/0.1.0/aabce88453b06dff21c201855ea83283bab0390bff746deadb30b65695755c0b)\n",
      "Loading cached processed dataset at /home/shana92/.cache/huggingface/datasets/anli/plain_text/0.1.0/aabce88453b06dff21c201855ea83283bab0390bff746deadb30b65695755c0b/cache-3eb13b9046685257.arrow\n",
      "Loading cached processed dataset at /home/shana92/.cache/huggingface/datasets/anli/plain_text/0.1.0/aabce88453b06dff21c201855ea83283bab0390bff746deadb30b65695755c0b/cache-23b8c1e9392456de.arrow\n",
      "Loading cached processed dataset at /home/shana92/.cache/huggingface/datasets/anli/plain_text/0.1.0/aabce88453b06dff21c201855ea83283bab0390bff746deadb30b65695755c0b/cache-7edfd81a366fc563.arrow\n"
     ]
    },
    {
     "name": "stdout",
     "output_type": "stream",
     "text": [
      "Split: test_r1 - 23 (2.354145%) sequences excluded\n"
     ]
    },
    {
     "data": {
      "application/vnd.jupyter.widget-view+json": {
       "model_id": "d3f8804d14aa4fae809b668ea19f66e4",
       "version_major": 2,
       "version_minor": 0
      },
      "text/plain": [
       "  0%|          | 0/16 [00:00<?, ?it/s]"
      ]
     },
     "metadata": {},
     "output_type": "display_data"
    },
    {
     "name": "stdout",
     "output_type": "stream",
     "text": [
      "Round: r1 - Model: Unfiltered - Accuracy: 32.139203%, RK: -0.026607\n"
     ]
    },
    {
     "name": "stderr",
     "output_type": "stream",
     "text": [
      "Reusing dataset anli (/home/shana92/.cache/huggingface/datasets/anli/plain_text/0.1.0/aabce88453b06dff21c201855ea83283bab0390bff746deadb30b65695755c0b)\n",
      "Loading cached processed dataset at /home/shana92/.cache/huggingface/datasets/anli/plain_text/0.1.0/aabce88453b06dff21c201855ea83283bab0390bff746deadb30b65695755c0b/cache-1a3d1fa7bc8960a9.arrow\n",
      "Loading cached processed dataset at /home/shana92/.cache/huggingface/datasets/anli/plain_text/0.1.0/aabce88453b06dff21c201855ea83283bab0390bff746deadb30b65695755c0b/cache-bd9c66b3ad3c2d6d.arrow\n"
     ]
    },
    {
     "data": {
      "application/vnd.jupyter.widget-view+json": {
       "model_id": "6115d31c02fb4b95aec911f7a0879da2",
       "version_major": 2,
       "version_minor": 0
      },
      "text/plain": [
       "  0%|          | 0/46 [00:00<?, ?ba/s]"
      ]
     },
     "metadata": {},
     "output_type": "display_data"
    },
    {
     "name": "stdout",
     "output_type": "stream",
     "text": [
      "Split: train_r2 - 944 (2.120586%) sequences excluded\n"
     ]
    },
    {
     "data": {
      "application/vnd.jupyter.widget-view+json": {
       "model_id": "4c3c98d090ec4dd29c9b7d66289848e2",
       "version_major": 2,
       "version_minor": 0
      },
      "text/plain": [
       "  0%|          | 0/696 [00:00<?, ?it/s]"
      ]
     },
     "metadata": {},
     "output_type": "display_data"
    },
    {
     "name": "stdout",
     "output_type": "stream",
     "text": [
      "loss: 0.661627  [    0/44516]\n",
      "loss: 0.639557  [ 4416/44516]\n",
      "loss: 0.607458  [ 8832/44516]\n",
      "loss: 0.566478  [13248/44516]\n",
      "loss: 0.598534  [17664/44516]\n",
      "loss: 0.622622  [22080/44516]\n",
      "loss: 0.621659  [26496/44516]\n",
      "loss: 0.568870  [30912/44516]\n",
      "loss: 0.628582  [35328/44516]\n",
      "loss: 0.621225  [39744/44516]\n",
      "loss: 0.562283  [44160/44516]\n",
      "Epoch average loss: 0.6068109273910522\n"
     ]
    },
    {
     "data": {
      "application/vnd.jupyter.widget-view+json": {
       "model_id": "22a46d4020f546c3b6f0f3cf412ba4f9",
       "version_major": 2,
       "version_minor": 0
      },
      "text/plain": [
       "  0%|          | 0/696 [00:00<?, ?it/s]"
      ]
     },
     "metadata": {},
     "output_type": "display_data"
    },
    {
     "name": "stdout",
     "output_type": "stream",
     "text": [
      "loss: 0.617732  [    0/44516]\n",
      "loss: 0.565455  [ 4416/44516]\n",
      "loss: 0.622436  [ 8832/44516]\n",
      "loss: 0.557771  [13248/44516]\n",
      "loss: 0.593824  [17664/44516]\n",
      "loss: 0.683575  [22080/44516]\n",
      "loss: 0.525310  [26496/44516]\n",
      "loss: 0.525068  [30912/44516]\n",
      "loss: 0.564386  [35328/44516]\n",
      "loss: 0.536801  [39744/44516]\n",
      "loss: 0.576559  [44160/44516]\n",
      "Epoch average loss: 0.5746095180511475\n"
     ]
    },
    {
     "data": {
      "application/vnd.jupyter.widget-view+json": {
       "model_id": "07a680b3ca6d45c4889f812b4be0392f",
       "version_major": 2,
       "version_minor": 0
      },
      "text/plain": [
       "  0%|          | 0/696 [00:00<?, ?it/s]"
      ]
     },
     "metadata": {},
     "output_type": "display_data"
    },
    {
     "name": "stdout",
     "output_type": "stream",
     "text": [
      "loss: 0.595745  [    0/44516]\n",
      "loss: 0.561534  [ 4416/44516]\n",
      "loss: 0.536243  [ 8832/44516]\n",
      "loss: 0.586561  [13248/44516]\n",
      "loss: 0.552988  [17664/44516]\n",
      "loss: 0.468478  [22080/44516]\n",
      "loss: 0.522253  [26496/44516]\n",
      "loss: 0.528718  [30912/44516]\n",
      "loss: 0.570660  [35328/44516]\n",
      "loss: 0.481175  [39744/44516]\n",
      "loss: 0.555486  [44160/44516]\n",
      "Epoch average loss: 0.5410431623458862\n",
      "Done!\n"
     ]
    },
    {
     "name": "stderr",
     "output_type": "stream",
     "text": [
      "Reusing dataset anli (/home/shana92/.cache/huggingface/datasets/anli/plain_text/0.1.0/aabce88453b06dff21c201855ea83283bab0390bff746deadb30b65695755c0b)\n",
      "Loading cached processed dataset at /home/shana92/.cache/huggingface/datasets/anli/plain_text/0.1.0/aabce88453b06dff21c201855ea83283bab0390bff746deadb30b65695755c0b/cache-8b9d2434e465e150.arrow\n",
      "Loading cached processed dataset at /home/shana92/.cache/huggingface/datasets/anli/plain_text/0.1.0/aabce88453b06dff21c201855ea83283bab0390bff746deadb30b65695755c0b/cache-972a846916419f82.arrow\n"
     ]
    },
    {
     "data": {
      "application/vnd.jupyter.widget-view+json": {
       "model_id": "c0dc409b1e1344aba0c9708a8aabd55f",
       "version_major": 2,
       "version_minor": 0
      },
      "text/plain": [
       "  0%|          | 0/1 [00:00<?, ?ba/s]"
      ]
     },
     "metadata": {},
     "output_type": "display_data"
    },
    {
     "name": "stdout",
     "output_type": "stream",
     "text": [
      "Split: test_r2 - 18 (1.832994%) sequences excluded\n"
     ]
    },
    {
     "data": {
      "application/vnd.jupyter.widget-view+json": {
       "model_id": "776824e98ba543d6b9dda0fda6db69f3",
       "version_major": 2,
       "version_minor": 0
      },
      "text/plain": [
       "  0%|          | 0/16 [00:00<?, ?it/s]"
      ]
     },
     "metadata": {},
     "output_type": "display_data"
    },
    {
     "name": "stdout",
     "output_type": "stream",
     "text": [
      "Round: r2 - Model: Unfiltered - Accuracy: 32.281059%, RK: -0.017092\n"
     ]
    },
    {
     "name": "stderr",
     "output_type": "stream",
     "text": [
      "Reusing dataset anli (/home/shana92/.cache/huggingface/datasets/anli/plain_text/0.1.0/aabce88453b06dff21c201855ea83283bab0390bff746deadb30b65695755c0b)\n",
      "Loading cached processed dataset at /home/shana92/.cache/huggingface/datasets/anli/plain_text/0.1.0/aabce88453b06dff21c201855ea83283bab0390bff746deadb30b65695755c0b/cache-0822e8f36c031199.arrow\n",
      "Loading cached processed dataset at /home/shana92/.cache/huggingface/datasets/anli/plain_text/0.1.0/aabce88453b06dff21c201855ea83283bab0390bff746deadb30b65695755c0b/cache-17fc695a07a0ca6e.arrow\n"
     ]
    },
    {
     "data": {
      "application/vnd.jupyter.widget-view+json": {
       "model_id": "9189fc496f964877809a48e5c03dedf0",
       "version_major": 2,
       "version_minor": 0
      },
      "text/plain": [
       "  0%|          | 0/101 [00:00<?, ?ba/s]"
      ]
     },
     "metadata": {},
     "output_type": "display_data"
    },
    {
     "name": "stdout",
     "output_type": "stream",
     "text": [
      "Split: train_r3 - 7468 (8.030885%) sequences excluded\n"
     ]
    },
    {
     "data": {
      "application/vnd.jupyter.widget-view+json": {
       "model_id": "b6cd30c6506c48438de87e565e1a8936",
       "version_major": 2,
       "version_minor": 0
      },
      "text/plain": [
       "  0%|          | 0/1453 [00:00<?, ?it/s]"
      ]
     },
     "metadata": {},
     "output_type": "display_data"
    },
    {
     "name": "stdout",
     "output_type": "stream",
     "text": [
      "loss: 0.649782  [    0/92991]\n",
      "loss: 0.629987  [ 9280/92991]\n",
      "loss: 0.622221  [18560/92991]\n",
      "loss: 0.555973  [27840/92991]\n",
      "loss: 0.536686  [37120/92991]\n",
      "loss: 0.569254  [46400/92991]\n",
      "loss: 0.604832  [55680/92991]\n",
      "loss: 0.654975  [64960/92991]\n",
      "loss: 0.556073  [74240/92991]\n",
      "loss: 0.564328  [83520/92991]\n",
      "loss: 0.563100  [92800/92991]\n",
      "Epoch average loss: 0.5865782499313354\n"
     ]
    },
    {
     "data": {
      "application/vnd.jupyter.widget-view+json": {
       "model_id": "037b52391eed40cc93122fb49a747d07",
       "version_major": 2,
       "version_minor": 0
      },
      "text/plain": [
       "  0%|          | 0/1453 [00:00<?, ?it/s]"
      ]
     },
     "metadata": {},
     "output_type": "display_data"
    },
    {
     "name": "stdout",
     "output_type": "stream",
     "text": [
      "loss: 0.568452  [    0/92991]\n",
      "loss: 0.580404  [ 9280/92991]\n",
      "loss: 0.562465  [18560/92991]\n",
      "loss: 0.577402  [27840/92991]\n",
      "loss: 0.538368  [37120/92991]\n",
      "loss: 0.545005  [46400/92991]\n",
      "loss: 0.649020  [55680/92991]\n",
      "loss: 0.619443  [64960/92991]\n",
      "loss: 0.530617  [74240/92991]\n",
      "loss: 0.541208  [83520/92991]\n",
      "loss: 0.527690  [92800/92991]\n",
      "Epoch average loss: 0.5556570291519165\n"
     ]
    },
    {
     "data": {
      "application/vnd.jupyter.widget-view+json": {
       "model_id": "923a057cab6b486b8ea7486756349d7d",
       "version_major": 2,
       "version_minor": 0
      },
      "text/plain": [
       "  0%|          | 0/1453 [00:00<?, ?it/s]"
      ]
     },
     "metadata": {},
     "output_type": "display_data"
    },
    {
     "name": "stdout",
     "output_type": "stream",
     "text": [
      "loss: 0.502693  [    0/92991]\n",
      "loss: 0.563620  [ 9280/92991]\n",
      "loss: 0.554028  [18560/92991]\n",
      "loss: 0.487002  [27840/92991]\n",
      "loss: 0.524226  [37120/92991]\n",
      "loss: 0.511838  [46400/92991]\n",
      "loss: 0.462878  [55680/92991]\n",
      "loss: 0.546365  [64960/92991]\n",
      "loss: 0.567102  [74240/92991]\n",
      "loss: 0.504202  [83520/92991]\n",
      "loss: 0.564119  [92800/92991]\n",
      "Epoch average loss: 0.5241260528564453\n",
      "Done!\n"
     ]
    },
    {
     "name": "stderr",
     "output_type": "stream",
     "text": [
      "Reusing dataset anli (/home/shana92/.cache/huggingface/datasets/anli/plain_text/0.1.0/aabce88453b06dff21c201855ea83283bab0390bff746deadb30b65695755c0b)\n",
      "Loading cached processed dataset at /home/shana92/.cache/huggingface/datasets/anli/plain_text/0.1.0/aabce88453b06dff21c201855ea83283bab0390bff746deadb30b65695755c0b/cache-3b8faa1837f8a88b.arrow\n",
      "Loading cached processed dataset at /home/shana92/.cache/huggingface/datasets/anli/plain_text/0.1.0/aabce88453b06dff21c201855ea83283bab0390bff746deadb30b65695755c0b/cache-9a1de644815ef6d1.arrow\n"
     ]
    },
    {
     "data": {
      "application/vnd.jupyter.widget-view+json": {
       "model_id": "e10c1f7678484d63936dfe0990a6b572",
       "version_major": 2,
       "version_minor": 0
      },
      "text/plain": [
       "  0%|          | 0/2 [00:00<?, ?ba/s]"
      ]
     },
     "metadata": {},
     "output_type": "display_data"
    },
    {
     "name": "stdout",
     "output_type": "stream",
     "text": [
      "Split: test_r3 - 90 (8.108108%) sequences excluded\n"
     ]
    },
    {
     "data": {
      "application/vnd.jupyter.widget-view+json": {
       "model_id": "16d8f0ca520540f2af5da24e19a6dc40",
       "version_major": 2,
       "version_minor": 0
      },
      "text/plain": [
       "  0%|          | 0/18 [00:00<?, ?it/s]"
      ]
     },
     "metadata": {},
     "output_type": "display_data"
    },
    {
     "name": "stdout",
     "output_type": "stream",
     "text": [
      "Round: r3 - Model: Unfiltered - Accuracy: 34.954956%, RK: 0.022752\n"
     ]
    },
    {
     "name": "stderr",
     "output_type": "stream",
     "text": [
      "Reusing dataset anli (/home/shana92/.cache/huggingface/datasets/anli/plain_text/0.1.0/aabce88453b06dff21c201855ea83283bab0390bff746deadb30b65695755c0b)\n"
     ]
    },
    {
     "data": {
      "application/vnd.jupyter.widget-view+json": {
       "model_id": "582558f4ccc640c1b5e244aa2c49c3f1",
       "version_major": 2,
       "version_minor": 0
      },
      "text/plain": [
       "  0%|          | 0/17 [00:00<?, ?ba/s]"
      ]
     },
     "metadata": {},
     "output_type": "display_data"
    },
    {
     "data": {
      "application/vnd.jupyter.widget-view+json": {
       "model_id": "b1376feed42244a3a6c514bddf3ba60c",
       "version_major": 2,
       "version_minor": 0
      },
      "text/plain": [
       "  0%|          | 0/16946 [00:00<?, ?ex/s]"
      ]
     },
     "metadata": {},
     "output_type": "display_data"
    },
    {
     "data": {
      "application/vnd.jupyter.widget-view+json": {
       "model_id": "bd1dbd1c45f2447882a21409c94e4526",
       "version_major": 2,
       "version_minor": 0
      },
      "text/plain": [
       "  0%|          | 0/17 [00:00<?, ?ba/s]"
      ]
     },
     "metadata": {},
     "output_type": "display_data"
    },
    {
     "name": "stdout",
     "output_type": "stream",
     "text": [
      "Split: train_r1 - 446 (2.703030%) sequences excluded\n"
     ]
    },
    {
     "data": {
      "application/vnd.jupyter.widget-view+json": {
       "model_id": "059276bd3b224dcc9b145e843e1232e3",
       "version_major": 2,
       "version_minor": 0
      },
      "text/plain": [
       "  0%|          | 0/258 [00:00<?, ?it/s]"
      ]
     },
     "metadata": {},
     "output_type": "display_data"
    },
    {
     "name": "stdout",
     "output_type": "stream",
     "text": [
      "loss: 0.642953  [    0/16500]\n",
      "loss: 0.640017  [ 1600/16500]\n",
      "loss: 0.620945  [ 3200/16500]\n",
      "loss: 0.632540  [ 4800/16500]\n",
      "loss: 0.658361  [ 6400/16500]\n",
      "loss: 0.613115  [ 8000/16500]\n",
      "loss: 0.620597  [ 9600/16500]\n",
      "loss: 0.641272  [11200/16500]\n",
      "loss: 0.631798  [12800/16500]\n",
      "loss: 0.609118  [14400/16500]\n",
      "loss: 0.614423  [16000/16500]\n",
      "Epoch average loss: 0.6336648464202881\n"
     ]
    },
    {
     "data": {
      "application/vnd.jupyter.widget-view+json": {
       "model_id": "31a096a07b0b43ceaf7f088af5ab184e",
       "version_major": 2,
       "version_minor": 0
      },
      "text/plain": [
       "  0%|          | 0/258 [00:00<?, ?it/s]"
      ]
     },
     "metadata": {},
     "output_type": "display_data"
    },
    {
     "name": "stdout",
     "output_type": "stream",
     "text": [
      "loss: 0.632271  [    0/16500]\n",
      "loss: 0.604586  [ 1600/16500]\n",
      "loss: 0.633499  [ 3200/16500]\n",
      "loss: 0.629539  [ 4800/16500]\n",
      "loss: 0.628619  [ 6400/16500]\n",
      "loss: 0.623759  [ 8000/16500]\n",
      "loss: 0.624003  [ 9600/16500]\n",
      "loss: 0.604767  [11200/16500]\n",
      "loss: 0.617369  [12800/16500]\n",
      "loss: 0.627418  [14400/16500]\n",
      "loss: 0.596394  [16000/16500]\n",
      "Epoch average loss: 0.623264729976654\n"
     ]
    },
    {
     "data": {
      "application/vnd.jupyter.widget-view+json": {
       "model_id": "0e33e3e63d7940feaebd745346951b73",
       "version_major": 2,
       "version_minor": 0
      },
      "text/plain": [
       "  0%|          | 0/258 [00:00<?, ?it/s]"
      ]
     },
     "metadata": {},
     "output_type": "display_data"
    },
    {
     "name": "stdout",
     "output_type": "stream",
     "text": [
      "loss: 0.607398  [    0/16500]\n",
      "loss: 0.606147  [ 1600/16500]\n",
      "loss: 0.602473  [ 3200/16500]\n",
      "loss: 0.625929  [ 4800/16500]\n",
      "loss: 0.592740  [ 6400/16500]\n",
      "loss: 0.628374  [ 8000/16500]\n",
      "loss: 0.610486  [ 9600/16500]\n",
      "loss: 0.604055  [11200/16500]\n",
      "loss: 0.601393  [12800/16500]\n",
      "loss: 0.618940  [14400/16500]\n",
      "loss: 0.612677  [16000/16500]\n",
      "Epoch average loss: 0.6106846928596497\n",
      "Done!\n"
     ]
    },
    {
     "name": "stderr",
     "output_type": "stream",
     "text": [
      "Reusing dataset anli (/home/shana92/.cache/huggingface/datasets/anli/plain_text/0.1.0/aabce88453b06dff21c201855ea83283bab0390bff746deadb30b65695755c0b)\n"
     ]
    },
    {
     "data": {
      "application/vnd.jupyter.widget-view+json": {
       "model_id": "7c9908ea83324d01a700f181de5f6ac6",
       "version_major": 2,
       "version_minor": 0
      },
      "text/plain": [
       "  0%|          | 0/1 [00:00<?, ?ba/s]"
      ]
     },
     "metadata": {},
     "output_type": "display_data"
    },
    {
     "data": {
      "application/vnd.jupyter.widget-view+json": {
       "model_id": "8628d9dcd1254f6b840424ad0c3a3740",
       "version_major": 2,
       "version_minor": 0
      },
      "text/plain": [
       "  0%|          | 0/1000 [00:00<?, ?ex/s]"
      ]
     },
     "metadata": {},
     "output_type": "display_data"
    },
    {
     "data": {
      "application/vnd.jupyter.widget-view+json": {
       "model_id": "75d153d714184559a475a75a1cbb3be6",
       "version_major": 2,
       "version_minor": 0
      },
      "text/plain": [
       "  0%|          | 0/1 [00:00<?, ?ba/s]"
      ]
     },
     "metadata": {},
     "output_type": "display_data"
    },
    {
     "name": "stdout",
     "output_type": "stream",
     "text": [
      "Split: test_r1 - 23 (2.354145%) sequences excluded\n"
     ]
    },
    {
     "data": {
      "application/vnd.jupyter.widget-view+json": {
       "model_id": "3ca51b75616b4a53b38e6c82196496b7",
       "version_major": 2,
       "version_minor": 0
      },
      "text/plain": [
       "  0%|          | 0/16 [00:00<?, ?it/s]"
      ]
     },
     "metadata": {},
     "output_type": "display_data"
    },
    {
     "name": "stdout",
     "output_type": "stream",
     "text": [
      "Round: r1 - Model: Random 190k Subset - Accuracy: 31.320369%, RK: -0.037414\n"
     ]
    },
    {
     "name": "stderr",
     "output_type": "stream",
     "text": [
      "Reusing dataset anli (/home/shana92/.cache/huggingface/datasets/anli/plain_text/0.1.0/aabce88453b06dff21c201855ea83283bab0390bff746deadb30b65695755c0b)\n"
     ]
    },
    {
     "data": {
      "application/vnd.jupyter.widget-view+json": {
       "model_id": "1f0b2e11c362409f86af2c2b768f3256",
       "version_major": 2,
       "version_minor": 0
      },
      "text/plain": [
       "  0%|          | 0/46 [00:00<?, ?ba/s]"
      ]
     },
     "metadata": {},
     "output_type": "display_data"
    },
    {
     "data": {
      "application/vnd.jupyter.widget-view+json": {
       "model_id": "2549dddfa635409a8b0103cdab5eccbf",
       "version_major": 2,
       "version_minor": 0
      },
      "text/plain": [
       "  0%|          | 0/45460 [00:00<?, ?ex/s]"
      ]
     },
     "metadata": {},
     "output_type": "display_data"
    },
    {
     "data": {
      "application/vnd.jupyter.widget-view+json": {
       "model_id": "86ba7824073c40e48ef9c8196f462f58",
       "version_major": 2,
       "version_minor": 0
      },
      "text/plain": [
       "  0%|          | 0/46 [00:00<?, ?ba/s]"
      ]
     },
     "metadata": {},
     "output_type": "display_data"
    },
    {
     "name": "stdout",
     "output_type": "stream",
     "text": [
      "Split: train_r2 - 944 (2.120586%) sequences excluded\n"
     ]
    },
    {
     "data": {
      "application/vnd.jupyter.widget-view+json": {
       "model_id": "4143d33b51af49539d3185a33381588f",
       "version_major": 2,
       "version_minor": 0
      },
      "text/plain": [
       "  0%|          | 0/696 [00:00<?, ?it/s]"
      ]
     },
     "metadata": {},
     "output_type": "display_data"
    },
    {
     "name": "stdout",
     "output_type": "stream",
     "text": [
      "loss: 0.617604  [    0/44516]\n",
      "loss: 0.571803  [ 4416/44516]\n",
      "loss: 0.627500  [ 8832/44516]\n",
      "loss: 0.598281  [13248/44516]\n",
      "loss: 0.607201  [17664/44516]\n",
      "loss: 0.646916  [22080/44516]\n",
      "loss: 0.626570  [26496/44516]\n",
      "loss: 0.651115  [30912/44516]\n",
      "loss: 0.639319  [35328/44516]\n",
      "loss: 0.585977  [39744/44516]\n",
      "loss: 0.578139  [44160/44516]\n",
      "Epoch average loss: 0.6121343970298767\n"
     ]
    },
    {
     "data": {
      "application/vnd.jupyter.widget-view+json": {
       "model_id": "763d866ca5604d41b6905e4a4d23508d",
       "version_major": 2,
       "version_minor": 0
      },
      "text/plain": [
       "  0%|          | 0/696 [00:00<?, ?it/s]"
      ]
     },
     "metadata": {},
     "output_type": "display_data"
    },
    {
     "name": "stdout",
     "output_type": "stream",
     "text": [
      "loss: 0.577696  [    0/44516]\n",
      "loss: 0.598935  [ 4416/44516]\n",
      "loss: 0.606488  [ 8832/44516]\n",
      "loss: 0.594637  [13248/44516]\n",
      "loss: 0.599124  [17664/44516]\n",
      "loss: 0.579397  [22080/44516]\n",
      "loss: 0.573437  [26496/44516]\n",
      "loss: 0.628968  [30912/44516]\n",
      "loss: 0.574040  [35328/44516]\n",
      "loss: 0.581816  [39744/44516]\n",
      "loss: 0.532921  [44160/44516]\n",
      "Epoch average loss: 0.5869357585906982\n"
     ]
    },
    {
     "data": {
      "application/vnd.jupyter.widget-view+json": {
       "model_id": "5fa05c2fe2554326982172ff684e717e",
       "version_major": 2,
       "version_minor": 0
      },
      "text/plain": [
       "  0%|          | 0/696 [00:00<?, ?it/s]"
      ]
     },
     "metadata": {},
     "output_type": "display_data"
    },
    {
     "name": "stdout",
     "output_type": "stream",
     "text": [
      "loss: 0.621207  [    0/44516]\n",
      "loss: 0.516411  [ 4416/44516]\n",
      "loss: 0.537725  [ 8832/44516]\n",
      "loss: 0.578803  [13248/44516]\n",
      "loss: 0.537030  [17664/44516]\n",
      "loss: 0.614550  [22080/44516]\n",
      "loss: 0.554960  [26496/44516]\n",
      "loss: 0.561645  [30912/44516]\n",
      "loss: 0.592638  [35328/44516]\n",
      "loss: 0.500187  [39744/44516]\n",
      "loss: 0.537129  [44160/44516]\n",
      "Epoch average loss: 0.5558214783668518\n",
      "Done!\n"
     ]
    },
    {
     "name": "stderr",
     "output_type": "stream",
     "text": [
      "Reusing dataset anli (/home/shana92/.cache/huggingface/datasets/anli/plain_text/0.1.0/aabce88453b06dff21c201855ea83283bab0390bff746deadb30b65695755c0b)\n"
     ]
    },
    {
     "data": {
      "application/vnd.jupyter.widget-view+json": {
       "model_id": "852fe618cbfd46198814cef46472dc84",
       "version_major": 2,
       "version_minor": 0
      },
      "text/plain": [
       "  0%|          | 0/1 [00:00<?, ?ba/s]"
      ]
     },
     "metadata": {},
     "output_type": "display_data"
    },
    {
     "data": {
      "application/vnd.jupyter.widget-view+json": {
       "model_id": "87e6517a5c2449d4b3d236ffe588b1bb",
       "version_major": 2,
       "version_minor": 0
      },
      "text/plain": [
       "  0%|          | 0/1000 [00:00<?, ?ex/s]"
      ]
     },
     "metadata": {},
     "output_type": "display_data"
    },
    {
     "data": {
      "application/vnd.jupyter.widget-view+json": {
       "model_id": "b5e989c3b328476a8c9fe7b480a755ce",
       "version_major": 2,
       "version_minor": 0
      },
      "text/plain": [
       "  0%|          | 0/1 [00:00<?, ?ba/s]"
      ]
     },
     "metadata": {},
     "output_type": "display_data"
    },
    {
     "name": "stdout",
     "output_type": "stream",
     "text": [
      "Split: test_r2 - 18 (1.832994%) sequences excluded\n"
     ]
    },
    {
     "data": {
      "application/vnd.jupyter.widget-view+json": {
       "model_id": "2a14d26573ad4ad990c764ce4c2c8e05",
       "version_major": 2,
       "version_minor": 0
      },
      "text/plain": [
       "  0%|          | 0/16 [00:00<?, ?it/s]"
      ]
     },
     "metadata": {},
     "output_type": "display_data"
    },
    {
     "name": "stdout",
     "output_type": "stream",
     "text": [
      "Round: r2 - Model: Random 190k Subset - Accuracy: 33.299389%, RK: -0.001673\n"
     ]
    },
    {
     "name": "stderr",
     "output_type": "stream",
     "text": [
      "Reusing dataset anli (/home/shana92/.cache/huggingface/datasets/anli/plain_text/0.1.0/aabce88453b06dff21c201855ea83283bab0390bff746deadb30b65695755c0b)\n"
     ]
    },
    {
     "data": {
      "application/vnd.jupyter.widget-view+json": {
       "model_id": "9a59c53477c842448730c361a6bb96bd",
       "version_major": 2,
       "version_minor": 0
      },
      "text/plain": [
       "  0%|          | 0/101 [00:00<?, ?ba/s]"
      ]
     },
     "metadata": {},
     "output_type": "display_data"
    },
    {
     "data": {
      "application/vnd.jupyter.widget-view+json": {
       "model_id": "4a3c06a811764a31bfa39bdaa6194e49",
       "version_major": 2,
       "version_minor": 0
      },
      "text/plain": [
       "  0%|          | 0/100459 [00:00<?, ?ex/s]"
      ]
     },
     "metadata": {},
     "output_type": "display_data"
    },
    {
     "data": {
      "application/vnd.jupyter.widget-view+json": {
       "model_id": "4cbdc8ead7fb44aaa6fda0729ff99247",
       "version_major": 2,
       "version_minor": 0
      },
      "text/plain": [
       "  0%|          | 0/101 [00:00<?, ?ba/s]"
      ]
     },
     "metadata": {},
     "output_type": "display_data"
    },
    {
     "name": "stdout",
     "output_type": "stream",
     "text": [
      "Split: train_r3 - 7468 (8.030885%) sequences excluded\n"
     ]
    },
    {
     "data": {
      "application/vnd.jupyter.widget-view+json": {
       "model_id": "86cebb5b42274541a57b5ed379d49440",
       "version_major": 2,
       "version_minor": 0
      },
      "text/plain": [
       "  0%|          | 0/1453 [00:00<?, ?it/s]"
      ]
     },
     "metadata": {},
     "output_type": "display_data"
    },
    {
     "name": "stdout",
     "output_type": "stream",
     "text": [
      "loss: 0.698562  [    0/92991]\n",
      "loss: 0.635315  [ 9280/92991]\n",
      "loss: 0.606245  [18560/92991]\n",
      "loss: 0.567960  [27840/92991]\n",
      "loss: 0.643162  [37120/92991]\n",
      "loss: 0.600711  [46400/92991]\n",
      "loss: 0.604694  [55680/92991]\n",
      "loss: 0.631606  [64960/92991]\n",
      "loss: 0.539954  [74240/92991]\n",
      "loss: 0.652034  [83520/92991]\n",
      "loss: 0.658233  [92800/92991]\n",
      "Epoch average loss: 0.6017566323280334\n"
     ]
    },
    {
     "data": {
      "application/vnd.jupyter.widget-view+json": {
       "model_id": "0e4a0929d99641e4997d9863419c968b",
       "version_major": 2,
       "version_minor": 0
      },
      "text/plain": [
       "  0%|          | 0/1453 [00:00<?, ?it/s]"
      ]
     },
     "metadata": {},
     "output_type": "display_data"
    },
    {
     "name": "stdout",
     "output_type": "stream",
     "text": [
      "loss: 0.619817  [    0/92991]\n",
      "loss: 0.595634  [ 9280/92991]\n",
      "loss: 0.562059  [18560/92991]\n",
      "loss: 0.578261  [27840/92991]\n",
      "loss: 0.568227  [37120/92991]\n",
      "loss: 0.533602  [46400/92991]\n",
      "loss: 0.578181  [55680/92991]\n",
      "loss: 0.527934  [64960/92991]\n",
      "loss: 0.542149  [74240/92991]\n",
      "loss: 0.519473  [83520/92991]\n",
      "loss: 0.545630  [92800/92991]\n",
      "Epoch average loss: 0.5744589567184448\n"
     ]
    },
    {
     "data": {
      "application/vnd.jupyter.widget-view+json": {
       "model_id": "2c605cb68f6f4b7986e011072cee8e59",
       "version_major": 2,
       "version_minor": 0
      },
      "text/plain": [
       "  0%|          | 0/1453 [00:00<?, ?it/s]"
      ]
     },
     "metadata": {},
     "output_type": "display_data"
    },
    {
     "name": "stdout",
     "output_type": "stream",
     "text": [
      "loss: 0.552824  [    0/92991]\n",
      "loss: 0.582559  [ 9280/92991]\n",
      "loss: 0.597908  [18560/92991]\n",
      "loss: 0.549712  [27840/92991]\n",
      "loss: 0.513818  [37120/92991]\n",
      "loss: 0.490071  [46400/92991]\n",
      "loss: 0.597688  [55680/92991]\n",
      "loss: 0.553266  [64960/92991]\n",
      "loss: 0.548793  [74240/92991]\n",
      "loss: 0.598288  [83520/92991]\n",
      "loss: 0.527880  [92800/92991]\n",
      "Epoch average loss: 0.5501933097839355\n",
      "Done!\n"
     ]
    },
    {
     "name": "stderr",
     "output_type": "stream",
     "text": [
      "Reusing dataset anli (/home/shana92/.cache/huggingface/datasets/anli/plain_text/0.1.0/aabce88453b06dff21c201855ea83283bab0390bff746deadb30b65695755c0b)\n"
     ]
    },
    {
     "data": {
      "application/vnd.jupyter.widget-view+json": {
       "model_id": "49bfd8d55d7f40bfa213ec0ff14c8f15",
       "version_major": 2,
       "version_minor": 0
      },
      "text/plain": [
       "  0%|          | 0/2 [00:00<?, ?ba/s]"
      ]
     },
     "metadata": {},
     "output_type": "display_data"
    },
    {
     "data": {
      "application/vnd.jupyter.widget-view+json": {
       "model_id": "a2f933c984484451a2bd06e2d89c79f4",
       "version_major": 2,
       "version_minor": 0
      },
      "text/plain": [
       "  0%|          | 0/1200 [00:00<?, ?ex/s]"
      ]
     },
     "metadata": {},
     "output_type": "display_data"
    },
    {
     "data": {
      "application/vnd.jupyter.widget-view+json": {
       "model_id": "eebece11fc694ba8a10392a87a511b4e",
       "version_major": 2,
       "version_minor": 0
      },
      "text/plain": [
       "  0%|          | 0/2 [00:00<?, ?ba/s]"
      ]
     },
     "metadata": {},
     "output_type": "display_data"
    },
    {
     "name": "stdout",
     "output_type": "stream",
     "text": [
      "Split: test_r3 - 90 (8.108108%) sequences excluded\n"
     ]
    },
    {
     "data": {
      "application/vnd.jupyter.widget-view+json": {
       "model_id": "aebaee2e6b0b4dcca7851332152d5374",
       "version_major": 2,
       "version_minor": 0
      },
      "text/plain": [
       "  0%|          | 0/18 [00:00<?, ?it/s]"
      ]
     },
     "metadata": {},
     "output_type": "display_data"
    },
    {
     "name": "stdout",
     "output_type": "stream",
     "text": [
      "Round: r3 - Model: Random 190k Subset - Accuracy: 34.504506%, RK: 0.015251\n"
     ]
    }
   ],
   "source": [
    "for model_name, file_name in models.items(): # two baseline models\n",
    "    \n",
    "    for rd in ['r1', 'r2', 'r3']: # rounds\n",
    "        \n",
    "        # fine-tune\n",
    "        tr = anli_data('train_' + rd, tokenizer)\n",
    "        tr_model = torch.load(file_name)\n",
    "        tr_dataloader = torch.utils.data.DataLoader(tr, batch_size=64, shuffle=True, collate_fn=data_collator)\n",
    "        optimizer = torch.optim.Adam(tr_model.parameters(), lr = 1e-5)\n",
    "        trained_classifier = train_classifier(tr_model, tr_dataloader, optimizer, device)\n",
    "        del tr\n",
    "        \n",
    "        # evaluate\n",
    "        te = anli_data('test_' + rd, tokenizer)\n",
    "        te_dataloader = torch.utils.data.DataLoader(te, batch_size=64, collate_fn=data_collator)\n",
    "        acc, rk = evaluate_acc_rk(trained_classifier, te_dataloader, device)\n",
    "        del te\n",
    "        del tr_model\n",
    "        print(f'Round: {rd} - Model: {model_name} - Accuracy: {acc*100:>3f}%, RK: {rk:>3f}')       "
   ]
  },
  {
   "cell_type": "code",
   "execution_count": null,
   "id": "232491ae",
   "metadata": {},
   "outputs": [],
   "source": []
  }
 ],
 "metadata": {
  "kernelspec": {
   "display_name": "Python 3 (ipykernel)",
   "language": "python",
   "name": "python3"
  },
  "language_info": {
   "codemirror_mode": {
    "name": "ipython",
    "version": 3
   },
   "file_extension": ".py",
   "mimetype": "text/x-python",
   "name": "python",
   "nbconvert_exporter": "python",
   "pygments_lexer": "ipython3",
   "version": "3.8.13"
  }
 },
 "nbformat": 4,
 "nbformat_minor": 5
}
