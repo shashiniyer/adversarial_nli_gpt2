{
 "cells": [
  {
   "cell_type": "markdown",
   "id": "8edbca70",
   "metadata": {},
   "source": [
    "# Objective: Use AFLite to greedily solve for $\\text{arg min}_{S \\subset \\mathcal{D}, ~|S| \\geq n}\\mathcal{R}(\\Phi, ~S, ~\\mathcal{M})$\n",
    "\n",
    "### 1. Imports and Global Settings"
   ]
  },
  {
   "cell_type": "code",
   "execution_count": 1,
   "id": "cfebceb7",
   "metadata": {},
   "outputs": [],
   "source": [
    "from datasets import load_dataset, disable_caching\n",
    "from transformers import GPT2TokenizerFast, DataCollatorWithPadding, set_seed\n",
    "import torch\n",
    "from torch.nn.functional import one_hot\n",
    "import copy\n",
    "import numpy as np\n",
    "import sys\n",
    "sys.path.append('..')\n",
    "from utils_ import tokenize, train_classifier, predict, select_k\n",
    "import pickle\n",
    "import itertools\n",
    "device = torch.device(\"cuda\") if torch.cuda.is_available() else torch.device(\"cpu\")\n",
    "set_seed(42)\n",
    "disable_caching()"
   ]
  },
  {
   "cell_type": "markdown",
   "id": "78053619",
   "metadata": {},
   "source": [
    "### 2. Pre-Processing\n",
    "- Get SNLI Dataset (Train fold) and shuffle it using the same seed as used for obtaining GPT-2 based Feature Representation (see notebook [Filtering_Part1.ipynb](https://github.com/shashiniyer/adversarial_nli_gpt2/blob/main/Filtering_Part1.ipynb))\n",
    "- Remove instances without gold standard labels, i.e., label = -1\n",
    "- One-hot encoding for labels\n",
    "- Partition data 10%/90%; use the 90% as `train`\n",
    "- Tokenise train"
   ]
  },
  {
   "cell_type": "code",
   "execution_count": 2,
   "id": "e62ad078",
   "metadata": {},
   "outputs": [
    {
     "name": "stderr",
     "output_type": "stream",
     "text": [
      "Reusing dataset snli (/home/shana92/.cache/huggingface/datasets/snli/plain_text/1.0.0/1f60b67533b65ae0275561ff7828aad5ee4282d0e6f844fd148d05d3c6ea251b)\n"
     ]
    },
    {
     "data": {
      "application/vnd.jupyter.widget-view+json": {
       "model_id": "c831388287e64dc9994a8ce04871ae95",
       "version_major": 2,
       "version_minor": 0
      },
      "text/plain": [
       "  0%|          | 0/551 [00:00<?, ?ba/s]"
      ]
     },
     "metadata": {},
     "output_type": "display_data"
    },
    {
     "data": {
      "application/vnd.jupyter.widget-view+json": {
       "model_id": "aa1f0a15bb1945fe8d6c977c62a06f75",
       "version_major": 2,
       "version_minor": 0
      },
      "text/plain": [
       "  0%|          | 0/550 [00:00<?, ?ba/s]"
      ]
     },
     "metadata": {},
     "output_type": "display_data"
    }
   ],
   "source": [
    "snli_train = load_dataset('snli', split = 'train').shuffle(seed = 42)\n",
    "snli_train = snli_train.filter(lambda x: x['label'] != -1).map( \\\n",
    "    lambda x: {'label': one_hot(torch.tensor(x['label']), 3).type(torch.float32).numpy()}, \\\n",
    "    batched = True)\n",
    "train = snli_train.select(range(int(len(snli_train)/10), len(snli_train)))"
   ]
  },
  {
   "cell_type": "code",
   "execution_count": 3,
   "id": "4e9d6a83",
   "metadata": {},
   "outputs": [],
   "source": [
    "# set up tokeniser\n",
    "# padding to left because GPT2 uses last token for prediction\n",
    "tokenizer = GPT2TokenizerFast.from_pretrained(\"gpt2-medium\", padding_side = 'left', \\\n",
    "                                              padding = True, truncation = True)\n",
    "tokenizer.pad_token = tokenizer.eos_token # pad with 'eos' token"
   ]
  },
  {
   "cell_type": "code",
   "execution_count": 4,
   "id": "2820639c",
   "metadata": {},
   "outputs": [
    {
     "data": {
      "application/vnd.jupyter.widget-view+json": {
       "model_id": "8b4499594a6e449daae2737d1314358d",
       "version_major": 2,
       "version_minor": 0
      },
      "text/plain": [
       "  0%|          | 0/494431 [00:00<?, ?ex/s]"
      ]
     },
     "metadata": {},
     "output_type": "display_data"
    },
    {
     "data": {
      "application/vnd.jupyter.widget-view+json": {
       "model_id": "96bf01b5d9f44dbba26493d316e78e6e",
       "version_major": 2,
       "version_minor": 0
      },
      "text/plain": [
       "  0%|          | 0/495 [00:00<?, ?ba/s]"
      ]
     },
     "metadata": {},
     "output_type": "display_data"
    }
   ],
   "source": [
    "# tokenize data\n",
    "train = train.map(lambda x: tokenize(tokenizer, x['premise'] + '|' + x['hypothesis']))\n",
    "len_bef_exclusion = len(train)\n",
    "\n",
    "# exclude instances with > 128 tokens\n",
    "train = train.filter(lambda x: x['exclude'] == False)\n",
    "len_aft_exclusion = len(train)\n",
    "\n",
    "# print message if instances were in fact excluded\n",
    "if len_bef_exclusion - len_aft_exclusion > 0:\n",
    "    \n",
    "    print(f'{len_bef_exclusion - len_aft_exclusion} ' + \\\n",
    "          f'({(len_bef_exclusion/len_aft_exclusion - 1)*100:>2f}%) sequences excluded')"
   ]
  },
  {
   "cell_type": "code",
   "execution_count": 5,
   "id": "12276e50",
   "metadata": {},
   "outputs": [],
   "source": [
    "# keep only needed columns, set data format to PyTorch\n",
    "train.set_format(type = 'torch', columns = ['label', 'input_ids', 'attention_mask'])"
   ]
  },
  {
   "cell_type": "markdown",
   "id": "efb6458a",
   "metadata": {},
   "source": [
    "### 3. Set up inputs for AFLite"
   ]
  },
  {
   "cell_type": "code",
   "execution_count": 6,
   "id": "7048b59f",
   "metadata": {},
   "outputs": [],
   "source": [
    "# load in the feature representation, Phi, with linear layer attached\n",
    "model = torch.load('feature_rep.pth')\n",
    "\n",
    "# move model to CPU\n",
    "model.to('cpu')\n",
    "\n",
    "# freeze all layers except the last\n",
    "num_layers = sum(1 for _ in model.parameters())\n",
    "for idx, param in enumerate(model.parameters()):\n",
    "    \n",
    "    if idx != num_layers - 1:\n",
    "        \n",
    "        # freeze\n",
    "        param.requires_grad = False"
   ]
  },
  {
   "cell_type": "code",
   "execution_count": 7,
   "id": "9e87074b",
   "metadata": {},
   "outputs": [],
   "source": [
    "# set up data collator - https://huggingface.co/docs/transformers/main_classes/data_collator\n",
    "# this is a (callable) helper object that sends batches of data to the model\n",
    "data_collator = DataCollatorWithPadding(tokenizer, padding = 'max_length', \\\n",
    "                                         return_tensors = 'pt', max_length = 128)"
   ]
  },
  {
   "cell_type": "code",
   "execution_count": 8,
   "id": "32c380ea",
   "metadata": {},
   "outputs": [],
   "source": [
    "# hyper-parameters - constrained by training time available\n",
    "m = 30\n",
    "n = 195000\n",
    "t = 50000\n",
    "k = 100000\n",
    "tau = 0.75\n",
    "AFLite_seeds = [0, 1, 2, 3, 4]"
   ]
  },
  {
   "cell_type": "code",
   "execution_count": 9,
   "id": "b7ff63fb",
   "metadata": {},
   "outputs": [],
   "source": [
    "# hyper-parameters for model training within AFLite implementation\n",
    "batch_size = 128 # constrained by GPU memory\n",
    "lr = 1e-5 # set to match Le et al. (2020) - https://arxiv.org/abs/2002.04108"
   ]
  },
  {
   "cell_type": "markdown",
   "id": "390eef5f",
   "metadata": {},
   "source": [
    "### 4.  AFLite Procedure"
   ]
  },
  {
   "cell_type": "code",
   "execution_count": null,
   "id": "25189fff",
   "metadata": {
    "scrolled": true
   },
   "outputs": [
    {
     "name": "stdout",
     "output_type": "stream",
     "text": [
      "Seed 0 - Iteration 1 - Model 1 - Begin\n"
     ]
    },
    {
     "data": {
      "application/vnd.jupyter.widget-view+json": {
       "model_id": "a794bd01746244f791835bbe5e7a2e74",
       "version_major": 2,
       "version_minor": 0
      },
      "text/plain": [
       "  0%|          | 0/391 [00:00<?, ?it/s]"
      ]
     },
     "metadata": {},
     "output_type": "display_data"
    },
    {
     "name": "stdout",
     "output_type": "stream",
     "text": [
      "loss: 0.351462  [    0/50000]\n",
      "loss: 0.339478  [ 4992/50000]\n",
      "loss: 0.323733  [ 9984/50000]\n",
      "loss: 0.371513  [14976/50000]\n",
      "loss: 0.327074  [19968/50000]\n",
      "loss: 0.414310  [24960/50000]\n",
      "loss: 0.360435  [29952/50000]\n",
      "loss: 0.316903  [34944/50000]\n",
      "loss: 0.329192  [39936/50000]\n",
      "loss: 0.394657  [44928/50000]\n",
      "loss: 0.372505  [31200/50000]\n",
      "Epoch average loss: 0.36408787965774536\n"
     ]
    },
    {
     "data": {
      "application/vnd.jupyter.widget-view+json": {
       "model_id": "b578ece3802a440ba88b5a245027f38a",
       "version_major": 2,
       "version_minor": 0
      },
      "text/plain": [
       "  0%|          | 0/391 [00:00<?, ?it/s]"
      ]
     },
     "metadata": {},
     "output_type": "display_data"
    },
    {
     "name": "stdout",
     "output_type": "stream",
     "text": [
      "loss: 0.384505  [    0/50000]\n",
      "loss: 0.419292  [ 4992/50000]\n",
      "loss: 0.439487  [ 9984/50000]\n",
      "loss: 0.422065  [14976/50000]\n",
      "loss: 0.387640  [19968/50000]\n",
      "loss: 0.368946  [24960/50000]\n",
      "loss: 0.349701  [29952/50000]\n",
      "loss: 0.391921  [34944/50000]\n",
      "loss: 0.347152  [39936/50000]\n",
      "loss: 0.438856  [44928/50000]\n",
      "loss: 0.348565  [31200/50000]\n",
      "Epoch average loss: 0.3647885024547577\n"
     ]
    },
    {
     "data": {
      "application/vnd.jupyter.widget-view+json": {
       "model_id": "64bf5fe12f714dc589c8618f08653887",
       "version_major": 2,
       "version_minor": 0
      },
      "text/plain": [
       "  0%|          | 0/391 [00:00<?, ?it/s]"
      ]
     },
     "metadata": {},
     "output_type": "display_data"
    },
    {
     "name": "stdout",
     "output_type": "stream",
     "text": [
      "loss: 0.370970  [    0/50000]\n",
      "loss: 0.397175  [ 4992/50000]\n",
      "loss: 0.425714  [ 9984/50000]\n",
      "loss: 0.365622  [14976/50000]\n",
      "loss: 0.376260  [19968/50000]\n",
      "loss: 0.401830  [24960/50000]\n",
      "loss: 0.397583  [29952/50000]\n",
      "loss: 0.368095  [34944/50000]\n",
      "loss: 0.393686  [39936/50000]\n",
      "loss: 0.346776  [44928/50000]\n",
      "loss: 0.398886  [31200/50000]\n",
      "Epoch average loss: 0.3642916977405548\n",
      "Done!\n"
     ]
    },
    {
     "data": {
      "application/vnd.jupyter.widget-view+json": {
       "model_id": "938f0be099b94ba5aa734e198b4d9f27",
       "version_major": 2,
       "version_minor": 0
      },
      "text/plain": [
       "  0%|          | 0/3473 [00:00<?, ?it/s]"
      ]
     },
     "metadata": {},
     "output_type": "display_data"
    },
    {
     "name": "stdout",
     "output_type": "stream",
     "text": [
      "Seed 0 - Iteration 1 - Model 1 - Done\n",
      "Seed 0 - Iteration 1 - Model 2 - Begin\n"
     ]
    },
    {
     "data": {
      "application/vnd.jupyter.widget-view+json": {
       "model_id": "0eecd96007a24112ba1f442b37fd7bac",
       "version_major": 2,
       "version_minor": 0
      },
      "text/plain": [
       "  0%|          | 0/391 [00:00<?, ?it/s]"
      ]
     },
     "metadata": {},
     "output_type": "display_data"
    },
    {
     "name": "stdout",
     "output_type": "stream",
     "text": [
      "loss: 0.452623  [    0/50000]\n",
      "loss: 0.356459  [ 4992/50000]\n",
      "loss: 0.327671  [ 9984/50000]\n",
      "loss: 0.355331  [14976/50000]\n",
      "loss: 0.380826  [19968/50000]\n",
      "loss: 0.385904  [24960/50000]\n",
      "loss: 0.325877  [29952/50000]\n",
      "loss: 0.453212  [34944/50000]\n",
      "loss: 0.400007  [39936/50000]\n",
      "loss: 0.353646  [44928/50000]\n",
      "loss: 0.425990  [31200/50000]\n",
      "Epoch average loss: 0.3637206256389618\n"
     ]
    },
    {
     "data": {
      "application/vnd.jupyter.widget-view+json": {
       "model_id": "46e10905543d4c4da83d9a8e0c84097d",
       "version_major": 2,
       "version_minor": 0
      },
      "text/plain": [
       "  0%|          | 0/391 [00:00<?, ?it/s]"
      ]
     },
     "metadata": {},
     "output_type": "display_data"
    },
    {
     "name": "stdout",
     "output_type": "stream",
     "text": [
      "loss: 0.401627  [    0/50000]\n",
      "loss: 0.381684  [ 4992/50000]\n",
      "loss: 0.378271  [ 9984/50000]\n",
      "loss: 0.373003  [14976/50000]\n",
      "loss: 0.325675  [19968/50000]\n",
      "loss: 0.369392  [24960/50000]\n",
      "loss: 0.430628  [29952/50000]\n",
      "loss: 0.337135  [34944/50000]\n",
      "loss: 0.329574  [39936/50000]\n",
      "loss: 0.341632  [44928/50000]\n",
      "loss: 0.334829  [31200/50000]\n",
      "Epoch average loss: 0.3633255660533905\n"
     ]
    },
    {
     "data": {
      "application/vnd.jupyter.widget-view+json": {
       "model_id": "11c245873c034f33b8cf08fe5f88b997",
       "version_major": 2,
       "version_minor": 0
      },
      "text/plain": [
       "  0%|          | 0/391 [00:00<?, ?it/s]"
      ]
     },
     "metadata": {},
     "output_type": "display_data"
    },
    {
     "name": "stdout",
     "output_type": "stream",
     "text": [
      "loss: 0.339411  [    0/50000]\n",
      "loss: 0.377477  [ 4992/50000]\n",
      "loss: 0.333938  [ 9984/50000]\n",
      "loss: 0.350429  [14976/50000]\n",
      "loss: 0.367987  [19968/50000]\n",
      "loss: 0.329853  [24960/50000]\n",
      "loss: 0.338207  [29952/50000]\n",
      "loss: 0.333629  [34944/50000]\n",
      "loss: 0.447789  [39936/50000]\n",
      "loss: 0.362146  [44928/50000]\n",
      "loss: 0.446653  [31200/50000]\n",
      "Epoch average loss: 0.3627510368824005\n",
      "Done!\n"
     ]
    },
    {
     "data": {
      "application/vnd.jupyter.widget-view+json": {
       "model_id": "52c24fb909b645238b2e6e6e94ae5139",
       "version_major": 2,
       "version_minor": 0
      },
      "text/plain": [
       "  0%|          | 0/3473 [00:00<?, ?it/s]"
      ]
     },
     "metadata": {},
     "output_type": "display_data"
    },
    {
     "name": "stdout",
     "output_type": "stream",
     "text": [
      "Seed 0 - Iteration 1 - Model 2 - Done\n",
      "Seed 0 - Iteration 1 - Model 3 - Begin\n"
     ]
    },
    {
     "data": {
      "application/vnd.jupyter.widget-view+json": {
       "model_id": "52420d2c7a5c4bf6ada00e6e5efe557f",
       "version_major": 2,
       "version_minor": 0
      },
      "text/plain": [
       "  0%|          | 0/391 [00:00<?, ?it/s]"
      ]
     },
     "metadata": {},
     "output_type": "display_data"
    },
    {
     "name": "stdout",
     "output_type": "stream",
     "text": [
      "loss: 0.366838  [    0/50000]\n",
      "loss: 0.346938  [ 4992/50000]\n",
      "loss: 0.372451  [ 9984/50000]\n",
      "loss: 0.320485  [14976/50000]\n",
      "loss: 0.356794  [19968/50000]\n",
      "loss: 0.369373  [24960/50000]\n",
      "loss: 0.363575  [29952/50000]\n",
      "loss: 0.308874  [34944/50000]\n",
      "loss: 0.393721  [39936/50000]\n",
      "loss: 0.382872  [44928/50000]\n",
      "loss: 0.380604  [31200/50000]\n",
      "Epoch average loss: 0.36189162731170654\n"
     ]
    },
    {
     "data": {
      "application/vnd.jupyter.widget-view+json": {
       "model_id": "edb8a352f983446ba66ced7c3e12e872",
       "version_major": 2,
       "version_minor": 0
      },
      "text/plain": [
       "  0%|          | 0/391 [00:00<?, ?it/s]"
      ]
     },
     "metadata": {},
     "output_type": "display_data"
    },
    {
     "name": "stdout",
     "output_type": "stream",
     "text": [
      "loss: 0.301175  [    0/50000]\n",
      "loss: 0.349950  [ 4992/50000]\n",
      "loss: 0.352163  [ 9984/50000]\n",
      "loss: 0.348009  [14976/50000]\n",
      "loss: 0.409791  [19968/50000]\n",
      "loss: 0.365269  [24960/50000]\n",
      "loss: 0.377372  [29952/50000]\n",
      "loss: 0.361114  [34944/50000]\n",
      "loss: 0.318849  [39936/50000]\n",
      "loss: 0.366322  [44928/50000]\n",
      "loss: 0.283538  [31200/50000]\n",
      "Epoch average loss: 0.3623788058757782\n"
     ]
    },
    {
     "data": {
      "application/vnd.jupyter.widget-view+json": {
       "model_id": "c50480d7294142a08310e89df8c829d3",
       "version_major": 2,
       "version_minor": 0
      },
      "text/plain": [
       "  0%|          | 0/391 [00:00<?, ?it/s]"
      ]
     },
     "metadata": {},
     "output_type": "display_data"
    },
    {
     "name": "stdout",
     "output_type": "stream",
     "text": [
      "loss: 0.402654  [    0/50000]\n",
      "loss: 0.303437  [ 4992/50000]\n",
      "loss: 0.339138  [ 9984/50000]\n",
      "loss: 0.330377  [14976/50000]\n",
      "loss: 0.326630  [19968/50000]\n",
      "loss: 0.367296  [24960/50000]\n",
      "loss: 0.391380  [29952/50000]\n",
      "loss: 0.333377  [34944/50000]\n",
      "loss: 0.347316  [39936/50000]\n",
      "loss: 0.327635  [44928/50000]\n",
      "loss: 0.384607  [31200/50000]\n",
      "Epoch average loss: 0.36186596751213074\n",
      "Done!\n"
     ]
    },
    {
     "data": {
      "application/vnd.jupyter.widget-view+json": {
       "model_id": "d04f5d5ca4fc465b88b5a27e7913d011",
       "version_major": 2,
       "version_minor": 0
      },
      "text/plain": [
       "  0%|          | 0/3473 [00:00<?, ?it/s]"
      ]
     },
     "metadata": {},
     "output_type": "display_data"
    },
    {
     "name": "stdout",
     "output_type": "stream",
     "text": [
      "Seed 0 - Iteration 1 - Model 3 - Done\n",
      "Seed 0 - Iteration 1 - Model 4 - Begin\n"
     ]
    },
    {
     "data": {
      "application/vnd.jupyter.widget-view+json": {
       "model_id": "60aaa3de6bb246a99cb01f6441984a92",
       "version_major": 2,
       "version_minor": 0
      },
      "text/plain": [
       "  0%|          | 0/391 [00:00<?, ?it/s]"
      ]
     },
     "metadata": {},
     "output_type": "display_data"
    },
    {
     "name": "stdout",
     "output_type": "stream",
     "text": [
      "loss: 0.450345  [    0/50000]\n",
      "loss: 0.317346  [ 4992/50000]\n",
      "loss: 0.383968  [ 9984/50000]\n",
      "loss: 0.351726  [14976/50000]\n",
      "loss: 0.438074  [19968/50000]\n",
      "loss: 0.399947  [24960/50000]\n",
      "loss: 0.372646  [29952/50000]\n",
      "loss: 0.355177  [34944/50000]\n",
      "loss: 0.349292  [39936/50000]\n",
      "loss: 0.403655  [44928/50000]\n",
      "loss: 0.445391  [31200/50000]\n",
      "Epoch average loss: 0.36558693647384644\n"
     ]
    },
    {
     "data": {
      "application/vnd.jupyter.widget-view+json": {
       "model_id": "cec468f5424748fda5dafea27cce9ac4",
       "version_major": 2,
       "version_minor": 0
      },
      "text/plain": [
       "  0%|          | 0/391 [00:00<?, ?it/s]"
      ]
     },
     "metadata": {},
     "output_type": "display_data"
    },
    {
     "name": "stdout",
     "output_type": "stream",
     "text": [
      "loss: 0.363079  [    0/50000]\n",
      "loss: 0.376719  [ 4992/50000]\n",
      "loss: 0.353817  [ 9984/50000]\n",
      "loss: 0.318308  [14976/50000]\n",
      "loss: 0.328502  [19968/50000]\n",
      "loss: 0.455255  [24960/50000]\n",
      "loss: 0.387360  [29952/50000]\n",
      "loss: 0.333444  [34944/50000]\n",
      "loss: 0.344278  [39936/50000]\n",
      "loss: 0.293226  [44928/50000]\n",
      "loss: 0.403219  [31200/50000]\n",
      "Epoch average loss: 0.3643246293067932\n"
     ]
    },
    {
     "data": {
      "application/vnd.jupyter.widget-view+json": {
       "model_id": "bac3e7c2041949d1b7b70869910c241f",
       "version_major": 2,
       "version_minor": 0
      },
      "text/plain": [
       "  0%|          | 0/391 [00:00<?, ?it/s]"
      ]
     },
     "metadata": {},
     "output_type": "display_data"
    },
    {
     "name": "stdout",
     "output_type": "stream",
     "text": [
      "loss: 0.395858  [    0/50000]\n",
      "loss: 0.365659  [ 4992/50000]\n",
      "loss: 0.390630  [ 9984/50000]\n",
      "loss: 0.324348  [14976/50000]\n",
      "loss: 0.278239  [19968/50000]\n",
      "loss: 0.363707  [24960/50000]\n",
      "loss: 0.341512  [29952/50000]\n",
      "loss: 0.475533  [34944/50000]\n",
      "loss: 0.366447  [39936/50000]\n",
      "loss: 0.297043  [44928/50000]\n",
      "loss: 0.362669  [31200/50000]\n",
      "Epoch average loss: 0.3626748323440552\n",
      "Done!\n"
     ]
    },
    {
     "data": {
      "application/vnd.jupyter.widget-view+json": {
       "model_id": "9fdd22255ec748fd8a1b958c233fa352",
       "version_major": 2,
       "version_minor": 0
      },
      "text/plain": [
       "  0%|          | 0/3473 [00:00<?, ?it/s]"
      ]
     },
     "metadata": {},
     "output_type": "display_data"
    },
    {
     "name": "stdout",
     "output_type": "stream",
     "text": [
      "Seed 0 - Iteration 1 - Model 4 - Done\n",
      "Seed 0 - Iteration 1 - Model 5 - Begin\n"
     ]
    },
    {
     "data": {
      "application/vnd.jupyter.widget-view+json": {
       "model_id": "1a316e975c8b4cb4a9a7c2f53fc14d53",
       "version_major": 2,
       "version_minor": 0
      },
      "text/plain": [
       "  0%|          | 0/391 [00:00<?, ?it/s]"
      ]
     },
     "metadata": {},
     "output_type": "display_data"
    },
    {
     "name": "stdout",
     "output_type": "stream",
     "text": [
      "loss: 0.354864  [    0/50000]\n",
      "loss: 0.423739  [ 4992/50000]\n",
      "loss: 0.302279  [ 9984/50000]\n",
      "loss: 0.379920  [14976/50000]\n",
      "loss: 0.327253  [19968/50000]\n",
      "loss: 0.316194  [24960/50000]\n",
      "loss: 0.353090  [29952/50000]\n",
      "loss: 0.371466  [34944/50000]\n",
      "loss: 0.357100  [39936/50000]\n",
      "loss: 0.318972  [44928/50000]\n",
      "loss: 0.248706  [31200/50000]\n",
      "Epoch average loss: 0.36417701840400696\n"
     ]
    },
    {
     "data": {
      "application/vnd.jupyter.widget-view+json": {
       "model_id": "2c474f7095ce49cbb34133c9e09afe98",
       "version_major": 2,
       "version_minor": 0
      },
      "text/plain": [
       "  0%|          | 0/391 [00:00<?, ?it/s]"
      ]
     },
     "metadata": {},
     "output_type": "display_data"
    },
    {
     "name": "stdout",
     "output_type": "stream",
     "text": [
      "loss: 0.337895  [    0/50000]\n",
      "loss: 0.337823  [ 4992/50000]\n",
      "loss: 0.417160  [ 9984/50000]\n",
      "loss: 0.353334  [14976/50000]\n",
      "loss: 0.247678  [19968/50000]\n",
      "loss: 0.386853  [24960/50000]\n",
      "loss: 0.353052  [29952/50000]\n",
      "loss: 0.301107  [34944/50000]\n",
      "loss: 0.368206  [39936/50000]\n",
      "loss: 0.361346  [44928/50000]\n",
      "loss: 0.377103  [31200/50000]\n",
      "Epoch average loss: 0.363930344581604\n"
     ]
    },
    {
     "data": {
      "application/vnd.jupyter.widget-view+json": {
       "model_id": "7e6f7e775a634444905b0423e22019f0",
       "version_major": 2,
       "version_minor": 0
      },
      "text/plain": [
       "  0%|          | 0/391 [00:00<?, ?it/s]"
      ]
     },
     "metadata": {},
     "output_type": "display_data"
    },
    {
     "name": "stdout",
     "output_type": "stream",
     "text": [
      "loss: 0.437157  [    0/50000]\n",
      "loss: 0.371344  [ 4992/50000]\n",
      "loss: 0.338309  [ 9984/50000]\n",
      "loss: 0.340573  [14976/50000]\n",
      "loss: 0.400044  [19968/50000]\n",
      "loss: 0.385437  [24960/50000]\n",
      "loss: 0.421255  [29952/50000]\n",
      "loss: 0.399701  [34944/50000]\n",
      "loss: 0.279014  [39936/50000]\n",
      "loss: 0.359794  [44928/50000]\n",
      "loss: 0.394982  [31200/50000]\n",
      "Epoch average loss: 0.3622462749481201\n",
      "Done!\n"
     ]
    },
    {
     "data": {
      "application/vnd.jupyter.widget-view+json": {
       "model_id": "5d050f322d454e43a35f468e796ca960",
       "version_major": 2,
       "version_minor": 0
      },
      "text/plain": [
       "  0%|          | 0/3473 [00:00<?, ?it/s]"
      ]
     },
     "metadata": {},
     "output_type": "display_data"
    },
    {
     "name": "stdout",
     "output_type": "stream",
     "text": [
      "Seed 0 - Iteration 1 - Model 5 - Done\n",
      "Seed 0 - Iteration 1 - Model 6 - Begin\n"
     ]
    },
    {
     "data": {
      "application/vnd.jupyter.widget-view+json": {
       "model_id": "bd87c52859e84ca29aeb6bfe43a3b7ee",
       "version_major": 2,
       "version_minor": 0
      },
      "text/plain": [
       "  0%|          | 0/391 [00:00<?, ?it/s]"
      ]
     },
     "metadata": {},
     "output_type": "display_data"
    },
    {
     "name": "stdout",
     "output_type": "stream",
     "text": [
      "loss: 0.336022  [    0/50000]\n",
      "loss: 0.351029  [ 4992/50000]\n",
      "loss: 0.377041  [ 9984/50000]\n",
      "loss: 0.396351  [14976/50000]\n",
      "loss: 0.358240  [19968/50000]\n",
      "loss: 0.378018  [24960/50000]\n",
      "loss: 0.369751  [29952/50000]\n",
      "loss: 0.375956  [34944/50000]\n",
      "loss: 0.362680  [39936/50000]\n",
      "loss: 0.457246  [44928/50000]\n",
      "loss: 0.388104  [31200/50000]\n",
      "Epoch average loss: 0.3646976947784424\n"
     ]
    },
    {
     "data": {
      "application/vnd.jupyter.widget-view+json": {
       "model_id": "3522f36d29fb40adbb5b73ad83c9877c",
       "version_major": 2,
       "version_minor": 0
      },
      "text/plain": [
       "  0%|          | 0/391 [00:00<?, ?it/s]"
      ]
     },
     "metadata": {},
     "output_type": "display_data"
    },
    {
     "name": "stdout",
     "output_type": "stream",
     "text": [
      "loss: 0.355678  [    0/50000]\n",
      "loss: 0.333950  [ 4992/50000]\n",
      "loss: 0.245880  [ 9984/50000]\n",
      "loss: 0.373475  [14976/50000]\n",
      "loss: 0.365241  [19968/50000]\n",
      "loss: 0.388567  [24960/50000]\n",
      "loss: 0.323007  [29952/50000]\n",
      "loss: 0.388598  [34944/50000]\n",
      "loss: 0.437647  [39936/50000]\n",
      "loss: 0.326079  [44928/50000]\n",
      "loss: 0.358231  [31200/50000]\n",
      "Epoch average loss: 0.3642202317714691\n"
     ]
    },
    {
     "data": {
      "application/vnd.jupyter.widget-view+json": {
       "model_id": "f70a845bc7b541e78f2dba5ea130f121",
       "version_major": 2,
       "version_minor": 0
      },
      "text/plain": [
       "  0%|          | 0/391 [00:00<?, ?it/s]"
      ]
     },
     "metadata": {},
     "output_type": "display_data"
    },
    {
     "name": "stdout",
     "output_type": "stream",
     "text": [
      "loss: 0.365064  [    0/50000]\n",
      "loss: 0.356610  [ 4992/50000]\n",
      "loss: 0.343495  [ 9984/50000]\n",
      "loss: 0.374960  [14976/50000]\n",
      "loss: 0.394344  [19968/50000]\n",
      "loss: 0.397781  [24960/50000]\n",
      "loss: 0.476880  [29952/50000]\n",
      "loss: 0.401443  [34944/50000]\n",
      "loss: 0.305604  [39936/50000]\n",
      "loss: 0.367382  [44928/50000]\n",
      "loss: 0.396358  [31200/50000]\n",
      "Epoch average loss: 0.36598607897758484\n",
      "Done!\n"
     ]
    },
    {
     "data": {
      "application/vnd.jupyter.widget-view+json": {
       "model_id": "a5a1b75c1b69445e9382e4a673b33c77",
       "version_major": 2,
       "version_minor": 0
      },
      "text/plain": [
       "  0%|          | 0/3473 [00:00<?, ?it/s]"
      ]
     },
     "metadata": {},
     "output_type": "display_data"
    },
    {
     "name": "stdout",
     "output_type": "stream",
     "text": [
      "Seed 0 - Iteration 1 - Model 6 - Done\n",
      "Seed 0 - Iteration 1 - Model 7 - Begin\n"
     ]
    },
    {
     "data": {
      "application/vnd.jupyter.widget-view+json": {
       "model_id": "e44933d1bd224afaa312fb95600817c4",
       "version_major": 2,
       "version_minor": 0
      },
      "text/plain": [
       "  0%|          | 0/391 [00:00<?, ?it/s]"
      ]
     },
     "metadata": {},
     "output_type": "display_data"
    },
    {
     "name": "stdout",
     "output_type": "stream",
     "text": [
      "loss: 0.390657  [    0/50000]\n",
      "loss: 0.372994  [ 4992/50000]\n",
      "loss: 0.349834  [ 9984/50000]\n",
      "loss: 0.317244  [14976/50000]\n",
      "loss: 0.322547  [19968/50000]\n",
      "loss: 0.356212  [24960/50000]\n",
      "loss: 0.377633  [29952/50000]\n",
      "loss: 0.376222  [34944/50000]\n",
      "loss: 0.397174  [39936/50000]\n",
      "loss: 0.371627  [44928/50000]\n",
      "loss: 0.357398  [31200/50000]\n",
      "Epoch average loss: 0.3637089431285858\n"
     ]
    },
    {
     "data": {
      "application/vnd.jupyter.widget-view+json": {
       "model_id": "220f6b87d14248809a7dab45902c590e",
       "version_major": 2,
       "version_minor": 0
      },
      "text/plain": [
       "  0%|          | 0/391 [00:00<?, ?it/s]"
      ]
     },
     "metadata": {},
     "output_type": "display_data"
    },
    {
     "name": "stdout",
     "output_type": "stream",
     "text": [
      "loss: 0.334312  [    0/50000]\n",
      "loss: 0.379212  [ 4992/50000]\n",
      "loss: 0.376179  [ 9984/50000]\n",
      "loss: 0.375343  [14976/50000]\n",
      "loss: 0.314856  [19968/50000]\n",
      "loss: 0.366235  [24960/50000]\n",
      "loss: 0.310485  [29952/50000]\n",
      "loss: 0.376083  [34944/50000]\n",
      "loss: 0.329782  [39936/50000]\n",
      "loss: 0.394047  [44928/50000]\n",
      "loss: 0.390445  [31200/50000]\n",
      "Epoch average loss: 0.3633396029472351\n"
     ]
    },
    {
     "data": {
      "application/vnd.jupyter.widget-view+json": {
       "model_id": "ebe42bc4ba6b42a79688e9d675f0f8f5",
       "version_major": 2,
       "version_minor": 0
      },
      "text/plain": [
       "  0%|          | 0/391 [00:00<?, ?it/s]"
      ]
     },
     "metadata": {},
     "output_type": "display_data"
    },
    {
     "name": "stdout",
     "output_type": "stream",
     "text": [
      "loss: 0.374011  [    0/50000]\n",
      "loss: 0.319427  [ 4992/50000]\n",
      "loss: 0.351540  [ 9984/50000]\n",
      "loss: 0.335823  [14976/50000]\n",
      "loss: 0.342326  [19968/50000]\n",
      "loss: 0.367685  [24960/50000]\n",
      "loss: 0.378713  [29952/50000]\n",
      "loss: 0.388330  [34944/50000]\n",
      "loss: 0.427908  [39936/50000]\n",
      "loss: 0.331632  [44928/50000]\n",
      "loss: 0.352829  [31200/50000]\n",
      "Epoch average loss: 0.3623497486114502\n",
      "Done!\n"
     ]
    },
    {
     "data": {
      "application/vnd.jupyter.widget-view+json": {
       "model_id": "a396a0810ff54084aee5c4ded985953a",
       "version_major": 2,
       "version_minor": 0
      },
      "text/plain": [
       "  0%|          | 0/3473 [00:00<?, ?it/s]"
      ]
     },
     "metadata": {},
     "output_type": "display_data"
    },
    {
     "name": "stdout",
     "output_type": "stream",
     "text": [
      "Seed 0 - Iteration 1 - Model 7 - Done\n",
      "Seed 0 - Iteration 1 - Model 8 - Begin\n"
     ]
    },
    {
     "data": {
      "application/vnd.jupyter.widget-view+json": {
       "model_id": "3ff53e9675184945b7defabc2b4cf6c2",
       "version_major": 2,
       "version_minor": 0
      },
      "text/plain": [
       "  0%|          | 0/391 [00:00<?, ?it/s]"
      ]
     },
     "metadata": {},
     "output_type": "display_data"
    },
    {
     "name": "stdout",
     "output_type": "stream",
     "text": [
      "loss: 0.390779  [    0/50000]\n",
      "loss: 0.325676  [ 4992/50000]\n",
      "loss: 0.295188  [ 9984/50000]\n",
      "loss: 0.383139  [14976/50000]\n",
      "loss: 0.300894  [19968/50000]\n",
      "loss: 0.366453  [24960/50000]\n",
      "loss: 0.329902  [29952/50000]\n",
      "loss: 0.337931  [34944/50000]\n",
      "loss: 0.436437  [39936/50000]\n",
      "loss: 0.362179  [44928/50000]\n",
      "loss: 0.486388  [31200/50000]\n",
      "Epoch average loss: 0.3620840609073639\n"
     ]
    },
    {
     "data": {
      "application/vnd.jupyter.widget-view+json": {
       "model_id": "4d7ab9af12cd4b96adbf2f2a38d30075",
       "version_major": 2,
       "version_minor": 0
      },
      "text/plain": [
       "  0%|          | 0/391 [00:00<?, ?it/s]"
      ]
     },
     "metadata": {},
     "output_type": "display_data"
    },
    {
     "name": "stdout",
     "output_type": "stream",
     "text": [
      "loss: 0.363689  [    0/50000]\n",
      "loss: 0.368611  [ 4992/50000]\n",
      "loss: 0.398867  [ 9984/50000]\n",
      "loss: 0.438197  [14976/50000]\n",
      "loss: 0.435775  [19968/50000]\n",
      "loss: 0.345470  [24960/50000]\n",
      "loss: 0.389586  [29952/50000]\n",
      "loss: 0.415257  [34944/50000]\n",
      "loss: 0.415230  [39936/50000]\n",
      "loss: 0.343064  [44928/50000]\n",
      "loss: 0.374341  [31200/50000]\n",
      "Epoch average loss: 0.36166685819625854\n"
     ]
    },
    {
     "data": {
      "application/vnd.jupyter.widget-view+json": {
       "model_id": "d3ade1a27c6540f599af911b67c9f21b",
       "version_major": 2,
       "version_minor": 0
      },
      "text/plain": [
       "  0%|          | 0/391 [00:00<?, ?it/s]"
      ]
     },
     "metadata": {},
     "output_type": "display_data"
    },
    {
     "name": "stdout",
     "output_type": "stream",
     "text": [
      "loss: 0.360981  [    0/50000]\n",
      "loss: 0.351153  [ 4992/50000]\n",
      "loss: 0.371974  [ 9984/50000]\n",
      "loss: 0.427797  [14976/50000]\n",
      "loss: 0.330811  [19968/50000]\n",
      "loss: 0.318212  [24960/50000]\n",
      "loss: 0.380872  [29952/50000]\n",
      "loss: 0.344258  [34944/50000]\n",
      "loss: 0.431164  [39936/50000]\n",
      "loss: 0.289747  [44928/50000]\n",
      "loss: 0.394471  [31200/50000]\n",
      "Epoch average loss: 0.3609331250190735\n",
      "Done!\n"
     ]
    },
    {
     "data": {
      "application/vnd.jupyter.widget-view+json": {
       "model_id": "693bb9077d8d41ae91d71e765abaf5ad",
       "version_major": 2,
       "version_minor": 0
      },
      "text/plain": [
       "  0%|          | 0/3473 [00:00<?, ?it/s]"
      ]
     },
     "metadata": {},
     "output_type": "display_data"
    },
    {
     "name": "stdout",
     "output_type": "stream",
     "text": [
      "Seed 0 - Iteration 1 - Model 8 - Done\n",
      "Seed 0 - Iteration 1 - Model 9 - Begin\n"
     ]
    },
    {
     "data": {
      "application/vnd.jupyter.widget-view+json": {
       "model_id": "675858f952434910a5882f605a968205",
       "version_major": 2,
       "version_minor": 0
      },
      "text/plain": [
       "  0%|          | 0/391 [00:00<?, ?it/s]"
      ]
     },
     "metadata": {},
     "output_type": "display_data"
    },
    {
     "name": "stdout",
     "output_type": "stream",
     "text": [
      "loss: 0.361636  [    0/50000]\n",
      "loss: 0.353745  [ 4992/50000]\n",
      "loss: 0.342625  [ 9984/50000]\n",
      "loss: 0.354838  [14976/50000]\n",
      "loss: 0.373197  [19968/50000]\n",
      "loss: 0.376030  [24960/50000]\n",
      "loss: 0.340168  [29952/50000]\n",
      "loss: 0.350261  [34944/50000]\n",
      "loss: 0.362042  [39936/50000]\n",
      "loss: 0.384833  [44928/50000]\n",
      "loss: 0.353891  [31200/50000]\n",
      "Epoch average loss: 0.3640929162502289\n"
     ]
    },
    {
     "data": {
      "application/vnd.jupyter.widget-view+json": {
       "model_id": "7e21ee8417294dc29c3998468e3c06f6",
       "version_major": 2,
       "version_minor": 0
      },
      "text/plain": [
       "  0%|          | 0/391 [00:00<?, ?it/s]"
      ]
     },
     "metadata": {},
     "output_type": "display_data"
    },
    {
     "name": "stdout",
     "output_type": "stream",
     "text": [
      "loss: 0.355854  [    0/50000]\n",
      "loss: 0.358534  [ 4992/50000]\n",
      "loss: 0.346791  [ 9984/50000]\n",
      "loss: 0.372979  [14976/50000]\n",
      "loss: 0.436486  [19968/50000]\n",
      "loss: 0.378427  [24960/50000]\n",
      "loss: 0.306944  [29952/50000]\n",
      "loss: 0.426346  [34944/50000]\n",
      "loss: 0.421459  [39936/50000]\n",
      "loss: 0.330681  [44928/50000]\n",
      "loss: 0.289165  [31200/50000]\n",
      "Epoch average loss: 0.36303257942199707\n"
     ]
    },
    {
     "data": {
      "application/vnd.jupyter.widget-view+json": {
       "model_id": "7a8b1f06f61241bda02aea93602ddbc2",
       "version_major": 2,
       "version_minor": 0
      },
      "text/plain": [
       "  0%|          | 0/391 [00:00<?, ?it/s]"
      ]
     },
     "metadata": {},
     "output_type": "display_data"
    },
    {
     "name": "stdout",
     "output_type": "stream",
     "text": [
      "loss: 0.361978  [    0/50000]\n",
      "loss: 0.375472  [ 4992/50000]\n",
      "loss: 0.322451  [ 9984/50000]\n",
      "loss: 0.369862  [14976/50000]\n",
      "loss: 0.410102  [19968/50000]\n",
      "loss: 0.327101  [24960/50000]\n",
      "loss: 0.332840  [29952/50000]\n",
      "loss: 0.344820  [34944/50000]\n",
      "loss: 0.389067  [39936/50000]\n",
      "loss: 0.340831  [44928/50000]\n",
      "loss: 0.367330  [31200/50000]\n",
      "Epoch average loss: 0.3624172508716583\n",
      "Done!\n"
     ]
    },
    {
     "data": {
      "application/vnd.jupyter.widget-view+json": {
       "model_id": "8aaa3897b0fb4bf286c119c91128b530",
       "version_major": 2,
       "version_minor": 0
      },
      "text/plain": [
       "  0%|          | 0/3473 [00:00<?, ?it/s]"
      ]
     },
     "metadata": {},
     "output_type": "display_data"
    },
    {
     "name": "stdout",
     "output_type": "stream",
     "text": [
      "Seed 0 - Iteration 1 - Model 9 - Done\n",
      "Seed 0 - Iteration 1 - Model 10 - Begin\n"
     ]
    },
    {
     "data": {
      "application/vnd.jupyter.widget-view+json": {
       "model_id": "1da1aaf089724ee5bb5b5787f2355eee",
       "version_major": 2,
       "version_minor": 0
      },
      "text/plain": [
       "  0%|          | 0/391 [00:00<?, ?it/s]"
      ]
     },
     "metadata": {},
     "output_type": "display_data"
    },
    {
     "name": "stdout",
     "output_type": "stream",
     "text": [
      "loss: 0.330019  [    0/50000]\n",
      "loss: 0.375307  [ 4992/50000]\n",
      "loss: 0.336338  [ 9984/50000]\n",
      "loss: 0.327452  [14976/50000]\n",
      "loss: 0.344552  [19968/50000]\n",
      "loss: 0.317110  [24960/50000]\n",
      "loss: 0.425709  [29952/50000]\n",
      "loss: 0.359704  [34944/50000]\n",
      "loss: 0.443153  [39936/50000]\n",
      "loss: 0.329729  [44928/50000]\n",
      "loss: 0.325446  [31200/50000]\n",
      "Epoch average loss: 0.36376819014549255\n"
     ]
    },
    {
     "data": {
      "application/vnd.jupyter.widget-view+json": {
       "model_id": "a5f610afb0b94b2b9d25989039e2677d",
       "version_major": 2,
       "version_minor": 0
      },
      "text/plain": [
       "  0%|          | 0/391 [00:00<?, ?it/s]"
      ]
     },
     "metadata": {},
     "output_type": "display_data"
    },
    {
     "name": "stdout",
     "output_type": "stream",
     "text": [
      "loss: 0.352848  [    0/50000]\n",
      "loss: 0.398039  [ 4992/50000]\n",
      "loss: 0.359116  [ 9984/50000]\n",
      "loss: 0.379244  [14976/50000]\n",
      "loss: 0.311036  [19968/50000]\n",
      "loss: 0.268580  [24960/50000]\n",
      "loss: 0.346778  [29952/50000]\n",
      "loss: 0.366569  [34944/50000]\n",
      "loss: 0.385503  [39936/50000]\n",
      "loss: 0.334107  [44928/50000]\n",
      "loss: 0.337605  [31200/50000]\n",
      "Epoch average loss: 0.3622015118598938\n"
     ]
    },
    {
     "data": {
      "application/vnd.jupyter.widget-view+json": {
       "model_id": "58709cc95de74d949f8e070f795c8b03",
       "version_major": 2,
       "version_minor": 0
      },
      "text/plain": [
       "  0%|          | 0/391 [00:00<?, ?it/s]"
      ]
     },
     "metadata": {},
     "output_type": "display_data"
    },
    {
     "name": "stdout",
     "output_type": "stream",
     "text": [
      "loss: 0.388137  [    0/50000]\n",
      "loss: 0.336869  [ 4992/50000]\n",
      "loss: 0.373253  [ 9984/50000]\n",
      "loss: 0.349266  [14976/50000]\n",
      "loss: 0.399636  [19968/50000]\n",
      "loss: 0.326053  [24960/50000]\n",
      "loss: 0.353333  [29952/50000]\n",
      "loss: 0.325388  [34944/50000]\n",
      "loss: 0.456942  [39936/50000]\n",
      "loss: 0.306415  [44928/50000]\n",
      "loss: 0.331770  [31200/50000]\n",
      "Epoch average loss: 0.36316004395484924\n",
      "Done!\n"
     ]
    },
    {
     "data": {
      "application/vnd.jupyter.widget-view+json": {
       "model_id": "d7b495bf360146809bb7338b39c423bc",
       "version_major": 2,
       "version_minor": 0
      },
      "text/plain": [
       "  0%|          | 0/3473 [00:00<?, ?it/s]"
      ]
     },
     "metadata": {},
     "output_type": "display_data"
    },
    {
     "name": "stdout",
     "output_type": "stream",
     "text": [
      "Seed 0 - Iteration 1 - Model 10 - Done\n",
      "Seed 0 - Iteration 1 - Model 11 - Begin\n"
     ]
    },
    {
     "data": {
      "application/vnd.jupyter.widget-view+json": {
       "model_id": "334bd298eb014be9a70325e934b8ae29",
       "version_major": 2,
       "version_minor": 0
      },
      "text/plain": [
       "  0%|          | 0/391 [00:00<?, ?it/s]"
      ]
     },
     "metadata": {},
     "output_type": "display_data"
    },
    {
     "name": "stdout",
     "output_type": "stream",
     "text": [
      "loss: 0.476463  [    0/50000]\n",
      "loss: 0.391122  [ 4992/50000]\n",
      "loss: 0.396364  [ 9984/50000]\n",
      "loss: 0.331154  [14976/50000]\n",
      "loss: 0.345967  [19968/50000]\n",
      "loss: 0.288185  [24960/50000]\n",
      "loss: 0.341043  [29952/50000]\n",
      "loss: 0.407893  [34944/50000]\n",
      "loss: 0.344976  [39936/50000]\n",
      "loss: 0.388872  [44928/50000]\n",
      "loss: 0.458609  [31200/50000]\n",
      "Epoch average loss: 0.36211076378822327\n"
     ]
    },
    {
     "data": {
      "application/vnd.jupyter.widget-view+json": {
       "model_id": "b57fd2e6f2834caabd9dbd28fcfc4be4",
       "version_major": 2,
       "version_minor": 0
      },
      "text/plain": [
       "  0%|          | 0/391 [00:00<?, ?it/s]"
      ]
     },
     "metadata": {},
     "output_type": "display_data"
    },
    {
     "name": "stdout",
     "output_type": "stream",
     "text": [
      "loss: 0.320051  [    0/50000]\n",
      "loss: 0.412471  [ 4992/50000]\n",
      "loss: 0.373504  [ 9984/50000]\n",
      "loss: 0.410617  [14976/50000]\n",
      "loss: 0.376297  [19968/50000]\n",
      "loss: 0.346205  [24960/50000]\n",
      "loss: 0.330169  [29952/50000]\n",
      "loss: 0.321824  [34944/50000]\n",
      "loss: 0.393182  [39936/50000]\n",
      "loss: 0.355243  [44928/50000]\n",
      "loss: 0.363106  [31200/50000]\n",
      "Epoch average loss: 0.3602425158023834\n"
     ]
    },
    {
     "data": {
      "application/vnd.jupyter.widget-view+json": {
       "model_id": "44f90923025241a28ed969cfc7b585fc",
       "version_major": 2,
       "version_minor": 0
      },
      "text/plain": [
       "  0%|          | 0/391 [00:00<?, ?it/s]"
      ]
     },
     "metadata": {},
     "output_type": "display_data"
    },
    {
     "name": "stdout",
     "output_type": "stream",
     "text": [
      "loss: 0.347996  [    0/50000]\n",
      "loss: 0.401305  [ 4992/50000]\n",
      "loss: 0.390456  [ 9984/50000]\n",
      "loss: 0.346511  [14976/50000]\n",
      "loss: 0.327521  [19968/50000]\n",
      "loss: 0.356045  [24960/50000]\n",
      "loss: 0.440367  [29952/50000]\n",
      "loss: 0.325684  [34944/50000]\n",
      "loss: 0.342712  [39936/50000]\n",
      "loss: 0.402023  [44928/50000]\n",
      "loss: 0.338603  [31200/50000]\n",
      "Epoch average loss: 0.3596479296684265\n",
      "Done!\n"
     ]
    },
    {
     "data": {
      "application/vnd.jupyter.widget-view+json": {
       "model_id": "4719c7fc8197462b9243313b1e65b5df",
       "version_major": 2,
       "version_minor": 0
      },
      "text/plain": [
       "  0%|          | 0/3473 [00:00<?, ?it/s]"
      ]
     },
     "metadata": {},
     "output_type": "display_data"
    },
    {
     "name": "stdout",
     "output_type": "stream",
     "text": [
      "Seed 0 - Iteration 1 - Model 11 - Done\n",
      "Seed 0 - Iteration 1 - Model 12 - Begin\n"
     ]
    },
    {
     "data": {
      "application/vnd.jupyter.widget-view+json": {
       "model_id": "a37b2fc857a14ff5926f132192eb3c55",
       "version_major": 2,
       "version_minor": 0
      },
      "text/plain": [
       "  0%|          | 0/391 [00:00<?, ?it/s]"
      ]
     },
     "metadata": {},
     "output_type": "display_data"
    },
    {
     "name": "stdout",
     "output_type": "stream",
     "text": [
      "loss: 0.305196  [    0/50000]\n",
      "loss: 0.425401  [ 4992/50000]\n",
      "loss: 0.384915  [ 9984/50000]\n",
      "loss: 0.356200  [14976/50000]\n",
      "loss: 0.372947  [19968/50000]\n",
      "loss: 0.336649  [24960/50000]\n",
      "loss: 0.327356  [29952/50000]\n",
      "loss: 0.356442  [34944/50000]\n",
      "loss: 0.315653  [39936/50000]\n",
      "loss: 0.338652  [44928/50000]\n",
      "loss: 0.325400  [31200/50000]\n",
      "Epoch average loss: 0.3645945191383362\n"
     ]
    },
    {
     "data": {
      "application/vnd.jupyter.widget-view+json": {
       "model_id": "d72dbdec97844b5895c28eb224f91400",
       "version_major": 2,
       "version_minor": 0
      },
      "text/plain": [
       "  0%|          | 0/391 [00:00<?, ?it/s]"
      ]
     },
     "metadata": {},
     "output_type": "display_data"
    },
    {
     "name": "stdout",
     "output_type": "stream",
     "text": [
      "loss: 0.370230  [    0/50000]\n",
      "loss: 0.397319  [ 4992/50000]\n",
      "loss: 0.378303  [ 9984/50000]\n",
      "loss: 0.312160  [14976/50000]\n",
      "loss: 0.325364  [19968/50000]\n",
      "loss: 0.375253  [24960/50000]\n",
      "loss: 0.365874  [29952/50000]\n",
      "loss: 0.453730  [34944/50000]\n",
      "loss: 0.384263  [39936/50000]\n",
      "loss: 0.341593  [44928/50000]\n",
      "loss: 0.375315  [31200/50000]\n",
      "Epoch average loss: 0.3636467456817627\n"
     ]
    },
    {
     "data": {
      "application/vnd.jupyter.widget-view+json": {
       "model_id": "a3a34a0fda3142539ccda7cbcb7689c0",
       "version_major": 2,
       "version_minor": 0
      },
      "text/plain": [
       "  0%|          | 0/391 [00:00<?, ?it/s]"
      ]
     },
     "metadata": {},
     "output_type": "display_data"
    },
    {
     "name": "stdout",
     "output_type": "stream",
     "text": [
      "loss: 0.363376  [    0/50000]\n",
      "loss: 0.347720  [ 4992/50000]\n",
      "loss: 0.328529  [ 9984/50000]\n",
      "loss: 0.387154  [14976/50000]\n",
      "loss: 0.435768  [19968/50000]\n",
      "loss: 0.360690  [24960/50000]\n",
      "loss: 0.352456  [29952/50000]\n",
      "loss: 0.388876  [34944/50000]\n",
      "loss: 0.368963  [39936/50000]\n",
      "loss: 0.304496  [44928/50000]\n",
      "loss: 0.391787  [31200/50000]\n",
      "Epoch average loss: 0.36266589164733887\n",
      "Done!\n"
     ]
    },
    {
     "data": {
      "application/vnd.jupyter.widget-view+json": {
       "model_id": "36046e0345d54c2faae7f9cd2a5b343a",
       "version_major": 2,
       "version_minor": 0
      },
      "text/plain": [
       "  0%|          | 0/3473 [00:00<?, ?it/s]"
      ]
     },
     "metadata": {},
     "output_type": "display_data"
    },
    {
     "name": "stdout",
     "output_type": "stream",
     "text": [
      "Seed 0 - Iteration 1 - Model 12 - Done\n",
      "Seed 0 - Iteration 1 - Model 13 - Begin\n"
     ]
    },
    {
     "data": {
      "application/vnd.jupyter.widget-view+json": {
       "model_id": "db76000b1786429f83b9827cb0554734",
       "version_major": 2,
       "version_minor": 0
      },
      "text/plain": [
       "  0%|          | 0/391 [00:00<?, ?it/s]"
      ]
     },
     "metadata": {},
     "output_type": "display_data"
    },
    {
     "name": "stdout",
     "output_type": "stream",
     "text": [
      "loss: 0.374750  [    0/50000]\n",
      "loss: 0.328012  [ 4992/50000]\n",
      "loss: 0.351125  [ 9984/50000]\n",
      "loss: 0.353089  [14976/50000]\n",
      "loss: 0.358106  [19968/50000]\n",
      "loss: 0.356697  [24960/50000]\n",
      "loss: 0.369399  [29952/50000]\n",
      "loss: 0.376099  [34944/50000]\n",
      "loss: 0.328564  [39936/50000]\n",
      "loss: 0.412162  [44928/50000]\n",
      "loss: 0.363897  [31200/50000]\n",
      "Epoch average loss: 0.36006292700767517\n"
     ]
    },
    {
     "data": {
      "application/vnd.jupyter.widget-view+json": {
       "model_id": "4b3adba2d3f446a2993a020ca13fd559",
       "version_major": 2,
       "version_minor": 0
      },
      "text/plain": [
       "  0%|          | 0/391 [00:00<?, ?it/s]"
      ]
     },
     "metadata": {},
     "output_type": "display_data"
    },
    {
     "name": "stdout",
     "output_type": "stream",
     "text": [
      "loss: 0.376692  [    0/50000]\n",
      "loss: 0.355549  [ 4992/50000]\n",
      "loss: 0.359856  [ 9984/50000]\n",
      "loss: 0.409115  [14976/50000]\n",
      "loss: 0.402620  [19968/50000]\n",
      "loss: 0.426629  [24960/50000]\n",
      "loss: 0.429962  [29952/50000]\n",
      "loss: 0.301459  [34944/50000]\n",
      "loss: 0.344090  [39936/50000]\n",
      "loss: 0.437818  [44928/50000]\n",
      "loss: 0.332970  [31200/50000]\n",
      "Epoch average loss: 0.35935863852500916\n"
     ]
    },
    {
     "data": {
      "application/vnd.jupyter.widget-view+json": {
       "model_id": "cf4af2741c324977b9ccaab0740b0c9b",
       "version_major": 2,
       "version_minor": 0
      },
      "text/plain": [
       "  0%|          | 0/391 [00:00<?, ?it/s]"
      ]
     },
     "metadata": {},
     "output_type": "display_data"
    },
    {
     "name": "stdout",
     "output_type": "stream",
     "text": [
      "loss: 0.383538  [    0/50000]\n",
      "loss: 0.344823  [ 4992/50000]\n",
      "loss: 0.367870  [ 9984/50000]\n",
      "loss: 0.301781  [14976/50000]\n",
      "loss: 0.335267  [19968/50000]\n",
      "loss: 0.385644  [24960/50000]\n",
      "loss: 0.296690  [29952/50000]\n",
      "loss: 0.343280  [34944/50000]\n",
      "loss: 0.349306  [39936/50000]\n",
      "loss: 0.353354  [44928/50000]\n",
      "loss: 0.408420  [31200/50000]\n",
      "Epoch average loss: 0.36044007539749146\n",
      "Done!\n"
     ]
    },
    {
     "data": {
      "application/vnd.jupyter.widget-view+json": {
       "model_id": "51c1202fed764138b8784c6ac31a6607",
       "version_major": 2,
       "version_minor": 0
      },
      "text/plain": [
       "  0%|          | 0/3473 [00:00<?, ?it/s]"
      ]
     },
     "metadata": {},
     "output_type": "display_data"
    },
    {
     "name": "stdout",
     "output_type": "stream",
     "text": [
      "Seed 0 - Iteration 1 - Model 13 - Done\n",
      "Seed 0 - Iteration 1 - Model 14 - Begin\n"
     ]
    },
    {
     "data": {
      "application/vnd.jupyter.widget-view+json": {
       "model_id": "29923fbd2a944d6d83e49e983f211734",
       "version_major": 2,
       "version_minor": 0
      },
      "text/plain": [
       "  0%|          | 0/391 [00:00<?, ?it/s]"
      ]
     },
     "metadata": {},
     "output_type": "display_data"
    },
    {
     "name": "stdout",
     "output_type": "stream",
     "text": [
      "loss: 0.390458  [    0/50000]\n",
      "loss: 0.421318  [ 4992/50000]\n",
      "loss: 0.392669  [ 9984/50000]\n",
      "loss: 0.363765  [14976/50000]\n",
      "loss: 0.439529  [19968/50000]\n",
      "loss: 0.372569  [24960/50000]\n",
      "loss: 0.361718  [29952/50000]\n",
      "loss: 0.387821  [34944/50000]\n",
      "loss: 0.313374  [39936/50000]\n",
      "loss: 0.296963  [44928/50000]\n",
      "loss: 0.368381  [31200/50000]\n",
      "Epoch average loss: 0.36190032958984375\n"
     ]
    },
    {
     "data": {
      "application/vnd.jupyter.widget-view+json": {
       "model_id": "230b3d878fb840e3a7c5a3b3e77ab4d8",
       "version_major": 2,
       "version_minor": 0
      },
      "text/plain": [
       "  0%|          | 0/391 [00:00<?, ?it/s]"
      ]
     },
     "metadata": {},
     "output_type": "display_data"
    },
    {
     "name": "stdout",
     "output_type": "stream",
     "text": [
      "loss: 0.404707  [    0/50000]\n",
      "loss: 0.411868  [ 4992/50000]\n",
      "loss: 0.435066  [ 9984/50000]\n",
      "loss: 0.377780  [14976/50000]\n",
      "loss: 0.301795  [19968/50000]\n",
      "loss: 0.342448  [24960/50000]\n",
      "loss: 0.338764  [29952/50000]\n",
      "loss: 0.391774  [34944/50000]\n",
      "loss: 0.354964  [39936/50000]\n",
      "loss: 0.388312  [44928/50000]\n",
      "loss: 0.353222  [31200/50000]\n",
      "Epoch average loss: 0.361621618270874\n"
     ]
    },
    {
     "data": {
      "application/vnd.jupyter.widget-view+json": {
       "model_id": "b3d05ff8c5e24be79fb9b16a3b23df6c",
       "version_major": 2,
       "version_minor": 0
      },
      "text/plain": [
       "  0%|          | 0/391 [00:00<?, ?it/s]"
      ]
     },
     "metadata": {},
     "output_type": "display_data"
    },
    {
     "name": "stdout",
     "output_type": "stream",
     "text": [
      "loss: 0.376763  [    0/50000]\n",
      "loss: 0.371289  [ 4992/50000]\n",
      "loss: 0.415232  [ 9984/50000]\n",
      "loss: 0.310534  [14976/50000]\n",
      "loss: 0.402551  [19968/50000]\n",
      "loss: 0.344138  [24960/50000]\n",
      "loss: 0.327739  [29952/50000]\n",
      "loss: 0.325396  [34944/50000]\n",
      "loss: 0.305879  [39936/50000]\n",
      "loss: 0.310961  [44928/50000]\n",
      "loss: 0.419488  [31200/50000]\n",
      "Epoch average loss: 0.3611414432525635\n",
      "Done!\n"
     ]
    },
    {
     "data": {
      "application/vnd.jupyter.widget-view+json": {
       "model_id": "a0ed204abed9417983dc4f3b70b56c79",
       "version_major": 2,
       "version_minor": 0
      },
      "text/plain": [
       "  0%|          | 0/3473 [00:00<?, ?it/s]"
      ]
     },
     "metadata": {},
     "output_type": "display_data"
    },
    {
     "name": "stdout",
     "output_type": "stream",
     "text": [
      "Seed 0 - Iteration 1 - Model 14 - Done\n",
      "Seed 0 - Iteration 1 - Model 15 - Begin\n"
     ]
    },
    {
     "data": {
      "application/vnd.jupyter.widget-view+json": {
       "model_id": "3f95e621b61d40da82d43b192cd57970",
       "version_major": 2,
       "version_minor": 0
      },
      "text/plain": [
       "  0%|          | 0/391 [00:00<?, ?it/s]"
      ]
     },
     "metadata": {},
     "output_type": "display_data"
    },
    {
     "name": "stdout",
     "output_type": "stream",
     "text": [
      "loss: 0.370098  [    0/50000]\n",
      "loss: 0.334970  [ 4992/50000]\n",
      "loss: 0.304342  [ 9984/50000]\n",
      "loss: 0.389424  [14976/50000]\n",
      "loss: 0.359603  [19968/50000]\n",
      "loss: 0.372690  [24960/50000]\n",
      "loss: 0.329862  [29952/50000]\n",
      "loss: 0.295113  [34944/50000]\n",
      "loss: 0.394753  [39936/50000]\n",
      "loss: 0.357889  [44928/50000]\n",
      "loss: 0.349648  [31200/50000]\n",
      "Epoch average loss: 0.3636859655380249\n"
     ]
    },
    {
     "data": {
      "application/vnd.jupyter.widget-view+json": {
       "model_id": "8df98c270e694f3ea16fe73eed4202f0",
       "version_major": 2,
       "version_minor": 0
      },
      "text/plain": [
       "  0%|          | 0/391 [00:00<?, ?it/s]"
      ]
     },
     "metadata": {},
     "output_type": "display_data"
    },
    {
     "name": "stdout",
     "output_type": "stream",
     "text": [
      "loss: 0.403201  [    0/50000]\n",
      "loss: 0.430501  [ 4992/50000]\n",
      "loss: 0.388948  [ 9984/50000]\n",
      "loss: 0.434114  [14976/50000]\n",
      "loss: 0.378376  [19968/50000]\n",
      "loss: 0.447573  [24960/50000]\n",
      "loss: 0.282820  [29952/50000]\n",
      "loss: 0.391420  [34944/50000]\n",
      "loss: 0.360463  [39936/50000]\n",
      "loss: 0.368648  [44928/50000]\n",
      "loss: 0.366842  [31200/50000]\n",
      "Epoch average loss: 0.3646688461303711\n"
     ]
    },
    {
     "data": {
      "application/vnd.jupyter.widget-view+json": {
       "model_id": "df00a46a3582407897579d5a003cc75e",
       "version_major": 2,
       "version_minor": 0
      },
      "text/plain": [
       "  0%|          | 0/391 [00:00<?, ?it/s]"
      ]
     },
     "metadata": {},
     "output_type": "display_data"
    },
    {
     "name": "stdout",
     "output_type": "stream",
     "text": [
      "loss: 0.342642  [    0/50000]\n",
      "loss: 0.333127  [ 4992/50000]\n",
      "loss: 0.344185  [ 9984/50000]\n",
      "loss: 0.387421  [14976/50000]\n",
      "loss: 0.379242  [19968/50000]\n",
      "loss: 0.299821  [24960/50000]\n",
      "loss: 0.363608  [29952/50000]\n",
      "loss: 0.346044  [34944/50000]\n",
      "loss: 0.418337  [39936/50000]\n",
      "loss: 0.359324  [44928/50000]\n",
      "loss: 0.356870  [31200/50000]\n",
      "Epoch average loss: 0.3634376525878906\n",
      "Done!\n"
     ]
    },
    {
     "data": {
      "application/vnd.jupyter.widget-view+json": {
       "model_id": "75284fbf0c074502843f19b7d2641f97",
       "version_major": 2,
       "version_minor": 0
      },
      "text/plain": [
       "  0%|          | 0/3473 [00:00<?, ?it/s]"
      ]
     },
     "metadata": {},
     "output_type": "display_data"
    },
    {
     "name": "stdout",
     "output_type": "stream",
     "text": [
      "Seed 0 - Iteration 1 - Model 15 - Done\n",
      "Seed 0 - Iteration 1 - Model 16 - Begin\n"
     ]
    },
    {
     "data": {
      "application/vnd.jupyter.widget-view+json": {
       "model_id": "1ad1e9806e444b769f4356b00b8cd68d",
       "version_major": 2,
       "version_minor": 0
      },
      "text/plain": [
       "  0%|          | 0/391 [00:00<?, ?it/s]"
      ]
     },
     "metadata": {},
     "output_type": "display_data"
    },
    {
     "name": "stdout",
     "output_type": "stream",
     "text": [
      "loss: 0.339468  [    0/50000]\n",
      "loss: 0.359726  [ 4992/50000]\n",
      "loss: 0.383265  [ 9984/50000]\n",
      "loss: 0.385232  [14976/50000]\n",
      "loss: 0.385422  [19968/50000]\n",
      "loss: 0.362604  [24960/50000]\n",
      "loss: 0.346476  [29952/50000]\n",
      "loss: 0.392749  [34944/50000]\n",
      "loss: 0.384340  [39936/50000]\n",
      "loss: 0.367833  [44928/50000]\n",
      "loss: 0.376084  [31200/50000]\n",
      "Epoch average loss: 0.36060643196105957\n"
     ]
    },
    {
     "data": {
      "application/vnd.jupyter.widget-view+json": {
       "model_id": "878d1fe3c87343fb9358c96d84dcee54",
       "version_major": 2,
       "version_minor": 0
      },
      "text/plain": [
       "  0%|          | 0/391 [00:00<?, ?it/s]"
      ]
     },
     "metadata": {},
     "output_type": "display_data"
    },
    {
     "name": "stdout",
     "output_type": "stream",
     "text": [
      "loss: 0.403030  [    0/50000]\n",
      "loss: 0.378115  [ 4992/50000]\n",
      "loss: 0.322186  [ 9984/50000]\n",
      "loss: 0.376394  [14976/50000]\n",
      "loss: 0.323855  [19968/50000]\n",
      "loss: 0.307284  [24960/50000]\n",
      "loss: 0.370953  [29952/50000]\n",
      "loss: 0.346822  [34944/50000]\n",
      "loss: 0.370176  [39936/50000]\n",
      "loss: 0.357967  [44928/50000]\n",
      "loss: 0.437473  [31200/50000]\n",
      "Epoch average loss: 0.3596935570240021\n"
     ]
    },
    {
     "data": {
      "application/vnd.jupyter.widget-view+json": {
       "model_id": "ec9d687c79df4892a6b9296380569b9a",
       "version_major": 2,
       "version_minor": 0
      },
      "text/plain": [
       "  0%|          | 0/391 [00:00<?, ?it/s]"
      ]
     },
     "metadata": {},
     "output_type": "display_data"
    },
    {
     "name": "stdout",
     "output_type": "stream",
     "text": [
      "loss: 0.377497  [    0/50000]\n",
      "loss: 0.281500  [ 4992/50000]\n",
      "loss: 0.331955  [ 9984/50000]\n",
      "loss: 0.342512  [14976/50000]\n",
      "loss: 0.356372  [19968/50000]\n",
      "loss: 0.300949  [24960/50000]\n",
      "loss: 0.345081  [29952/50000]\n",
      "loss: 0.282737  [34944/50000]\n",
      "loss: 0.362192  [39936/50000]\n",
      "loss: 0.358499  [44928/50000]\n",
      "loss: 0.385571  [31200/50000]\n",
      "Epoch average loss: 0.3591921329498291\n",
      "Done!\n"
     ]
    },
    {
     "data": {
      "application/vnd.jupyter.widget-view+json": {
       "model_id": "47a978bee54e4c61b8180e7c361924cb",
       "version_major": 2,
       "version_minor": 0
      },
      "text/plain": [
       "  0%|          | 0/3473 [00:00<?, ?it/s]"
      ]
     },
     "metadata": {},
     "output_type": "display_data"
    },
    {
     "name": "stdout",
     "output_type": "stream",
     "text": [
      "Seed 0 - Iteration 1 - Model 16 - Done\n",
      "Seed 0 - Iteration 1 - Model 17 - Begin\n"
     ]
    },
    {
     "data": {
      "application/vnd.jupyter.widget-view+json": {
       "model_id": "183913b3905145a39a95259fb498d24e",
       "version_major": 2,
       "version_minor": 0
      },
      "text/plain": [
       "  0%|          | 0/391 [00:00<?, ?it/s]"
      ]
     },
     "metadata": {},
     "output_type": "display_data"
    },
    {
     "name": "stdout",
     "output_type": "stream",
     "text": [
      "loss: 0.358868  [    0/50000]\n",
      "loss: 0.306873  [ 4992/50000]\n",
      "loss: 0.417009  [ 9984/50000]\n",
      "loss: 0.398278  [14976/50000]\n",
      "loss: 0.341036  [19968/50000]\n",
      "loss: 0.361411  [24960/50000]\n",
      "loss: 0.434123  [29952/50000]\n",
      "loss: 0.309153  [34944/50000]\n",
      "loss: 0.382650  [39936/50000]\n",
      "loss: 0.376854  [44928/50000]\n",
      "loss: 0.350059  [31200/50000]\n",
      "Epoch average loss: 0.36135849356651306\n"
     ]
    },
    {
     "data": {
      "application/vnd.jupyter.widget-view+json": {
       "model_id": "5d081323799f4e879d305545c7b4a7dd",
       "version_major": 2,
       "version_minor": 0
      },
      "text/plain": [
       "  0%|          | 0/391 [00:00<?, ?it/s]"
      ]
     },
     "metadata": {},
     "output_type": "display_data"
    },
    {
     "name": "stdout",
     "output_type": "stream",
     "text": [
      "loss: 0.346300  [    0/50000]\n",
      "loss: 0.398281  [ 4992/50000]\n",
      "loss: 0.374269  [ 9984/50000]\n",
      "loss: 0.357463  [14976/50000]\n",
      "loss: 0.291889  [19968/50000]\n",
      "loss: 0.395196  [24960/50000]\n",
      "loss: 0.289273  [29952/50000]\n",
      "loss: 0.332256  [34944/50000]\n",
      "loss: 0.390872  [39936/50000]\n",
      "loss: 0.380385  [44928/50000]\n",
      "loss: 0.353897  [31200/50000]\n",
      "Epoch average loss: 0.3606092631816864\n"
     ]
    },
    {
     "data": {
      "application/vnd.jupyter.widget-view+json": {
       "model_id": "0ed5f0cfc1cc431b9629bb2706a10e0a",
       "version_major": 2,
       "version_minor": 0
      },
      "text/plain": [
       "  0%|          | 0/391 [00:00<?, ?it/s]"
      ]
     },
     "metadata": {},
     "output_type": "display_data"
    },
    {
     "name": "stdout",
     "output_type": "stream",
     "text": [
      "loss: 0.366479  [    0/50000]\n",
      "loss: 0.319340  [ 4992/50000]\n",
      "loss: 0.307002  [ 9984/50000]\n",
      "loss: 0.392530  [14976/50000]\n",
      "loss: 0.382558  [19968/50000]\n",
      "loss: 0.323694  [24960/50000]\n",
      "loss: 0.334525  [29952/50000]\n",
      "loss: 0.367625  [34944/50000]\n",
      "loss: 0.337564  [39936/50000]\n",
      "loss: 0.421555  [44928/50000]\n",
      "loss: 0.335695  [31200/50000]\n",
      "Epoch average loss: 0.3615202009677887\n",
      "Done!\n"
     ]
    },
    {
     "data": {
      "application/vnd.jupyter.widget-view+json": {
       "model_id": "bd19da85d52742008bc403aedcfea768",
       "version_major": 2,
       "version_minor": 0
      },
      "text/plain": [
       "  0%|          | 0/3473 [00:00<?, ?it/s]"
      ]
     },
     "metadata": {},
     "output_type": "display_data"
    },
    {
     "name": "stdout",
     "output_type": "stream",
     "text": [
      "Seed 0 - Iteration 1 - Model 17 - Done\n",
      "Seed 0 - Iteration 1 - Model 18 - Begin\n"
     ]
    },
    {
     "data": {
      "application/vnd.jupyter.widget-view+json": {
       "model_id": "7a7a1a0e4e59492590e4de8ca74255ef",
       "version_major": 2,
       "version_minor": 0
      },
      "text/plain": [
       "  0%|          | 0/391 [00:00<?, ?it/s]"
      ]
     },
     "metadata": {},
     "output_type": "display_data"
    },
    {
     "name": "stdout",
     "output_type": "stream",
     "text": [
      "loss: 0.418690  [    0/50000]\n",
      "loss: 0.377462  [ 4992/50000]\n",
      "loss: 0.336222  [ 9984/50000]\n",
      "loss: 0.365763  [14976/50000]\n",
      "loss: 0.348595  [19968/50000]\n",
      "loss: 0.390724  [24960/50000]\n",
      "loss: 0.372193  [29952/50000]\n",
      "loss: 0.329988  [34944/50000]\n",
      "loss: 0.393999  [39936/50000]\n",
      "loss: 0.341273  [44928/50000]\n",
      "loss: 0.284871  [31200/50000]\n",
      "Epoch average loss: 0.3657374978065491\n"
     ]
    },
    {
     "data": {
      "application/vnd.jupyter.widget-view+json": {
       "model_id": "58560afd0c524a2885362f3664d51b57",
       "version_major": 2,
       "version_minor": 0
      },
      "text/plain": [
       "  0%|          | 0/391 [00:00<?, ?it/s]"
      ]
     },
     "metadata": {},
     "output_type": "display_data"
    },
    {
     "name": "stdout",
     "output_type": "stream",
     "text": [
      "loss: 0.320023  [    0/50000]\n",
      "loss: 0.385398  [ 4992/50000]\n",
      "loss: 0.318665  [ 9984/50000]\n",
      "loss: 0.450725  [14976/50000]\n",
      "loss: 0.345664  [19968/50000]\n",
      "loss: 0.311902  [24960/50000]\n",
      "loss: 0.338817  [29952/50000]\n",
      "loss: 0.382710  [34944/50000]\n",
      "loss: 0.373794  [39936/50000]\n",
      "loss: 0.439936  [44928/50000]\n",
      "loss: 0.334433  [31200/50000]\n",
      "Epoch average loss: 0.3659549057483673\n"
     ]
    },
    {
     "data": {
      "application/vnd.jupyter.widget-view+json": {
       "model_id": "cfd28e2912b343619e474d32bff1b041",
       "version_major": 2,
       "version_minor": 0
      },
      "text/plain": [
       "  0%|          | 0/391 [00:00<?, ?it/s]"
      ]
     },
     "metadata": {},
     "output_type": "display_data"
    },
    {
     "name": "stdout",
     "output_type": "stream",
     "text": [
      "loss: 0.398775  [    0/50000]\n",
      "loss: 0.341598  [ 4992/50000]\n",
      "loss: 0.367600  [ 9984/50000]\n",
      "loss: 0.364051  [14976/50000]\n",
      "loss: 0.298030  [19968/50000]\n",
      "loss: 0.334858  [24960/50000]\n",
      "loss: 0.368899  [29952/50000]\n",
      "loss: 0.418087  [34944/50000]\n",
      "loss: 0.370150  [39936/50000]\n",
      "loss: 0.301672  [44928/50000]\n",
      "loss: 0.324703  [31200/50000]\n",
      "Epoch average loss: 0.3650110960006714\n",
      "Done!\n"
     ]
    },
    {
     "data": {
      "application/vnd.jupyter.widget-view+json": {
       "model_id": "6b413244e2d449ad80f7dbaf1a6f74da",
       "version_major": 2,
       "version_minor": 0
      },
      "text/plain": [
       "  0%|          | 0/3473 [00:00<?, ?it/s]"
      ]
     },
     "metadata": {},
     "output_type": "display_data"
    },
    {
     "name": "stdout",
     "output_type": "stream",
     "text": [
      "Seed 0 - Iteration 1 - Model 18 - Done\n",
      "Seed 0 - Iteration 1 - Model 19 - Begin\n"
     ]
    },
    {
     "data": {
      "application/vnd.jupyter.widget-view+json": {
       "model_id": "e0ca09a6ed6b4d0b8f08e5fc4ebbea0e",
       "version_major": 2,
       "version_minor": 0
      },
      "text/plain": [
       "  0%|          | 0/391 [00:00<?, ?it/s]"
      ]
     },
     "metadata": {},
     "output_type": "display_data"
    },
    {
     "name": "stdout",
     "output_type": "stream",
     "text": [
      "loss: 0.374899  [    0/50000]\n",
      "loss: 0.388804  [ 4992/50000]\n",
      "loss: 0.392945  [ 9984/50000]\n",
      "loss: 0.398042  [14976/50000]\n",
      "loss: 0.440538  [19968/50000]\n",
      "loss: 0.293786  [24960/50000]\n",
      "loss: 0.321113  [29952/50000]\n",
      "loss: 0.375648  [34944/50000]\n",
      "loss: 0.406474  [39936/50000]\n",
      "loss: 0.397156  [44928/50000]\n",
      "loss: 0.381035  [31200/50000]\n",
      "Epoch average loss: 0.3621770143508911\n"
     ]
    },
    {
     "data": {
      "application/vnd.jupyter.widget-view+json": {
       "model_id": "1e740ec131e944c9a89816fc00fb707b",
       "version_major": 2,
       "version_minor": 0
      },
      "text/plain": [
       "  0%|          | 0/391 [00:00<?, ?it/s]"
      ]
     },
     "metadata": {},
     "output_type": "display_data"
    },
    {
     "name": "stdout",
     "output_type": "stream",
     "text": [
      "loss: 0.304778  [    0/50000]\n",
      "loss: 0.408918  [ 4992/50000]\n",
      "loss: 0.264013  [ 9984/50000]\n",
      "loss: 0.346140  [14976/50000]\n",
      "loss: 0.309258  [19968/50000]\n",
      "loss: 0.296121  [24960/50000]\n",
      "loss: 0.386139  [29952/50000]\n",
      "loss: 0.356022  [34944/50000]\n",
      "loss: 0.370108  [39936/50000]\n",
      "loss: 0.329175  [44928/50000]\n",
      "loss: 0.280125  [31200/50000]\n",
      "Epoch average loss: 0.3625127673149109\n"
     ]
    },
    {
     "data": {
      "application/vnd.jupyter.widget-view+json": {
       "model_id": "3a6076dcb3894e028b9943cb6519b80d",
       "version_major": 2,
       "version_minor": 0
      },
      "text/plain": [
       "  0%|          | 0/391 [00:00<?, ?it/s]"
      ]
     },
     "metadata": {},
     "output_type": "display_data"
    },
    {
     "name": "stdout",
     "output_type": "stream",
     "text": [
      "loss: 0.332310  [    0/50000]\n",
      "loss: 0.283148  [ 4992/50000]\n",
      "loss: 0.376709  [ 9984/50000]\n",
      "loss: 0.363563  [14976/50000]\n",
      "loss: 0.361886  [19968/50000]\n",
      "loss: 0.368435  [24960/50000]\n",
      "loss: 0.388276  [29952/50000]\n",
      "loss: 0.384575  [34944/50000]\n",
      "loss: 0.338917  [39936/50000]\n",
      "loss: 0.437541  [44928/50000]\n",
      "loss: 0.351064  [31200/50000]\n",
      "Epoch average loss: 0.36002734303474426\n",
      "Done!\n"
     ]
    },
    {
     "data": {
      "application/vnd.jupyter.widget-view+json": {
       "model_id": "9a8089f48bb045daa4fe85eac3cb9f49",
       "version_major": 2,
       "version_minor": 0
      },
      "text/plain": [
       "  0%|          | 0/3473 [00:00<?, ?it/s]"
      ]
     },
     "metadata": {},
     "output_type": "display_data"
    },
    {
     "name": "stdout",
     "output_type": "stream",
     "text": [
      "Seed 0 - Iteration 1 - Model 19 - Done\n",
      "Seed 0 - Iteration 1 - Model 20 - Begin\n"
     ]
    },
    {
     "data": {
      "application/vnd.jupyter.widget-view+json": {
       "model_id": "ef22bc375f934401b37e955550cbb35e",
       "version_major": 2,
       "version_minor": 0
      },
      "text/plain": [
       "  0%|          | 0/391 [00:00<?, ?it/s]"
      ]
     },
     "metadata": {},
     "output_type": "display_data"
    },
    {
     "name": "stdout",
     "output_type": "stream",
     "text": [
      "loss: 0.390528  [    0/50000]\n",
      "loss: 0.373576  [ 4992/50000]\n",
      "loss: 0.387936  [ 9984/50000]\n",
      "loss: 0.330340  [14976/50000]\n",
      "loss: 0.399550  [19968/50000]\n",
      "loss: 0.381654  [24960/50000]\n",
      "loss: 0.359380  [29952/50000]\n",
      "loss: 0.345219  [34944/50000]\n",
      "loss: 0.358643  [39936/50000]\n",
      "loss: 0.366963  [44928/50000]\n",
      "loss: 0.362465  [31200/50000]\n",
      "Epoch average loss: 0.36491233110427856\n"
     ]
    },
    {
     "data": {
      "application/vnd.jupyter.widget-view+json": {
       "model_id": "2d1b7e176be044f689ea8e192067f12c",
       "version_major": 2,
       "version_minor": 0
      },
      "text/plain": [
       "  0%|          | 0/391 [00:00<?, ?it/s]"
      ]
     },
     "metadata": {},
     "output_type": "display_data"
    },
    {
     "name": "stdout",
     "output_type": "stream",
     "text": [
      "loss: 0.367850  [    0/50000]\n",
      "loss: 0.313505  [ 4992/50000]\n",
      "loss: 0.358208  [ 9984/50000]\n",
      "loss: 0.338196  [14976/50000]\n",
      "loss: 0.370171  [19968/50000]\n",
      "loss: 0.290296  [24960/50000]\n",
      "loss: 0.354375  [29952/50000]\n",
      "loss: 0.356045  [34944/50000]\n",
      "loss: 0.326587  [39936/50000]\n",
      "loss: 0.348610  [44928/50000]\n",
      "loss: 0.355721  [31200/50000]\n",
      "Epoch average loss: 0.36214619874954224\n"
     ]
    },
    {
     "data": {
      "application/vnd.jupyter.widget-view+json": {
       "model_id": "be3627c7998944b2b07b7a0cf3bb7f83",
       "version_major": 2,
       "version_minor": 0
      },
      "text/plain": [
       "  0%|          | 0/391 [00:00<?, ?it/s]"
      ]
     },
     "metadata": {},
     "output_type": "display_data"
    },
    {
     "name": "stdout",
     "output_type": "stream",
     "text": [
      "loss: 0.406973  [    0/50000]\n",
      "loss: 0.370173  [ 4992/50000]\n",
      "loss: 0.369065  [ 9984/50000]\n",
      "loss: 0.410013  [14976/50000]\n",
      "loss: 0.383433  [19968/50000]\n",
      "loss: 0.353235  [24960/50000]\n",
      "loss: 0.283358  [29952/50000]\n",
      "loss: 0.338477  [34944/50000]\n",
      "loss: 0.390919  [39936/50000]\n",
      "loss: 0.354199  [44928/50000]\n",
      "loss: 0.224238  [31200/50000]\n",
      "Epoch average loss: 0.36293262243270874\n",
      "Done!\n"
     ]
    },
    {
     "data": {
      "application/vnd.jupyter.widget-view+json": {
       "model_id": "b7590f547a784fb2a82bfb6f636c9bc5",
       "version_major": 2,
       "version_minor": 0
      },
      "text/plain": [
       "  0%|          | 0/3473 [00:00<?, ?it/s]"
      ]
     },
     "metadata": {},
     "output_type": "display_data"
    },
    {
     "name": "stdout",
     "output_type": "stream",
     "text": [
      "Seed 0 - Iteration 1 - Model 20 - Done\n",
      "Seed 0 - Iteration 1 - Model 21 - Begin\n"
     ]
    },
    {
     "data": {
      "application/vnd.jupyter.widget-view+json": {
       "model_id": "6e14dfd5753145629107950f37fb17e6",
       "version_major": 2,
       "version_minor": 0
      },
      "text/plain": [
       "  0%|          | 0/391 [00:00<?, ?it/s]"
      ]
     },
     "metadata": {},
     "output_type": "display_data"
    },
    {
     "name": "stdout",
     "output_type": "stream",
     "text": [
      "loss: 0.344620  [    0/50000]\n",
      "loss: 0.354984  [ 4992/50000]\n",
      "loss: 0.319327  [ 9984/50000]\n",
      "loss: 0.313120  [14976/50000]\n",
      "loss: 0.331734  [19968/50000]\n",
      "loss: 0.395778  [24960/50000]\n",
      "loss: 0.444374  [29952/50000]\n",
      "loss: 0.389187  [34944/50000]\n",
      "loss: 0.329107  [39936/50000]\n",
      "loss: 0.422290  [44928/50000]\n",
      "loss: 0.350464  [31200/50000]\n",
      "Epoch average loss: 0.3639088571071625\n"
     ]
    },
    {
     "data": {
      "application/vnd.jupyter.widget-view+json": {
       "model_id": "e7aa49b96c8f454faba9065031bafcf9",
       "version_major": 2,
       "version_minor": 0
      },
      "text/plain": [
       "  0%|          | 0/391 [00:00<?, ?it/s]"
      ]
     },
     "metadata": {},
     "output_type": "display_data"
    },
    {
     "name": "stdout",
     "output_type": "stream",
     "text": [
      "loss: 0.350123  [    0/50000]\n",
      "loss: 0.377296  [ 4992/50000]\n",
      "loss: 0.378276  [ 9984/50000]\n",
      "loss: 0.389440  [14976/50000]\n",
      "loss: 0.333937  [19968/50000]\n",
      "loss: 0.386857  [24960/50000]\n",
      "loss: 0.330650  [29952/50000]\n",
      "loss: 0.371082  [34944/50000]\n",
      "loss: 0.366372  [39936/50000]\n",
      "loss: 0.348345  [44928/50000]\n",
      "loss: 0.394093  [31200/50000]\n",
      "Epoch average loss: 0.3628416955471039\n"
     ]
    },
    {
     "data": {
      "application/vnd.jupyter.widget-view+json": {
       "model_id": "670a9dc11e5042a194af88f9e200eca0",
       "version_major": 2,
       "version_minor": 0
      },
      "text/plain": [
       "  0%|          | 0/391 [00:00<?, ?it/s]"
      ]
     },
     "metadata": {},
     "output_type": "display_data"
    },
    {
     "name": "stdout",
     "output_type": "stream",
     "text": [
      "loss: 0.356332  [    0/50000]\n",
      "loss: 0.332688  [ 4992/50000]\n",
      "loss: 0.383956  [ 9984/50000]\n",
      "loss: 0.338025  [14976/50000]\n",
      "loss: 0.336740  [19968/50000]\n",
      "loss: 0.357334  [24960/50000]\n",
      "loss: 0.323870  [29952/50000]\n",
      "loss: 0.331467  [34944/50000]\n",
      "loss: 0.366556  [39936/50000]\n",
      "loss: 0.352404  [44928/50000]\n",
      "loss: 0.278491  [31200/50000]\n",
      "Epoch average loss: 0.3637048304080963\n",
      "Done!\n"
     ]
    },
    {
     "data": {
      "application/vnd.jupyter.widget-view+json": {
       "model_id": "9a058f0ac6564ab08c1d6fccaf5f3603",
       "version_major": 2,
       "version_minor": 0
      },
      "text/plain": [
       "  0%|          | 0/3473 [00:00<?, ?it/s]"
      ]
     },
     "metadata": {},
     "output_type": "display_data"
    },
    {
     "name": "stdout",
     "output_type": "stream",
     "text": [
      "Seed 0 - Iteration 1 - Model 21 - Done\n",
      "Seed 0 - Iteration 1 - Model 22 - Begin\n"
     ]
    },
    {
     "data": {
      "application/vnd.jupyter.widget-view+json": {
       "model_id": "82d8195f4b5f47ed905bc2abaebba391",
       "version_major": 2,
       "version_minor": 0
      },
      "text/plain": [
       "  0%|          | 0/391 [00:00<?, ?it/s]"
      ]
     },
     "metadata": {},
     "output_type": "display_data"
    },
    {
     "name": "stdout",
     "output_type": "stream",
     "text": [
      "loss: 0.346644  [    0/50000]\n",
      "loss: 0.428531  [ 4992/50000]\n",
      "loss: 0.388327  [ 9984/50000]\n",
      "loss: 0.371248  [14976/50000]\n",
      "loss: 0.355170  [19968/50000]\n",
      "loss: 0.338780  [24960/50000]\n",
      "loss: 0.381980  [29952/50000]\n",
      "loss: 0.345267  [34944/50000]\n",
      "loss: 0.344141  [39936/50000]\n",
      "loss: 0.326215  [44928/50000]\n",
      "loss: 0.400209  [31200/50000]\n",
      "Epoch average loss: 0.3649917542934418\n"
     ]
    },
    {
     "data": {
      "application/vnd.jupyter.widget-view+json": {
       "model_id": "5d3be708936e4b078f20d1b8a955dc86",
       "version_major": 2,
       "version_minor": 0
      },
      "text/plain": [
       "  0%|          | 0/391 [00:00<?, ?it/s]"
      ]
     },
     "metadata": {},
     "output_type": "display_data"
    },
    {
     "name": "stdout",
     "output_type": "stream",
     "text": [
      "loss: 0.338597  [    0/50000]\n",
      "loss: 0.453980  [ 4992/50000]\n",
      "loss: 0.413363  [ 9984/50000]\n",
      "loss: 0.341489  [14976/50000]\n",
      "loss: 0.365409  [19968/50000]\n",
      "loss: 0.388801  [24960/50000]\n",
      "loss: 0.349256  [29952/50000]\n",
      "loss: 0.388616  [34944/50000]\n",
      "loss: 0.345283  [39936/50000]\n",
      "loss: 0.396503  [44928/50000]\n",
      "loss: 0.360414  [31200/50000]\n",
      "Epoch average loss: 0.3636026978492737\n"
     ]
    },
    {
     "data": {
      "application/vnd.jupyter.widget-view+json": {
       "model_id": "8f7d39c0dc204d3a98b5871272690f99",
       "version_major": 2,
       "version_minor": 0
      },
      "text/plain": [
       "  0%|          | 0/391 [00:00<?, ?it/s]"
      ]
     },
     "metadata": {},
     "output_type": "display_data"
    },
    {
     "name": "stdout",
     "output_type": "stream",
     "text": [
      "loss: 0.365952  [    0/50000]\n",
      "loss: 0.391421  [ 4992/50000]\n",
      "loss: 0.322531  [ 9984/50000]\n",
      "loss: 0.348279  [14976/50000]\n",
      "loss: 0.354986  [19968/50000]\n",
      "loss: 0.325951  [24960/50000]\n",
      "loss: 0.429619  [29952/50000]\n",
      "loss: 0.408751  [34944/50000]\n",
      "loss: 0.398096  [39936/50000]\n",
      "loss: 0.384907  [44928/50000]\n",
      "loss: 0.389816  [31200/50000]\n",
      "Epoch average loss: 0.3645685315132141\n",
      "Done!\n"
     ]
    },
    {
     "data": {
      "application/vnd.jupyter.widget-view+json": {
       "model_id": "290f695c31c94de8bd6807c2ebee0f43",
       "version_major": 2,
       "version_minor": 0
      },
      "text/plain": [
       "  0%|          | 0/3473 [00:00<?, ?it/s]"
      ]
     },
     "metadata": {},
     "output_type": "display_data"
    },
    {
     "name": "stdout",
     "output_type": "stream",
     "text": [
      "Seed 0 - Iteration 1 - Model 22 - Done\n",
      "Seed 0 - Iteration 1 - Model 23 - Begin\n"
     ]
    },
    {
     "data": {
      "application/vnd.jupyter.widget-view+json": {
       "model_id": "39044520ab804143affccad4ae0108d3",
       "version_major": 2,
       "version_minor": 0
      },
      "text/plain": [
       "  0%|          | 0/391 [00:00<?, ?it/s]"
      ]
     },
     "metadata": {},
     "output_type": "display_data"
    },
    {
     "name": "stdout",
     "output_type": "stream",
     "text": [
      "loss: 0.351953  [    0/50000]\n",
      "loss: 0.402540  [ 4992/50000]\n",
      "loss: 0.342083  [ 9984/50000]\n",
      "loss: 0.347482  [14976/50000]\n",
      "loss: 0.337659  [19968/50000]\n",
      "loss: 0.389558  [24960/50000]\n",
      "loss: 0.334745  [29952/50000]\n",
      "loss: 0.384813  [34944/50000]\n",
      "loss: 0.349100  [39936/50000]\n",
      "loss: 0.390132  [44928/50000]\n",
      "loss: 0.345509  [31200/50000]\n",
      "Epoch average loss: 0.3610244691371918\n"
     ]
    },
    {
     "data": {
      "application/vnd.jupyter.widget-view+json": {
       "model_id": "44f3da553f854ae38b45140b41564f28",
       "version_major": 2,
       "version_minor": 0
      },
      "text/plain": [
       "  0%|          | 0/391 [00:00<?, ?it/s]"
      ]
     },
     "metadata": {},
     "output_type": "display_data"
    },
    {
     "name": "stdout",
     "output_type": "stream",
     "text": [
      "loss: 0.320654  [    0/50000]\n",
      "loss: 0.401340  [ 4992/50000]\n",
      "loss: 0.348927  [ 9984/50000]\n",
      "loss: 0.355229  [14976/50000]\n",
      "loss: 0.402605  [19968/50000]\n",
      "loss: 0.358957  [24960/50000]\n",
      "loss: 0.305994  [29952/50000]\n",
      "loss: 0.418309  [34944/50000]\n",
      "loss: 0.392044  [39936/50000]\n",
      "loss: 0.379076  [44928/50000]\n",
      "loss: 0.380359  [31200/50000]\n",
      "Epoch average loss: 0.36064931750297546\n"
     ]
    },
    {
     "data": {
      "application/vnd.jupyter.widget-view+json": {
       "model_id": "8bf50a94db5e445da3c9b282081373aa",
       "version_major": 2,
       "version_minor": 0
      },
      "text/plain": [
       "  0%|          | 0/391 [00:00<?, ?it/s]"
      ]
     },
     "metadata": {},
     "output_type": "display_data"
    },
    {
     "name": "stdout",
     "output_type": "stream",
     "text": [
      "loss: 0.339567  [    0/50000]\n",
      "loss: 0.388550  [ 4992/50000]\n",
      "loss: 0.325630  [ 9984/50000]\n",
      "loss: 0.329347  [14976/50000]\n",
      "loss: 0.367544  [19968/50000]\n",
      "loss: 0.339536  [24960/50000]\n",
      "loss: 0.311443  [29952/50000]\n",
      "loss: 0.413085  [34944/50000]\n",
      "loss: 0.376573  [39936/50000]\n",
      "loss: 0.393170  [44928/50000]\n",
      "loss: 0.410186  [31200/50000]\n",
      "Epoch average loss: 0.3600997030735016\n",
      "Done!\n"
     ]
    },
    {
     "data": {
      "application/vnd.jupyter.widget-view+json": {
       "model_id": "532e2657e85a47afb3ceffda635ffee7",
       "version_major": 2,
       "version_minor": 0
      },
      "text/plain": [
       "  0%|          | 0/3473 [00:00<?, ?it/s]"
      ]
     },
     "metadata": {},
     "output_type": "display_data"
    },
    {
     "name": "stdout",
     "output_type": "stream",
     "text": [
      "Seed 0 - Iteration 1 - Model 23 - Done\n",
      "Seed 0 - Iteration 1 - Model 24 - Begin\n"
     ]
    },
    {
     "data": {
      "application/vnd.jupyter.widget-view+json": {
       "model_id": "b9c164714a65410996cbd1bb475a870f",
       "version_major": 2,
       "version_minor": 0
      },
      "text/plain": [
       "  0%|          | 0/391 [00:00<?, ?it/s]"
      ]
     },
     "metadata": {},
     "output_type": "display_data"
    },
    {
     "name": "stdout",
     "output_type": "stream",
     "text": [
      "loss: 0.375023  [    0/50000]\n",
      "loss: 0.337850  [ 4992/50000]\n",
      "loss: 0.424908  [ 9984/50000]\n",
      "loss: 0.388779  [14976/50000]\n",
      "loss: 0.345687  [19968/50000]\n",
      "loss: 0.346043  [24960/50000]\n",
      "loss: 0.403008  [29952/50000]\n",
      "loss: 0.347183  [34944/50000]\n",
      "loss: 0.405996  [39936/50000]\n",
      "loss: 0.360808  [44928/50000]\n",
      "loss: 0.310199  [31200/50000]\n",
      "Epoch average loss: 0.3621577322483063\n"
     ]
    },
    {
     "data": {
      "application/vnd.jupyter.widget-view+json": {
       "model_id": "882b9cd1f0484805bb1a9026cad81c82",
       "version_major": 2,
       "version_minor": 0
      },
      "text/plain": [
       "  0%|          | 0/391 [00:00<?, ?it/s]"
      ]
     },
     "metadata": {},
     "output_type": "display_data"
    },
    {
     "name": "stdout",
     "output_type": "stream",
     "text": [
      "loss: 0.393964  [    0/50000]\n",
      "loss: 0.355902  [ 4992/50000]\n",
      "loss: 0.404612  [ 9984/50000]\n",
      "loss: 0.392822  [14976/50000]\n",
      "loss: 0.315474  [19968/50000]\n",
      "loss: 0.385478  [24960/50000]\n",
      "loss: 0.320867  [29952/50000]\n",
      "loss: 0.300892  [34944/50000]\n",
      "loss: 0.387427  [39936/50000]\n",
      "loss: 0.323765  [44928/50000]\n",
      "loss: 0.382959  [31200/50000]\n",
      "Epoch average loss: 0.3622788190841675\n"
     ]
    },
    {
     "data": {
      "application/vnd.jupyter.widget-view+json": {
       "model_id": "be745c1492014e5e949836f79ecba44d",
       "version_major": 2,
       "version_minor": 0
      },
      "text/plain": [
       "  0%|          | 0/391 [00:00<?, ?it/s]"
      ]
     },
     "metadata": {},
     "output_type": "display_data"
    },
    {
     "name": "stdout",
     "output_type": "stream",
     "text": [
      "loss: 0.399670  [    0/50000]\n",
      "loss: 0.369500  [ 4992/50000]\n",
      "loss: 0.366769  [ 9984/50000]\n",
      "loss: 0.418320  [14976/50000]\n",
      "loss: 0.388011  [19968/50000]\n",
      "loss: 0.348076  [24960/50000]\n",
      "loss: 0.325025  [29952/50000]\n",
      "loss: 0.404832  [34944/50000]\n",
      "loss: 0.449906  [39936/50000]\n",
      "loss: 0.398660  [44928/50000]\n",
      "loss: 0.286074  [31200/50000]\n",
      "Epoch average loss: 0.3623354136943817\n",
      "Done!\n"
     ]
    },
    {
     "data": {
      "application/vnd.jupyter.widget-view+json": {
       "model_id": "8c68a14ab8d64b94a372178d5a1e0115",
       "version_major": 2,
       "version_minor": 0
      },
      "text/plain": [
       "  0%|          | 0/3473 [00:00<?, ?it/s]"
      ]
     },
     "metadata": {},
     "output_type": "display_data"
    },
    {
     "name": "stdout",
     "output_type": "stream",
     "text": [
      "Seed 0 - Iteration 1 - Model 24 - Done\n",
      "Seed 0 - Iteration 1 - Model 25 - Begin\n"
     ]
    },
    {
     "data": {
      "application/vnd.jupyter.widget-view+json": {
       "model_id": "a352770bd4ac4f85aecb4635e570fb10",
       "version_major": 2,
       "version_minor": 0
      },
      "text/plain": [
       "  0%|          | 0/391 [00:00<?, ?it/s]"
      ]
     },
     "metadata": {},
     "output_type": "display_data"
    },
    {
     "name": "stdout",
     "output_type": "stream",
     "text": [
      "loss: 0.322241  [    0/50000]\n",
      "loss: 0.356952  [ 4992/50000]\n",
      "loss: 0.289560  [ 9984/50000]\n",
      "loss: 0.381785  [14976/50000]\n",
      "loss: 0.389962  [19968/50000]\n",
      "loss: 0.344300  [24960/50000]\n",
      "loss: 0.404704  [29952/50000]\n",
      "loss: 0.400658  [34944/50000]\n",
      "loss: 0.397474  [39936/50000]\n",
      "loss: 0.403833  [44928/50000]\n",
      "loss: 0.320530  [31200/50000]\n",
      "Epoch average loss: 0.36479654908180237\n"
     ]
    },
    {
     "data": {
      "application/vnd.jupyter.widget-view+json": {
       "model_id": "46b2fceed3744ca8ba059a8b48eef944",
       "version_major": 2,
       "version_minor": 0
      },
      "text/plain": [
       "  0%|          | 0/391 [00:00<?, ?it/s]"
      ]
     },
     "metadata": {},
     "output_type": "display_data"
    },
    {
     "name": "stdout",
     "output_type": "stream",
     "text": [
      "loss: 0.366795  [    0/50000]\n",
      "loss: 0.416388  [ 4992/50000]\n",
      "loss: 0.425864  [ 9984/50000]\n",
      "loss: 0.331994  [14976/50000]\n",
      "loss: 0.325872  [19968/50000]\n",
      "loss: 0.345786  [24960/50000]\n",
      "loss: 0.385902  [29952/50000]\n",
      "loss: 0.337761  [34944/50000]\n",
      "loss: 0.409399  [39936/50000]\n",
      "loss: 0.369960  [44928/50000]\n",
      "loss: 0.357539  [31200/50000]\n",
      "Epoch average loss: 0.3645392060279846\n"
     ]
    },
    {
     "data": {
      "application/vnd.jupyter.widget-view+json": {
       "model_id": "785d04696d0549fdb58d74bfdb0e0c19",
       "version_major": 2,
       "version_minor": 0
      },
      "text/plain": [
       "  0%|          | 0/391 [00:00<?, ?it/s]"
      ]
     },
     "metadata": {},
     "output_type": "display_data"
    },
    {
     "name": "stdout",
     "output_type": "stream",
     "text": [
      "loss: 0.323439  [    0/50000]\n",
      "loss: 0.385340  [ 4992/50000]\n",
      "loss: 0.359060  [ 9984/50000]\n",
      "loss: 0.340236  [14976/50000]\n",
      "loss: 0.391097  [19968/50000]\n",
      "loss: 0.395110  [24960/50000]\n",
      "loss: 0.362624  [29952/50000]\n",
      "loss: 0.353774  [34944/50000]\n",
      "loss: 0.318166  [39936/50000]\n",
      "loss: 0.365845  [44928/50000]\n",
      "loss: 0.352316  [31200/50000]\n",
      "Epoch average loss: 0.36224427819252014\n",
      "Done!\n"
     ]
    },
    {
     "data": {
      "application/vnd.jupyter.widget-view+json": {
       "model_id": "236b505c896e4b04ac3f46457739db0d",
       "version_major": 2,
       "version_minor": 0
      },
      "text/plain": [
       "  0%|          | 0/3473 [00:00<?, ?it/s]"
      ]
     },
     "metadata": {},
     "output_type": "display_data"
    },
    {
     "name": "stdout",
     "output_type": "stream",
     "text": [
      "Seed 0 - Iteration 1 - Model 25 - Done\n",
      "Seed 0 - Iteration 1 - Model 26 - Begin\n"
     ]
    },
    {
     "data": {
      "application/vnd.jupyter.widget-view+json": {
       "model_id": "c502042e36b3423b89010f78c0f710b1",
       "version_major": 2,
       "version_minor": 0
      },
      "text/plain": [
       "  0%|          | 0/391 [00:00<?, ?it/s]"
      ]
     },
     "metadata": {},
     "output_type": "display_data"
    },
    {
     "name": "stdout",
     "output_type": "stream",
     "text": [
      "loss: 0.336643  [    0/50000]\n",
      "loss: 0.318669  [ 4992/50000]\n",
      "loss: 0.335045  [ 9984/50000]\n",
      "loss: 0.411398  [14976/50000]\n",
      "loss: 0.413485  [19968/50000]\n",
      "loss: 0.330947  [24960/50000]\n",
      "loss: 0.354230  [29952/50000]\n",
      "loss: 0.342914  [34944/50000]\n",
      "loss: 0.415429  [39936/50000]\n",
      "loss: 0.406255  [44928/50000]\n",
      "loss: 0.313470  [31200/50000]\n",
      "Epoch average loss: 0.36004361510276794\n"
     ]
    },
    {
     "data": {
      "application/vnd.jupyter.widget-view+json": {
       "model_id": "22a8a581afd949198c999c111cceb6d0",
       "version_major": 2,
       "version_minor": 0
      },
      "text/plain": [
       "  0%|          | 0/391 [00:00<?, ?it/s]"
      ]
     },
     "metadata": {},
     "output_type": "display_data"
    },
    {
     "name": "stdout",
     "output_type": "stream",
     "text": [
      "loss: 0.386883  [    0/50000]\n",
      "loss: 0.352305  [ 4992/50000]\n",
      "loss: 0.353350  [ 9984/50000]\n",
      "loss: 0.425295  [14976/50000]\n",
      "loss: 0.320889  [19968/50000]\n",
      "loss: 0.378136  [24960/50000]\n",
      "loss: 0.358442  [29952/50000]\n",
      "loss: 0.337707  [34944/50000]\n",
      "loss: 0.319039  [39936/50000]\n",
      "loss: 0.391901  [44928/50000]\n",
      "loss: 0.369401  [31200/50000]\n",
      "Epoch average loss: 0.3603772819042206\n"
     ]
    },
    {
     "data": {
      "application/vnd.jupyter.widget-view+json": {
       "model_id": "e1f87cdb592244b1bbabb97a0e1d2785",
       "version_major": 2,
       "version_minor": 0
      },
      "text/plain": [
       "  0%|          | 0/391 [00:00<?, ?it/s]"
      ]
     },
     "metadata": {},
     "output_type": "display_data"
    },
    {
     "name": "stdout",
     "output_type": "stream",
     "text": [
      "loss: 0.366482  [    0/50000]\n",
      "loss: 0.414986  [ 4992/50000]\n",
      "loss: 0.369441  [ 9984/50000]\n",
      "loss: 0.435468  [14976/50000]\n",
      "loss: 0.374962  [19968/50000]\n",
      "loss: 0.379233  [24960/50000]\n",
      "loss: 0.308789  [29952/50000]\n",
      "loss: 0.357505  [34944/50000]\n",
      "loss: 0.318620  [39936/50000]\n",
      "loss: 0.302206  [44928/50000]\n",
      "loss: 0.314335  [31200/50000]\n",
      "Epoch average loss: 0.3595105707645416\n",
      "Done!\n"
     ]
    },
    {
     "data": {
      "application/vnd.jupyter.widget-view+json": {
       "model_id": "f80ab5de73d84e6c8b509321a2180038",
       "version_major": 2,
       "version_minor": 0
      },
      "text/plain": [
       "  0%|          | 0/3473 [00:00<?, ?it/s]"
      ]
     },
     "metadata": {},
     "output_type": "display_data"
    },
    {
     "name": "stdout",
     "output_type": "stream",
     "text": [
      "Seed 0 - Iteration 1 - Model 26 - Done\n",
      "Seed 0 - Iteration 1 - Model 27 - Begin\n"
     ]
    },
    {
     "data": {
      "application/vnd.jupyter.widget-view+json": {
       "model_id": "ebdb5ef2b3ad4f04a3892749d82da5de",
       "version_major": 2,
       "version_minor": 0
      },
      "text/plain": [
       "  0%|          | 0/391 [00:00<?, ?it/s]"
      ]
     },
     "metadata": {},
     "output_type": "display_data"
    },
    {
     "name": "stdout",
     "output_type": "stream",
     "text": [
      "loss: 0.325485  [    0/50000]\n",
      "loss: 0.304996  [ 4992/50000]\n",
      "loss: 0.451509  [ 9984/50000]\n",
      "loss: 0.329021  [14976/50000]\n",
      "loss: 0.412109  [19968/50000]\n",
      "loss: 0.388679  [24960/50000]\n",
      "loss: 0.349663  [29952/50000]\n",
      "loss: 0.388563  [34944/50000]\n",
      "loss: 0.332583  [39936/50000]\n",
      "loss: 0.388341  [44928/50000]\n",
      "loss: 0.367059  [31200/50000]\n",
      "Epoch average loss: 0.36254069209098816\n"
     ]
    },
    {
     "data": {
      "application/vnd.jupyter.widget-view+json": {
       "model_id": "92d1e802e75949a6b072e0c85128fd94",
       "version_major": 2,
       "version_minor": 0
      },
      "text/plain": [
       "  0%|          | 0/391 [00:00<?, ?it/s]"
      ]
     },
     "metadata": {},
     "output_type": "display_data"
    },
    {
     "name": "stdout",
     "output_type": "stream",
     "text": [
      "loss: 0.405747  [    0/50000]\n",
      "loss: 0.377731  [ 4992/50000]\n",
      "loss: 0.303790  [ 9984/50000]\n",
      "loss: 0.365424  [14976/50000]\n",
      "loss: 0.365858  [19968/50000]\n",
      "loss: 0.361084  [24960/50000]\n",
      "loss: 0.416871  [29952/50000]\n",
      "loss: 0.404686  [34944/50000]\n",
      "loss: 0.411048  [39936/50000]\n",
      "loss: 0.323373  [44928/50000]\n",
      "loss: 0.392105  [31200/50000]\n",
      "Epoch average loss: 0.3607514500617981\n"
     ]
    },
    {
     "data": {
      "application/vnd.jupyter.widget-view+json": {
       "model_id": "2ab7362381d64b13bfaf2cf30b336736",
       "version_major": 2,
       "version_minor": 0
      },
      "text/plain": [
       "  0%|          | 0/391 [00:00<?, ?it/s]"
      ]
     },
     "metadata": {},
     "output_type": "display_data"
    },
    {
     "name": "stdout",
     "output_type": "stream",
     "text": [
      "loss: 0.376333  [    0/50000]\n",
      "loss: 0.363936  [ 4992/50000]\n",
      "loss: 0.318429  [ 9984/50000]\n",
      "loss: 0.405978  [14976/50000]\n",
      "loss: 0.383650  [19968/50000]\n",
      "loss: 0.367164  [24960/50000]\n",
      "loss: 0.395686  [29952/50000]\n",
      "loss: 0.409510  [34944/50000]\n",
      "loss: 0.387117  [39936/50000]\n",
      "loss: 0.347774  [44928/50000]\n",
      "loss: 0.318932  [31200/50000]\n",
      "Epoch average loss: 0.36168593168258667\n",
      "Done!\n"
     ]
    },
    {
     "data": {
      "application/vnd.jupyter.widget-view+json": {
       "model_id": "ab6b0d087bbc4607847eb36073935407",
       "version_major": 2,
       "version_minor": 0
      },
      "text/plain": [
       "  0%|          | 0/3473 [00:00<?, ?it/s]"
      ]
     },
     "metadata": {},
     "output_type": "display_data"
    },
    {
     "name": "stdout",
     "output_type": "stream",
     "text": [
      "Seed 0 - Iteration 1 - Model 27 - Done\n",
      "Seed 0 - Iteration 1 - Model 28 - Begin\n"
     ]
    },
    {
     "data": {
      "application/vnd.jupyter.widget-view+json": {
       "model_id": "70aeeadfbc05409ea551f7744d46d27b",
       "version_major": 2,
       "version_minor": 0
      },
      "text/plain": [
       "  0%|          | 0/391 [00:00<?, ?it/s]"
      ]
     },
     "metadata": {},
     "output_type": "display_data"
    },
    {
     "name": "stdout",
     "output_type": "stream",
     "text": [
      "loss: 0.347708  [    0/50000]\n",
      "loss: 0.316711  [ 4992/50000]\n",
      "loss: 0.291582  [ 9984/50000]\n",
      "loss: 0.379094  [14976/50000]\n",
      "loss: 0.414849  [19968/50000]\n",
      "loss: 0.369684  [24960/50000]\n",
      "loss: 0.374522  [29952/50000]\n",
      "loss: 0.370054  [34944/50000]\n",
      "loss: 0.318456  [39936/50000]\n",
      "loss: 0.395565  [44928/50000]\n",
      "loss: 0.361076  [31200/50000]\n",
      "Epoch average loss: 0.36203742027282715\n"
     ]
    },
    {
     "data": {
      "application/vnd.jupyter.widget-view+json": {
       "model_id": "87f3aa48dcad4557a92d72fa30c26e5e",
       "version_major": 2,
       "version_minor": 0
      },
      "text/plain": [
       "  0%|          | 0/391 [00:00<?, ?it/s]"
      ]
     },
     "metadata": {},
     "output_type": "display_data"
    },
    {
     "name": "stdout",
     "output_type": "stream",
     "text": [
      "loss: 0.360095  [    0/50000]\n",
      "loss: 0.363717  [ 4992/50000]\n",
      "loss: 0.361006  [ 9984/50000]\n",
      "loss: 0.355467  [14976/50000]\n",
      "loss: 0.365552  [19968/50000]\n",
      "loss: 0.320903  [24960/50000]\n",
      "loss: 0.364480  [29952/50000]\n",
      "loss: 0.371073  [34944/50000]\n",
      "loss: 0.364466  [39936/50000]\n",
      "loss: 0.378381  [44928/50000]\n",
      "loss: 0.420839  [31200/50000]\n",
      "Epoch average loss: 0.36289939284324646\n"
     ]
    },
    {
     "data": {
      "application/vnd.jupyter.widget-view+json": {
       "model_id": "910e2aa110744b458ccbac7fc0155530",
       "version_major": 2,
       "version_minor": 0
      },
      "text/plain": [
       "  0%|          | 0/391 [00:00<?, ?it/s]"
      ]
     },
     "metadata": {},
     "output_type": "display_data"
    },
    {
     "name": "stdout",
     "output_type": "stream",
     "text": [
      "loss: 0.357809  [    0/50000]\n",
      "loss: 0.400564  [ 4992/50000]\n",
      "loss: 0.317422  [ 9984/50000]\n",
      "loss: 0.392423  [14976/50000]\n",
      "loss: 0.381952  [19968/50000]\n",
      "loss: 0.370782  [24960/50000]\n",
      "loss: 0.371298  [29952/50000]\n",
      "loss: 0.294877  [34944/50000]\n",
      "loss: 0.338849  [39936/50000]\n",
      "loss: 0.398045  [44928/50000]\n",
      "loss: 0.379784  [31200/50000]\n",
      "Epoch average loss: 0.36077722907066345\n",
      "Done!\n"
     ]
    },
    {
     "data": {
      "application/vnd.jupyter.widget-view+json": {
       "model_id": "f988a4eec74944b89593283d850f802b",
       "version_major": 2,
       "version_minor": 0
      },
      "text/plain": [
       "  0%|          | 0/3473 [00:00<?, ?it/s]"
      ]
     },
     "metadata": {},
     "output_type": "display_data"
    },
    {
     "name": "stdout",
     "output_type": "stream",
     "text": [
      "Seed 0 - Iteration 1 - Model 28 - Done\n",
      "Seed 0 - Iteration 1 - Model 29 - Begin\n"
     ]
    },
    {
     "data": {
      "application/vnd.jupyter.widget-view+json": {
       "model_id": "88f0b679d9224df487c36f5fe754d1ed",
       "version_major": 2,
       "version_minor": 0
      },
      "text/plain": [
       "  0%|          | 0/391 [00:00<?, ?it/s]"
      ]
     },
     "metadata": {},
     "output_type": "display_data"
    },
    {
     "name": "stdout",
     "output_type": "stream",
     "text": [
      "loss: 0.352018  [    0/50000]\n",
      "loss: 0.423356  [ 4992/50000]\n",
      "loss: 0.299930  [ 9984/50000]\n",
      "loss: 0.400333  [14976/50000]\n",
      "loss: 0.381279  [19968/50000]\n",
      "loss: 0.335182  [24960/50000]\n",
      "loss: 0.385997  [29952/50000]\n",
      "loss: 0.369420  [34944/50000]\n",
      "loss: 0.400315  [39936/50000]\n",
      "loss: 0.296129  [44928/50000]\n",
      "loss: 0.357260  [31200/50000]\n",
      "Epoch average loss: 0.3598845601081848\n"
     ]
    },
    {
     "data": {
      "application/vnd.jupyter.widget-view+json": {
       "model_id": "9d71c3dc82844c758617b8b2a8e5f501",
       "version_major": 2,
       "version_minor": 0
      },
      "text/plain": [
       "  0%|          | 0/391 [00:00<?, ?it/s]"
      ]
     },
     "metadata": {},
     "output_type": "display_data"
    },
    {
     "name": "stdout",
     "output_type": "stream",
     "text": [
      "loss: 0.394789  [    0/50000]\n",
      "loss: 0.405474  [ 4992/50000]\n",
      "loss: 0.324790  [ 9984/50000]\n",
      "loss: 0.335003  [14976/50000]\n",
      "loss: 0.452214  [19968/50000]\n",
      "loss: 0.342710  [24960/50000]\n",
      "loss: 0.371843  [29952/50000]\n",
      "loss: 0.385508  [34944/50000]\n",
      "loss: 0.351016  [39936/50000]\n",
      "loss: 0.384247  [44928/50000]\n",
      "loss: 0.305134  [31200/50000]\n",
      "Epoch average loss: 0.36102479696273804\n"
     ]
    },
    {
     "data": {
      "application/vnd.jupyter.widget-view+json": {
       "model_id": "ff1145aecade41ccad60ea66f8fa7be7",
       "version_major": 2,
       "version_minor": 0
      },
      "text/plain": [
       "  0%|          | 0/391 [00:00<?, ?it/s]"
      ]
     },
     "metadata": {},
     "output_type": "display_data"
    },
    {
     "name": "stdout",
     "output_type": "stream",
     "text": [
      "loss: 0.361217  [    0/50000]\n",
      "loss: 0.328080  [ 4992/50000]\n",
      "loss: 0.385016  [ 9984/50000]\n",
      "loss: 0.353343  [14976/50000]\n",
      "loss: 0.282215  [19968/50000]\n",
      "loss: 0.416386  [24960/50000]\n",
      "loss: 0.346544  [29952/50000]\n",
      "loss: 0.399365  [34944/50000]\n",
      "loss: 0.358041  [39936/50000]\n",
      "loss: 0.324633  [44928/50000]\n",
      "loss: 0.309209  [31200/50000]\n",
      "Epoch average loss: 0.35942140221595764\n",
      "Done!\n"
     ]
    },
    {
     "data": {
      "application/vnd.jupyter.widget-view+json": {
       "model_id": "a435ae2ac496499d99735cc49b736ab9",
       "version_major": 2,
       "version_minor": 0
      },
      "text/plain": [
       "  0%|          | 0/3473 [00:00<?, ?it/s]"
      ]
     },
     "metadata": {},
     "output_type": "display_data"
    },
    {
     "name": "stdout",
     "output_type": "stream",
     "text": [
      "Seed 0 - Iteration 1 - Model 29 - Done\n",
      "Seed 0 - Iteration 1 - Model 30 - Begin\n"
     ]
    },
    {
     "data": {
      "application/vnd.jupyter.widget-view+json": {
       "model_id": "7ac660a3258a4167b70c127edd6e7606",
       "version_major": 2,
       "version_minor": 0
      },
      "text/plain": [
       "  0%|          | 0/391 [00:00<?, ?it/s]"
      ]
     },
     "metadata": {},
     "output_type": "display_data"
    },
    {
     "name": "stdout",
     "output_type": "stream",
     "text": [
      "loss: 0.379597  [    0/50000]\n",
      "loss: 0.415265  [ 4992/50000]\n",
      "loss: 0.321619  [ 9984/50000]\n",
      "loss: 0.431284  [14976/50000]\n",
      "loss: 0.391149  [19968/50000]\n",
      "loss: 0.362182  [24960/50000]\n",
      "loss: 0.373485  [29952/50000]\n",
      "loss: 0.427738  [34944/50000]\n",
      "loss: 0.353298  [39936/50000]\n",
      "loss: 0.272263  [44928/50000]\n",
      "loss: 0.365853  [31200/50000]\n",
      "Epoch average loss: 0.3624434769153595\n"
     ]
    },
    {
     "data": {
      "application/vnd.jupyter.widget-view+json": {
       "model_id": "e4222094fbbe4b7b92e3bb2023a0b28f",
       "version_major": 2,
       "version_minor": 0
      },
      "text/plain": [
       "  0%|          | 0/391 [00:00<?, ?it/s]"
      ]
     },
     "metadata": {},
     "output_type": "display_data"
    },
    {
     "name": "stdout",
     "output_type": "stream",
     "text": [
      "loss: 0.377114  [    0/50000]\n",
      "loss: 0.395981  [ 4992/50000]\n",
      "loss: 0.303844  [ 9984/50000]\n",
      "loss: 0.316787  [14976/50000]\n",
      "loss: 0.482280  [19968/50000]\n",
      "loss: 0.417946  [24960/50000]\n",
      "loss: 0.295092  [29952/50000]\n",
      "loss: 0.380495  [34944/50000]\n",
      "loss: 0.429588  [39936/50000]\n",
      "loss: 0.334199  [44928/50000]\n",
      "loss: 0.353747  [31200/50000]\n",
      "Epoch average loss: 0.3618301451206207\n"
     ]
    },
    {
     "data": {
      "application/vnd.jupyter.widget-view+json": {
       "model_id": "524b2a46603541538d5f7921ed866356",
       "version_major": 2,
       "version_minor": 0
      },
      "text/plain": [
       "  0%|          | 0/391 [00:00<?, ?it/s]"
      ]
     },
     "metadata": {},
     "output_type": "display_data"
    },
    {
     "name": "stdout",
     "output_type": "stream",
     "text": [
      "loss: 0.307015  [    0/50000]\n",
      "loss: 0.334931  [ 4992/50000]\n",
      "loss: 0.365072  [ 9984/50000]\n",
      "loss: 0.366882  [14976/50000]\n",
      "loss: 0.380755  [19968/50000]\n",
      "loss: 0.329359  [24960/50000]\n",
      "loss: 0.341403  [29952/50000]\n",
      "loss: 0.346261  [34944/50000]\n",
      "loss: 0.371161  [39936/50000]\n",
      "loss: 0.380058  [44928/50000]\n",
      "loss: 0.383326  [31200/50000]\n",
      "Epoch average loss: 0.36116859316825867\n",
      "Done!\n"
     ]
    },
    {
     "data": {
      "application/vnd.jupyter.widget-view+json": {
       "model_id": "2d95bf15c7fa4916973caebcb2cada00",
       "version_major": 2,
       "version_minor": 0
      },
      "text/plain": [
       "  0%|          | 0/3473 [00:00<?, ?it/s]"
      ]
     },
     "metadata": {},
     "output_type": "display_data"
    }
   ],
   "source": [
    "# set up containers to collect outputs\n",
    "filtered_datasets = {}\n",
    "removed_idx = {x: '' for x in AFLite_seeds}\n",
    "\n",
    "# begin procedure\n",
    "for seed in AFLite_seeds:\n",
    "    \n",
    "    # first step of AFLite; initialise S\n",
    "    S = copy.deepcopy(train)\n",
    "    \n",
    "    # initialise iteration index\n",
    "    it_idx = 0\n",
    "    \n",
    "    while len(S) > n:\n",
    "        \n",
    "        # update iteration index\n",
    "        it_idx += 1\n",
    "        \n",
    "        # initialise multiset for Out-Of-Sample predictions\n",
    "        E = {x: [] for x in range(len(S))}\n",
    "\n",
    "        for j in range(m):\n",
    "            \n",
    "            # randomly partition S into (S\\T_j, T_j) s.t. |S\\T_j| = t\n",
    "            tr_idx = set(np.random.default_rng(j).choice(np.arange(len(S)), t, replace = False))\n",
    "            te_idx = set(range(len(S))) - tr_idx\n",
    "            tr, te = S.select(tr_idx), S.select(te_idx)\n",
    "            print(f'Seed {seed} - Iteration {it_idx} - Model {j + 1} - Begin')\n",
    "                        \n",
    "            # train classifier on S\\T_j, i.e. tr\n",
    "            classifier = copy.deepcopy(model)\n",
    "            dataloader = torch.utils.data.DataLoader(tr, batch_size=batch_size, \\\n",
    "                                 shuffle=True, collate_fn=data_collator)\n",
    "            optimizer = torch.optim.Adam(filter(lambda p: p.requires_grad, classifier.parameters()), lr = lr)\n",
    "            trained_classifier = train_classifier(classifier, dataloader, optimizer, device)\n",
    "            \n",
    "            # for all instances i in T_j, add predictions to E(i)\n",
    "            te_dataloader = torch.utils.data.DataLoader(te, batch_size=batch_size, collate_fn=data_collator)\n",
    "            preds = predict(trained_classifier, te_dataloader, device)\n",
    "            print(f'Seed {seed} - Iteration {it_idx} - Model {j + 1} - Done')\n",
    "            \n",
    "            for pred_idx, data_idx in enumerate(te_idx): # there are as many predictions as test instances\n",
    "                \n",
    "                E[data_idx] += [preds[pred_idx]]\n",
    "        \n",
    "        # for all instances in S, compute predictability score\n",
    "        # in the corner case that there are no predictions for an instance, we do not filter it out\n",
    "        lengths = torch.tensor([len(x) if len(x) > 0 else 1 for x in E.values()])\n",
    "        preds_padded = torch.tensor(list(itertools.zip_longest(*E.values(), fillvalue=-1))).transpose(0, 1)\n",
    "        labels = torch.repeat_interleave(S['label'].argmax(1), max(lengths)).reshape(preds_padded.size())\n",
    "\n",
    "        pred_matches = torch.eq(preds_padded, labels)\n",
    "        pred_match_totals = torch.sum(pred_matches, axis = 1)\n",
    "        pred_scores = pred_match_totals / lengths\n",
    "        \n",
    "        # select up to k instances with the highest predictability scores subject to score >= tau\n",
    "        selected_idx = select_k(pred_scores, tau, k, seed)\n",
    "        \n",
    "        if selected_idx.shape[0] > 0:\n",
    "        \n",
    "            # cache instances selected for removal\n",
    "            removed_idx[seed] += ',' + ','.join([str(idx) for idx in selected_idx])\n",
    "\n",
    "            # filter out selected instances\n",
    "            S = S.select(set(range(len(S))) - set(selected_idx))\n",
    "        \n",
    "        # early stopping\n",
    "        elif selected_idx.shape[0] < k:\n",
    "            \n",
    "            break\n",
    "    \n",
    "    # cache file\n",
    "    filtered_datasets[seed] = S\n",
    "    \n",
    "    # print number of instances in S, for creating random baseline\n",
    "    print(f'Number of instances in S (seed {seed}): {len(S)}')\n",
    "    \n",
    "# write out list of removed indices for further analysis\n",
    "with open('removed_idx.pkl', 'wb') as f:\n",
    "    pickle.dump(removed_idx, f)"
   ]
  },
  {
   "cell_type": "code",
   "execution_count": null,
   "id": "5729ad7d",
   "metadata": {},
   "outputs": [],
   "source": [
    "# write out list of removed indices for further analysis\n",
    "with open('removed_idx.pkl', 'wb') as f:\n",
    "    pickle.dump(removed_idx, f)"
   ]
  },
  {
   "cell_type": "code",
   "execution_count": null,
   "id": "15c289bb",
   "metadata": {},
   "outputs": [],
   "source": []
  }
 ],
 "metadata": {
  "kernelspec": {
   "display_name": "Python 3 (ipykernel)",
   "language": "python",
   "name": "python3"
  },
  "language_info": {
   "codemirror_mode": {
    "name": "ipython",
    "version": 3
   },
   "file_extension": ".py",
   "mimetype": "text/x-python",
   "name": "python",
   "nbconvert_exporter": "python",
   "pygments_lexer": "ipython3",
   "version": "3.8.13"
  }
 },
 "nbformat": 4,
 "nbformat_minor": 5
}
