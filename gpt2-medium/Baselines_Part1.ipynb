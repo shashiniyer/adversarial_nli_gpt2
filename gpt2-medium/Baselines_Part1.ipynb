{
 "cells": [
  {
   "cell_type": "markdown",
   "id": "ea85f917",
   "metadata": {},
   "source": [
    "# Training a Baseline Model: GPT-2 fine-tuned for NLI using all of SNLI train data\n",
    "\n",
    "### 1. Imports and Global Settings"
   ]
  },
  {
   "cell_type": "code",
   "execution_count": 1,
   "id": "f1771bdf",
   "metadata": {},
   "outputs": [],
   "source": [
    "from datasets import load_dataset, disable_caching\n",
    "from transformers import GPT2ForSequenceClassification, GPT2TokenizerFast, DataCollatorWithPadding, set_seed\n",
    "import torch\n",
    "from torch.nn.functional import one_hot\n",
    "import sys\n",
    "sys.path.append('..')\n",
    "from utils_ import tokenize, train_classifier\n",
    "device = torch.device(\"cuda\") if torch.cuda.is_available() else torch.device(\"cpu\")\n",
    "set_seed(42)\n",
    "disable_caching()"
   ]
  },
  {
   "cell_type": "markdown",
   "id": "78053619",
   "metadata": {},
   "source": [
    "### 2. Pre-Processing\n",
    "- Get SNLI Dataset (Train fold)\n",
    "- Remove instances without gold standard labels, i.e., label = -1\n",
    "- One-hot encoding for labels\n",
    "- Tokenise data"
   ]
  },
  {
   "cell_type": "code",
   "execution_count": 2,
   "id": "f1562027",
   "metadata": {},
   "outputs": [
    {
     "name": "stderr",
     "output_type": "stream",
     "text": [
      "Reusing dataset snli (/home/shana92/.cache/huggingface/datasets/snli/plain_text/1.0.0/1f60b67533b65ae0275561ff7828aad5ee4282d0e6f844fd148d05d3c6ea251b)\n"
     ]
    },
    {
     "data": {
      "application/vnd.jupyter.widget-view+json": {
       "model_id": "c4289deda865436b854c2f309a852b14",
       "version_major": 2,
       "version_minor": 0
      },
      "text/plain": [
       "  0%|          | 0/551 [00:00<?, ?ba/s]"
      ]
     },
     "metadata": {},
     "output_type": "display_data"
    },
    {
     "data": {
      "application/vnd.jupyter.widget-view+json": {
       "model_id": "be86f96b0aa842d0abe447e8c0dfdffe",
       "version_major": 2,
       "version_minor": 0
      },
      "text/plain": [
       "  0%|          | 0/550 [00:00<?, ?ba/s]"
      ]
     },
     "metadata": {},
     "output_type": "display_data"
    }
   ],
   "source": [
    "train = load_dataset('snli', split = 'train')\n",
    "train = train.filter(lambda x: x['label'] != -1).map( \\\n",
    "    lambda x: {'label': one_hot(torch.tensor(x['label']), 3).type(torch.float32).numpy()}, \\\n",
    "    batched = True)"
   ]
  },
  {
   "cell_type": "code",
   "execution_count": 3,
   "id": "0391fd81",
   "metadata": {},
   "outputs": [],
   "source": [
    "# set up tokeniser\n",
    "# padding to left because GPT2 uses last token for prediction\n",
    "tokenizer = GPT2TokenizerFast.from_pretrained(\"gpt2-medium\", padding_side = 'left', \\\n",
    "                                              padding = True, truncation = True)\n",
    "tokenizer.pad_token = tokenizer.eos_token # pad with 'eos' token"
   ]
  },
  {
   "cell_type": "code",
   "execution_count": 4,
   "id": "fdc89111",
   "metadata": {},
   "outputs": [
    {
     "data": {
      "application/vnd.jupyter.widget-view+json": {
       "model_id": "58342a2152254b819a2457a8d0491ffb",
       "version_major": 2,
       "version_minor": 0
      },
      "text/plain": [
       "  0%|          | 0/549367 [00:00<?, ?ex/s]"
      ]
     },
     "metadata": {},
     "output_type": "display_data"
    },
    {
     "data": {
      "application/vnd.jupyter.widget-view+json": {
       "model_id": "04b9aa0fb2d94c2e9a41cead73a72a7d",
       "version_major": 2,
       "version_minor": 0
      },
      "text/plain": [
       "  0%|          | 0/550 [00:00<?, ?ba/s]"
      ]
     },
     "metadata": {},
     "output_type": "display_data"
    }
   ],
   "source": [
    "# tokenize data\n",
    "train = train.map(lambda x: tokenize(tokenizer, x['premise'] + '|' + x['hypothesis']))\n",
    "len_bef_exclusion = len(train)\n",
    "\n",
    "# exclude instances with > 128 tokens\n",
    "train = train.filter(lambda x: x['exclude'] == False)\n",
    "len_aft_exclusion = len(train)\n",
    "\n",
    "# print message if instances were in fact excluded\n",
    "if len_bef_exclusion - len_aft_exclusion > 0:\n",
    "    \n",
    "    print(f'{len_bef_exclusion - len_aft_exclusion} ' + \\\n",
    "          f'({(len_bef_exclusion/len_aft_exclusion - 1)*100:>2f}%) sequences excluded')"
   ]
  },
  {
   "cell_type": "code",
   "execution_count": 5,
   "id": "97eb16bf",
   "metadata": {},
   "outputs": [],
   "source": [
    "# keep only needed columns, set data format to PyTorch\n",
    "train.set_format(type = 'torch', columns = ['label', 'input_ids', 'attention_mask'])"
   ]
  },
  {
   "cell_type": "markdown",
   "id": "efb6458a",
   "metadata": {},
   "source": [
    "### 3. Model"
   ]
  },
  {
   "cell_type": "code",
   "execution_count": 6,
   "id": "c701db6a",
   "metadata": {},
   "outputs": [],
   "source": [
    "# set up data collator - https://huggingface.co/docs/transformers/main_classes/data_collator\n",
    "# this is a (callable) helper object that sends batches of data to the model\n",
    "data_collator = DataCollatorWithPadding(tokenizer, padding = 'max_length', \\\n",
    "                                         return_tensors = 'pt', max_length = 128)"
   ]
  },
  {
   "cell_type": "code",
   "execution_count": 7,
   "id": "860f9c8f",
   "metadata": {},
   "outputs": [],
   "source": [
    "# hyper-parameters for model training\n",
    "batch_size = 32 # constrained by memory\n",
    "lr = 1e-5 # set to match Le et al. (2020) - https://arxiv.org/abs/2002.04108"
   ]
  },
  {
   "cell_type": "code",
   "execution_count": 8,
   "id": "1cd3ba3f",
   "metadata": {},
   "outputs": [],
   "source": [
    "# set up a dataloader (batch generator)\n",
    "dataloader = torch.utils.data.DataLoader(train, batch_size=batch_size, \\\n",
    "                                 shuffle=True, collate_fn=data_collator) # batch size constrained by GPU memory"
   ]
  },
  {
   "cell_type": "code",
   "execution_count": 9,
   "id": "64ef7d8a",
   "metadata": {},
   "outputs": [
    {
     "name": "stderr",
     "output_type": "stream",
     "text": [
      "Some weights of GPT2ForSequenceClassification were not initialized from the model checkpoint at gpt2-medium and are newly initialized: ['score.weight']\n",
      "You should probably TRAIN this model on a down-stream task to be able to use it for predictions and inference.\n"
     ]
    }
   ],
   "source": [
    "# instantiate GPT2 classifier model\n",
    "model = GPT2ForSequenceClassification.from_pretrained(\"gpt2-medium\", \n",
    "                                  num_labels=3,\n",
    "                                  problem_type=\"multi_label_classification\")\n",
    "model.config.pad_token_id = model.config.eos_token_id # specify pad_token used by tokenizer"
   ]
  },
  {
   "cell_type": "code",
   "execution_count": 10,
   "id": "5ddfb8a1",
   "metadata": {},
   "outputs": [],
   "source": [
    "# set up optimizer (loss function in-built)\n",
    "optimizer = torch.optim.Adam(model.parameters(), lr=lr)"
   ]
  },
  {
   "cell_type": "code",
   "execution_count": null,
   "id": "ed35360e",
   "metadata": {},
   "outputs": [
    {
     "data": {
      "application/vnd.jupyter.widget-view+json": {
       "model_id": "70a6682c02b348ea9f0868befd5130f7",
       "version_major": 2,
       "version_minor": 0
      },
      "text/plain": [
       "  0%|          | 0/17168 [00:00<?, ?it/s]"
      ]
     },
     "metadata": {},
     "output_type": "display_data"
    },
    {
     "name": "stdout",
     "output_type": "stream",
     "text": [
      "loss: 1.106129  [    0/549367]\n",
      "loss: 0.652977  [54912/549367]\n",
      "loss: 0.355182  [109824/549367]\n",
      "loss: 0.413212  [164736/549367]\n",
      "loss: 0.357015  [219648/549367]\n",
      "loss: 0.478685  [274560/549367]\n",
      "loss: 0.202242  [329472/549367]\n",
      "loss: 0.176116  [384384/549367]\n",
      "loss: 0.287832  [439296/549367]\n",
      "loss: 0.239158  [494208/549367]\n",
      "loss: 0.237825  [549120/549367]\n",
      "Epoch average loss: 0.34859874844551086\n"
     ]
    },
    {
     "data": {
      "application/vnd.jupyter.widget-view+json": {
       "model_id": "db18fc59c1f84232935a3b965396a3cd",
       "version_major": 2,
       "version_minor": 0
      },
      "text/plain": [
       "  0%|          | 0/17168 [00:00<?, ?it/s]"
      ]
     },
     "metadata": {},
     "output_type": "display_data"
    },
    {
     "name": "stdout",
     "output_type": "stream",
     "text": [
      "loss: 0.340378  [    0/549367]\n",
      "loss: 0.214370  [54912/549367]\n",
      "loss: 0.231678  [109824/549367]\n",
      "loss: 0.188228  [164736/549367]\n",
      "loss: 0.343081  [219648/549367]\n",
      "loss: 0.146512  [274560/549367]\n",
      "loss: 0.167774  [329472/549367]\n",
      "loss: 0.148926  [384384/549367]\n",
      "loss: 0.230051  [439296/549367]\n",
      "loss: 0.280149  [494208/549367]\n",
      "loss: 0.192146  [549120/549367]\n",
      "Epoch average loss: 0.22900183498859406\n"
     ]
    },
    {
     "data": {
      "application/vnd.jupyter.widget-view+json": {
       "model_id": "a41c2e4202eb42dcbbbca3272e39d6cb",
       "version_major": 2,
       "version_minor": 0
      },
      "text/plain": [
       "  0%|          | 0/17168 [00:00<?, ?it/s]"
      ]
     },
     "metadata": {},
     "output_type": "display_data"
    },
    {
     "name": "stdout",
     "output_type": "stream",
     "text": [
      "loss: 0.162329  [    0/549367]\n",
      "loss: 0.092864  [54912/549367]\n",
      "loss: 0.227731  [109824/549367]\n",
      "loss: 0.202142  [164736/549367]\n",
      "loss: 0.270213  [219648/549367]\n",
      "loss: 0.200030  [274560/549367]\n"
     ]
    }
   ],
   "source": [
    "# Train and Save model\n",
    "torch.save(train_classifier(model, dataloader, optimizer, device), 'baseline_unfiltered.pth')"
   ]
  },
  {
   "cell_type": "code",
   "execution_count": null,
   "id": "82b4b993",
   "metadata": {},
   "outputs": [],
   "source": []
  }
 ],
 "metadata": {
  "kernelspec": {
   "display_name": "Python 3 (ipykernel)",
   "language": "python",
   "name": "python3"
  },
  "language_info": {
   "codemirror_mode": {
    "name": "ipython",
    "version": 3
   },
   "file_extension": ".py",
   "mimetype": "text/x-python",
   "name": "python",
   "nbconvert_exporter": "python",
   "pygments_lexer": "ipython3",
   "version": "3.8.13"
  }
 },
 "nbformat": 4,
 "nbformat_minor": 5
}
