{
 "cells": [
  {
   "cell_type": "markdown",
   "id": "6016ff83",
   "metadata": {},
   "source": [
    "# Evaluate Performance of Baseline Models\n",
    "__Model performance will be evaluated on:__\n",
    "1. In-Distribution sample (SNLI test split), in zero-shot settings (see [Part 1](https://github.com/shashiniyer/adversarial_nli_gpt2/blob/main/gpt2-medium/notebooks_and_scripts/Evaluation_Baselines_Part1.ipynb))\n",
    "2. The following Out-of-Distribution samples:\n",
    "    - HANS dataset (validation split), in zero-shot settings  (see [Part 1](https://github.com/shashiniyer/adversarial_nli_gpt2/blob/main/gpt2-medium/notebooks_and_scripts/Evaluation_Baselines_Part1.ipynb))\n",
    "    - NLI Diagnostics dataset, in zero-shot settings  (see [Part 1](https://github.com/shashiniyer/adversarial_nli_gpt2/blob/main/gpt2-medium/notebooks_and_scripts/Evaluation_Baselines_Part1.ipynb))\n",
    "    - Stress Test datasets, in zero-shot settings  (see [Part 1](https://github.com/shashiniyer/adversarial_nli_gpt2/blob/main/gpt2-medium/notebooks_and_scripts/Evaluation_Baselines_Part1.ipynb))\n",
    "    - ANLI datasets (test splits), after fine-tuning the model for each round (_this notebook_)\n",
    "\n",
    "__Performance indicators:__ Classification accuracy and $R_K$\n",
    "\n",
    "\n",
    "## 1. Imports and Global Settings"
   ]
  },
  {
   "cell_type": "code",
   "execution_count": 1,
   "id": "7f4fbc81",
   "metadata": {},
   "outputs": [],
   "source": [
    "from datasets import load_dataset, disable_caching\n",
    "from transformers import GPT2TokenizerFast, DataCollatorWithPadding, set_seed\n",
    "import torch\n",
    "from torch.nn.functional import one_hot\n",
    "import sys\n",
    "sys.path.append('..')\n",
    "from utils_ import tokenize, train_classifier, evaluate_acc_rk\n",
    "device = torch.device(\"cuda\") if torch.cuda.is_available() else torch.device(\"cpu\")\n",
    "set_seed(42)\n",
    "#disable_caching()"
   ]
  },
  {
   "cell_type": "code",
   "execution_count": 2,
   "id": "9de5b15b",
   "metadata": {},
   "outputs": [],
   "source": [
    "# set up tokeniser\n",
    "# padding to left because GPT2 uses last token for prediction\n",
    "tokenizer = GPT2TokenizerFast.from_pretrained(\"gpt2-medium\", padding_side = 'left', \\\n",
    "                                              padding = True, truncation = True)\n",
    "tokenizer.pad_token = tokenizer.eos_token # pad with 'eos' token"
   ]
  },
  {
   "cell_type": "code",
   "execution_count": 3,
   "id": "57213f51",
   "metadata": {},
   "outputs": [],
   "source": [
    "# set up data collator - https://huggingface.co/docs/transformers/main_classes/data_collator\n",
    "# this is a (callable) helper object that sends batches of data to the model\n",
    "data_collator = DataCollatorWithPadding(tokenizer, padding = 'max_length', \\\n",
    "                                         return_tensors = 'pt', max_length = 128)"
   ]
  },
  {
   "cell_type": "markdown",
   "id": "895c85bb",
   "metadata": {},
   "source": [
    "## 2. Out-of-Distribution Evaluation - ANLI - Fine-Tuning\n",
    "### 2.1. Data Read + Pre-Processing\n",
    "- Get ANLI Datasets\n",
    "- One-hot encode labels\n",
    "- Tokenise data"
   ]
  },
  {
   "cell_type": "code",
   "execution_count": 4,
   "id": "f6067d83",
   "metadata": {},
   "outputs": [],
   "source": [
    "# function to read in data and pre-process\n",
    "def anli_data(split, tokenizer):\n",
    "\n",
    "    # read in data\n",
    "    data = load_dataset('anli', split = split)\n",
    "    \n",
    "    # one-hot encode labels\n",
    "    data = data.map(lambda x: {'label': one_hot(torch.tensor(x['label']), 3).type(torch.float32).numpy()}, \\\n",
    "        batched = True)\n",
    "    \n",
    "    # tokenize data\n",
    "    data = data.map(lambda x: tokenize(tokenizer, x['premise'] + '|' + x['hypothesis']))\n",
    "    len_bef_exclusion = len(data)\n",
    "\n",
    "    # exclude instances with > 128 tokens\n",
    "    data = data.filter(lambda x: x['exclude'] == False)\n",
    "    len_aft_exclusion = len(data)\n",
    "\n",
    "    # print message if instances were in fact excluded\n",
    "    if len_bef_exclusion - len_aft_exclusion > 0:\n",
    "\n",
    "        print(f'Split: {split} - {len_bef_exclusion - len_aft_exclusion} ' + \\\n",
    "              f'({(len_bef_exclusion/len_aft_exclusion - 1)*100:>2f}%) sequences excluded')\n",
    "    \n",
    "    # keep only needed columns, set data format to PyTorch\n",
    "    data.set_format(type = 'torch', columns = ['label', 'input_ids', 'attention_mask'])\n",
    "    \n",
    "    # store in data_dict\n",
    "    return(data)"
   ]
  },
  {
   "cell_type": "markdown",
   "id": "719d6b28",
   "metadata": {},
   "source": [
    "### 2.2. Fine-tune both Baseline models using corresponding training data for each ANLI round, then evaluate"
   ]
  },
  {
   "cell_type": "code",
   "execution_count": 5,
   "id": "3665ffae",
   "metadata": {},
   "outputs": [],
   "source": [
    "# set up dictionary of the models/file_names\n",
    "models = {'Unfiltered': 'baseline_unfiltered.pth', 'Random 190k Subset': 'baseline_random_190k.pth'}"
   ]
  },
  {
   "cell_type": "code",
   "execution_count": 6,
   "id": "79691c25",
   "metadata": {
    "scrolled": true
   },
   "outputs": [
    {
     "name": "stderr",
     "output_type": "stream",
     "text": [
      "Reusing dataset anli (/home/shana92/.cache/huggingface/datasets/anli/plain_text/0.1.0/aabce88453b06dff21c201855ea83283bab0390bff746deadb30b65695755c0b)\n",
      "Parameter 'function'=<function anli_data.<locals>.<lambda> at 0x7f49d0c71ee0> of the transform datasets.arrow_dataset.Dataset._map_single couldn't be hashed properly, a random hash was used instead. Make sure your transforms and parameters are serializable with pickle or dill for the dataset fingerprinting and caching to work. If you reuse this transform, the caching mechanism will consider it to be different from the previous calls and recompute everything. This warning is only showed once. Subsequent hashing failures won't be showed.\n",
      "Loading cached processed dataset at /home/shana92/.cache/huggingface/datasets/anli/plain_text/0.1.0/aabce88453b06dff21c201855ea83283bab0390bff746deadb30b65695755c0b/cache-1c80317fa3b1799d.arrow\n",
      "Loading cached processed dataset at /home/shana92/.cache/huggingface/datasets/anli/plain_text/0.1.0/aabce88453b06dff21c201855ea83283bab0390bff746deadb30b65695755c0b/cache-bdd640fb06671ad1.arrow\n",
      "Loading cached processed dataset at /home/shana92/.cache/huggingface/datasets/anli/plain_text/0.1.0/aabce88453b06dff21c201855ea83283bab0390bff746deadb30b65695755c0b/cache-9a90de1e791ac553.arrow\n"
     ]
    },
    {
     "name": "stdout",
     "output_type": "stream",
     "text": [
      "Split: train_r1 - 446 (2.703030%) sequences excluded\n"
     ]
    },
    {
     "data": {
      "application/vnd.jupyter.widget-view+json": {
       "model_id": "0695d28ab46249658dad225bb4e44b5d",
       "version_major": 2,
       "version_minor": 0
      },
      "text/plain": [
       "  0%|          | 0/516 [00:00<?, ?it/s]"
      ]
     },
     "metadata": {},
     "output_type": "display_data"
    },
    {
     "name": "stdout",
     "output_type": "stream",
     "text": [
      "loss: 0.572932  [    0/16500]\n",
      "loss: 0.629478  [ 1632/16500]\n",
      "loss: 0.664723  [ 3264/16500]\n",
      "loss: 0.644225  [ 4896/16500]\n",
      "loss: 0.627973  [ 6528/16500]\n",
      "loss: 0.605726  [ 8160/16500]\n",
      "loss: 0.634016  [ 9792/16500]\n",
      "loss: 0.599893  [11424/16500]\n",
      "loss: 0.601813  [13056/16500]\n",
      "loss: 0.639973  [14688/16500]\n",
      "loss: 0.623417  [16320/16500]\n",
      "Epoch average loss: 0.6221457123756409\n"
     ]
    },
    {
     "data": {
      "application/vnd.jupyter.widget-view+json": {
       "model_id": "9c1d69ceae254f779d65fe5b7859e7af",
       "version_major": 2,
       "version_minor": 0
      },
      "text/plain": [
       "  0%|          | 0/516 [00:00<?, ?it/s]"
      ]
     },
     "metadata": {},
     "output_type": "display_data"
    },
    {
     "name": "stdout",
     "output_type": "stream",
     "text": [
      "loss: 0.636610  [    0/16500]\n",
      "loss: 0.590466  [ 1632/16500]\n",
      "loss: 0.566477  [ 3264/16500]\n",
      "loss: 0.543545  [ 4896/16500]\n",
      "loss: 0.564917  [ 6528/16500]\n",
      "loss: 0.765627  [ 8160/16500]\n",
      "loss: 0.640158  [ 9792/16500]\n",
      "loss: 0.536632  [11424/16500]\n",
      "loss: 0.659196  [13056/16500]\n",
      "loss: 0.546201  [14688/16500]\n",
      "loss: 0.619523  [16320/16500]\n",
      "Epoch average loss: 0.5819723010063171\n"
     ]
    },
    {
     "data": {
      "application/vnd.jupyter.widget-view+json": {
       "model_id": "87e9e18fb5f740939987896e9347bf8e",
       "version_major": 2,
       "version_minor": 0
      },
      "text/plain": [
       "  0%|          | 0/516 [00:00<?, ?it/s]"
      ]
     },
     "metadata": {},
     "output_type": "display_data"
    },
    {
     "name": "stdout",
     "output_type": "stream",
     "text": [
      "loss: 0.532582  [    0/16500]\n",
      "loss: 0.508523  [ 1632/16500]\n",
      "loss: 0.502029  [ 3264/16500]\n",
      "loss: 0.444961  [ 4896/16500]\n",
      "loss: 0.560158  [ 6528/16500]\n",
      "loss: 0.477564  [ 8160/16500]\n",
      "loss: 0.484572  [ 9792/16500]\n",
      "loss: 0.557943  [11424/16500]\n",
      "loss: 0.465008  [13056/16500]\n",
      "loss: 0.484677  [14688/16500]\n",
      "loss: 0.457765  [16320/16500]\n",
      "Epoch average loss: 0.5225222706794739\n",
      "Done!\n"
     ]
    },
    {
     "name": "stderr",
     "output_type": "stream",
     "text": [
      "Reusing dataset anli (/home/shana92/.cache/huggingface/datasets/anli/plain_text/0.1.0/aabce88453b06dff21c201855ea83283bab0390bff746deadb30b65695755c0b)\n",
      "Loading cached processed dataset at /home/shana92/.cache/huggingface/datasets/anli/plain_text/0.1.0/aabce88453b06dff21c201855ea83283bab0390bff746deadb30b65695755c0b/cache-3eb13b9046685257.arrow\n",
      "Loading cached processed dataset at /home/shana92/.cache/huggingface/datasets/anli/plain_text/0.1.0/aabce88453b06dff21c201855ea83283bab0390bff746deadb30b65695755c0b/cache-23b8c1e9392456de.arrow\n",
      "Loading cached processed dataset at /home/shana92/.cache/huggingface/datasets/anli/plain_text/0.1.0/aabce88453b06dff21c201855ea83283bab0390bff746deadb30b65695755c0b/cache-7edfd81a366fc563.arrow\n"
     ]
    },
    {
     "name": "stdout",
     "output_type": "stream",
     "text": [
      "Split: test_r1 - 23 (2.354145%) sequences excluded\n"
     ]
    },
    {
     "data": {
      "application/vnd.jupyter.widget-view+json": {
       "model_id": "5fe70a11024f47b2ae53b471bdd26ea8",
       "version_major": 2,
       "version_minor": 0
      },
      "text/plain": [
       "  0%|          | 0/31 [00:00<?, ?it/s]"
      ]
     },
     "metadata": {},
     "output_type": "display_data"
    },
    {
     "name": "stdout",
     "output_type": "stream",
     "text": [
      "Round: r1 - Model: Unfiltered - Accuracy: 32.446265%, RK: -0.013960\n"
     ]
    },
    {
     "name": "stderr",
     "output_type": "stream",
     "text": [
      "Reusing dataset anli (/home/shana92/.cache/huggingface/datasets/anli/plain_text/0.1.0/aabce88453b06dff21c201855ea83283bab0390bff746deadb30b65695755c0b)\n",
      "Loading cached processed dataset at /home/shana92/.cache/huggingface/datasets/anli/plain_text/0.1.0/aabce88453b06dff21c201855ea83283bab0390bff746deadb30b65695755c0b/cache-1a3d1fa7bc8960a9.arrow\n",
      "Loading cached processed dataset at /home/shana92/.cache/huggingface/datasets/anli/plain_text/0.1.0/aabce88453b06dff21c201855ea83283bab0390bff746deadb30b65695755c0b/cache-bd9c66b3ad3c2d6d.arrow\n",
      "Loading cached processed dataset at /home/shana92/.cache/huggingface/datasets/anli/plain_text/0.1.0/aabce88453b06dff21c201855ea83283bab0390bff746deadb30b65695755c0b/cache-92a44f32bcd11f59.arrow\n"
     ]
    },
    {
     "name": "stdout",
     "output_type": "stream",
     "text": [
      "Split: train_r2 - 944 (2.120586%) sequences excluded\n"
     ]
    },
    {
     "data": {
      "application/vnd.jupyter.widget-view+json": {
       "model_id": "53e8508629d147ef94f756926427e62f",
       "version_major": 2,
       "version_minor": 0
      },
      "text/plain": [
       "  0%|          | 0/1392 [00:00<?, ?it/s]"
      ]
     },
     "metadata": {},
     "output_type": "display_data"
    },
    {
     "name": "stdout",
     "output_type": "stream",
     "text": [
      "loss: 0.753892  [    0/44516]\n",
      "loss: 0.663144  [ 4448/44516]\n",
      "loss: 0.562859  [ 8896/44516]\n",
      "loss: 0.658305  [13344/44516]\n",
      "loss: 0.593163  [17792/44516]\n",
      "loss: 0.660599  [22240/44516]\n",
      "loss: 0.569966  [26688/44516]\n",
      "loss: 0.548077  [31136/44516]\n",
      "loss: 0.599614  [35584/44516]\n",
      "loss: 0.527892  [40032/44516]\n",
      "loss: 0.623655  [44480/44516]\n",
      "Epoch average loss: 0.5940267443656921\n"
     ]
    },
    {
     "data": {
      "application/vnd.jupyter.widget-view+json": {
       "model_id": "8ecded4b95b44421ab973f14ad53f15d",
       "version_major": 2,
       "version_minor": 0
      },
      "text/plain": [
       "  0%|          | 0/1392 [00:00<?, ?it/s]"
      ]
     },
     "metadata": {},
     "output_type": "display_data"
    },
    {
     "name": "stdout",
     "output_type": "stream",
     "text": [
      "loss: 0.561976  [    0/44516]\n",
      "loss: 0.477942  [ 4448/44516]\n",
      "loss: 0.597119  [ 8896/44516]\n",
      "loss: 0.470417  [13344/44516]\n",
      "loss: 0.511153  [17792/44516]\n",
      "loss: 0.543510  [22240/44516]\n",
      "loss: 0.380556  [26688/44516]\n",
      "loss: 0.470313  [31136/44516]\n",
      "loss: 0.569113  [35584/44516]\n",
      "loss: 0.516168  [40032/44516]\n",
      "loss: 0.530622  [44480/44516]\n",
      "Epoch average loss: 0.5231626033782959\n"
     ]
    },
    {
     "data": {
      "application/vnd.jupyter.widget-view+json": {
       "model_id": "c235575004c048309a1f86703a7ca62e",
       "version_major": 2,
       "version_minor": 0
      },
      "text/plain": [
       "  0%|          | 0/1392 [00:00<?, ?it/s]"
      ]
     },
     "metadata": {},
     "output_type": "display_data"
    },
    {
     "name": "stdout",
     "output_type": "stream",
     "text": [
      "loss: 0.508506  [    0/44516]\n",
      "loss: 0.467452  [ 4448/44516]\n",
      "loss: 0.408228  [ 8896/44516]\n",
      "loss: 0.618757  [13344/44516]\n",
      "loss: 0.571943  [17792/44516]\n",
      "loss: 0.354680  [22240/44516]\n",
      "loss: 0.474606  [26688/44516]\n",
      "loss: 0.447884  [31136/44516]\n",
      "loss: 0.467013  [35584/44516]\n",
      "loss: 0.521008  [40032/44516]\n",
      "loss: 0.315004  [44480/44516]\n",
      "Epoch average loss: 0.47787678241729736\n",
      "Done!\n"
     ]
    },
    {
     "name": "stderr",
     "output_type": "stream",
     "text": [
      "Reusing dataset anli (/home/shana92/.cache/huggingface/datasets/anli/plain_text/0.1.0/aabce88453b06dff21c201855ea83283bab0390bff746deadb30b65695755c0b)\n",
      "Loading cached processed dataset at /home/shana92/.cache/huggingface/datasets/anli/plain_text/0.1.0/aabce88453b06dff21c201855ea83283bab0390bff746deadb30b65695755c0b/cache-8b9d2434e465e150.arrow\n",
      "Loading cached processed dataset at /home/shana92/.cache/huggingface/datasets/anli/plain_text/0.1.0/aabce88453b06dff21c201855ea83283bab0390bff746deadb30b65695755c0b/cache-972a846916419f82.arrow\n",
      "Loading cached processed dataset at /home/shana92/.cache/huggingface/datasets/anli/plain_text/0.1.0/aabce88453b06dff21c201855ea83283bab0390bff746deadb30b65695755c0b/cache-61bb4a75e78160e7.arrow\n"
     ]
    },
    {
     "name": "stdout",
     "output_type": "stream",
     "text": [
      "Split: test_r2 - 18 (1.832994%) sequences excluded\n"
     ]
    },
    {
     "data": {
      "application/vnd.jupyter.widget-view+json": {
       "model_id": "20038289ac5744cbbe8b5db9eb59654f",
       "version_major": 2,
       "version_minor": 0
      },
      "text/plain": [
       "  0%|          | 0/31 [00:00<?, ?it/s]"
      ]
     },
     "metadata": {},
     "output_type": "display_data"
    },
    {
     "name": "stdout",
     "output_type": "stream",
     "text": [
      "Round: r2 - Model: Unfiltered - Accuracy: 30.142567%, RK: -0.050302\n"
     ]
    },
    {
     "name": "stderr",
     "output_type": "stream",
     "text": [
      "Reusing dataset anli (/home/shana92/.cache/huggingface/datasets/anli/plain_text/0.1.0/aabce88453b06dff21c201855ea83283bab0390bff746deadb30b65695755c0b)\n",
      "Loading cached processed dataset at /home/shana92/.cache/huggingface/datasets/anli/plain_text/0.1.0/aabce88453b06dff21c201855ea83283bab0390bff746deadb30b65695755c0b/cache-0822e8f36c031199.arrow\n",
      "Loading cached processed dataset at /home/shana92/.cache/huggingface/datasets/anli/plain_text/0.1.0/aabce88453b06dff21c201855ea83283bab0390bff746deadb30b65695755c0b/cache-17fc695a07a0ca6e.arrow\n",
      "Loading cached processed dataset at /home/shana92/.cache/huggingface/datasets/anli/plain_text/0.1.0/aabce88453b06dff21c201855ea83283bab0390bff746deadb30b65695755c0b/cache-9d3c68031f914dcc.arrow\n"
     ]
    },
    {
     "name": "stdout",
     "output_type": "stream",
     "text": [
      "Split: train_r3 - 7468 (8.030885%) sequences excluded\n"
     ]
    },
    {
     "data": {
      "application/vnd.jupyter.widget-view+json": {
       "model_id": "c89619b3ce8b4966b38dc76323cb5c71",
       "version_major": 2,
       "version_minor": 0
      },
      "text/plain": [
       "  0%|          | 0/2906 [00:00<?, ?it/s]"
      ]
     },
     "metadata": {},
     "output_type": "display_data"
    },
    {
     "name": "stdout",
     "output_type": "stream",
     "text": [
      "loss: 0.569376  [    0/92991]\n",
      "loss: 0.552472  [ 9280/92991]\n",
      "loss: 0.594641  [18560/92991]\n",
      "loss: 0.469303  [27840/92991]\n",
      "loss: 0.452206  [37120/92991]\n",
      "loss: 0.510535  [46400/92991]\n",
      "loss: 0.649522  [55680/92991]\n",
      "loss: 0.616853  [64960/92991]\n",
      "loss: 0.547664  [74240/92991]\n",
      "loss: 0.481232  [83520/92991]\n",
      "loss: 0.502729  [92800/92991]\n",
      "Epoch average loss: 0.559179961681366\n"
     ]
    },
    {
     "data": {
      "application/vnd.jupyter.widget-view+json": {
       "model_id": "94d72664ad344cf79493acc289c054c3",
       "version_major": 2,
       "version_minor": 0
      },
      "text/plain": [
       "  0%|          | 0/2906 [00:00<?, ?it/s]"
      ]
     },
     "metadata": {},
     "output_type": "display_data"
    },
    {
     "name": "stdout",
     "output_type": "stream",
     "text": [
      "loss: 0.498741  [    0/92991]\n",
      "loss: 0.595933  [ 9280/92991]\n",
      "loss: 0.460217  [18560/92991]\n",
      "loss: 0.542263  [27840/92991]\n",
      "loss: 0.537496  [37120/92991]\n",
      "loss: 0.450001  [46400/92991]\n",
      "loss: 0.645026  [55680/92991]\n",
      "loss: 0.492254  [64960/92991]\n",
      "loss: 0.407176  [74240/92991]\n",
      "loss: 0.498768  [83520/92991]\n",
      "loss: 0.519436  [92800/92991]\n",
      "Epoch average loss: 0.48964574933052063\n"
     ]
    },
    {
     "data": {
      "application/vnd.jupyter.widget-view+json": {
       "model_id": "d61bf51f2de94fa2a9565a6e5a1dd968",
       "version_major": 2,
       "version_minor": 0
      },
      "text/plain": [
       "  0%|          | 0/2906 [00:00<?, ?it/s]"
      ]
     },
     "metadata": {},
     "output_type": "display_data"
    },
    {
     "name": "stdout",
     "output_type": "stream",
     "text": [
      "loss: 0.459767  [    0/92991]\n",
      "loss: 0.442415  [ 9280/92991]\n",
      "loss: 0.420911  [18560/92991]\n",
      "loss: 0.483390  [27840/92991]\n",
      "loss: 0.428277  [37120/92991]\n",
      "loss: 0.472279  [46400/92991]\n",
      "loss: 0.356920  [55680/92991]\n",
      "loss: 0.504081  [64960/92991]\n",
      "loss: 0.437711  [74240/92991]\n",
      "loss: 0.368151  [83520/92991]\n",
      "loss: 0.416002  [92800/92991]\n",
      "Epoch average loss: 0.43003472685813904\n",
      "Done!\n"
     ]
    },
    {
     "name": "stderr",
     "output_type": "stream",
     "text": [
      "Reusing dataset anli (/home/shana92/.cache/huggingface/datasets/anli/plain_text/0.1.0/aabce88453b06dff21c201855ea83283bab0390bff746deadb30b65695755c0b)\n",
      "Loading cached processed dataset at /home/shana92/.cache/huggingface/datasets/anli/plain_text/0.1.0/aabce88453b06dff21c201855ea83283bab0390bff746deadb30b65695755c0b/cache-3b8faa1837f8a88b.arrow\n",
      "Loading cached processed dataset at /home/shana92/.cache/huggingface/datasets/anli/plain_text/0.1.0/aabce88453b06dff21c201855ea83283bab0390bff746deadb30b65695755c0b/cache-9a1de644815ef6d1.arrow\n",
      "Loading cached processed dataset at /home/shana92/.cache/huggingface/datasets/anli/plain_text/0.1.0/aabce88453b06dff21c201855ea83283bab0390bff746deadb30b65695755c0b/cache-5adcb408954187cf.arrow\n"
     ]
    },
    {
     "name": "stdout",
     "output_type": "stream",
     "text": [
      "Split: test_r3 - 90 (8.108108%) sequences excluded\n"
     ]
    },
    {
     "data": {
      "application/vnd.jupyter.widget-view+json": {
       "model_id": "103249f462944cb7a3d2073203cad3d8",
       "version_major": 2,
       "version_minor": 0
      },
      "text/plain": [
       "  0%|          | 0/35 [00:00<?, ?it/s]"
      ]
     },
     "metadata": {},
     "output_type": "display_data"
    },
    {
     "name": "stdout",
     "output_type": "stream",
     "text": [
      "Round: r3 - Model: Unfiltered - Accuracy: 36.846846%, RK: 0.052706\n"
     ]
    },
    {
     "name": "stderr",
     "output_type": "stream",
     "text": [
      "Reusing dataset anli (/home/shana92/.cache/huggingface/datasets/anli/plain_text/0.1.0/aabce88453b06dff21c201855ea83283bab0390bff746deadb30b65695755c0b)\n",
      "Loading cached processed dataset at /home/shana92/.cache/huggingface/datasets/anli/plain_text/0.1.0/aabce88453b06dff21c201855ea83283bab0390bff746deadb30b65695755c0b/cache-8fadc1a606cb0fb3.arrow\n",
      "Loading cached processed dataset at /home/shana92/.cache/huggingface/datasets/anli/plain_text/0.1.0/aabce88453b06dff21c201855ea83283bab0390bff746deadb30b65695755c0b/cache-b74d0fb132e70629.arrow\n",
      "Loading cached processed dataset at /home/shana92/.cache/huggingface/datasets/anli/plain_text/0.1.0/aabce88453b06dff21c201855ea83283bab0390bff746deadb30b65695755c0b/cache-c29ddb01bd5e92ea.arrow\n"
     ]
    },
    {
     "name": "stdout",
     "output_type": "stream",
     "text": [
      "Split: train_r1 - 446 (2.703030%) sequences excluded\n"
     ]
    },
    {
     "data": {
      "application/vnd.jupyter.widget-view+json": {
       "model_id": "de66dd58d60c4c9db85ff0313867d998",
       "version_major": 2,
       "version_minor": 0
      },
      "text/plain": [
       "  0%|          | 0/516 [00:00<?, ?it/s]"
      ]
     },
     "metadata": {},
     "output_type": "display_data"
    },
    {
     "name": "stdout",
     "output_type": "stream",
     "text": [
      "loss: 0.681513  [    0/16500]\n",
      "loss: 0.666045  [ 1632/16500]\n",
      "loss: 0.602133  [ 3264/16500]\n",
      "loss: 0.626347  [ 4896/16500]\n",
      "loss: 0.654570  [ 6528/16500]\n",
      "loss: 0.658993  [ 8160/16500]\n",
      "loss: 0.655116  [ 9792/16500]\n",
      "loss: 0.618195  [11424/16500]\n",
      "loss: 0.608859  [13056/16500]\n",
      "loss: 0.619769  [14688/16500]\n",
      "loss: 0.638867  [16320/16500]\n",
      "Epoch average loss: 0.6268954277038574\n"
     ]
    },
    {
     "data": {
      "application/vnd.jupyter.widget-view+json": {
       "model_id": "b660f19b042a4dd0b1716853fac14b79",
       "version_major": 2,
       "version_minor": 0
      },
      "text/plain": [
       "  0%|          | 0/516 [00:00<?, ?it/s]"
      ]
     },
     "metadata": {},
     "output_type": "display_data"
    },
    {
     "name": "stdout",
     "output_type": "stream",
     "text": [
      "loss: 0.609137  [    0/16500]\n",
      "loss: 0.556119  [ 1632/16500]\n",
      "loss: 0.591878  [ 3264/16500]\n",
      "loss: 0.609466  [ 4896/16500]\n",
      "loss: 0.629754  [ 6528/16500]\n",
      "loss: 0.599064  [ 8160/16500]\n",
      "loss: 0.576013  [ 9792/16500]\n",
      "loss: 0.636093  [11424/16500]\n",
      "loss: 0.615907  [13056/16500]\n",
      "loss: 0.585144  [14688/16500]\n",
      "loss: 0.638574  [16320/16500]\n",
      "Epoch average loss: 0.5949416756629944\n"
     ]
    },
    {
     "data": {
      "application/vnd.jupyter.widget-view+json": {
       "model_id": "d5a012d4f19a49d88d7d15a952097912",
       "version_major": 2,
       "version_minor": 0
      },
      "text/plain": [
       "  0%|          | 0/516 [00:00<?, ?it/s]"
      ]
     },
     "metadata": {},
     "output_type": "display_data"
    },
    {
     "name": "stdout",
     "output_type": "stream",
     "text": [
      "loss: 0.511985  [    0/16500]\n",
      "loss: 0.563265  [ 1632/16500]\n",
      "loss: 0.391093  [ 3264/16500]\n",
      "loss: 0.534641  [ 4896/16500]\n",
      "loss: 0.619561  [ 6528/16500]\n",
      "loss: 0.461643  [ 8160/16500]\n",
      "loss: 0.624750  [ 9792/16500]\n",
      "loss: 0.587171  [11424/16500]\n",
      "loss: 0.569617  [13056/16500]\n",
      "loss: 0.579541  [14688/16500]\n",
      "loss: 0.523690  [16320/16500]\n",
      "Epoch average loss: 0.5501940846443176\n",
      "Done!\n"
     ]
    },
    {
     "name": "stderr",
     "output_type": "stream",
     "text": [
      "Reusing dataset anli (/home/shana92/.cache/huggingface/datasets/anli/plain_text/0.1.0/aabce88453b06dff21c201855ea83283bab0390bff746deadb30b65695755c0b)\n",
      "Loading cached processed dataset at /home/shana92/.cache/huggingface/datasets/anli/plain_text/0.1.0/aabce88453b06dff21c201855ea83283bab0390bff746deadb30b65695755c0b/cache-b38a088ca65ed389.arrow\n",
      "Loading cached processed dataset at /home/shana92/.cache/huggingface/datasets/anli/plain_text/0.1.0/aabce88453b06dff21c201855ea83283bab0390bff746deadb30b65695755c0b/cache-6b65a6a48b8148f6.arrow\n",
      "Loading cached processed dataset at /home/shana92/.cache/huggingface/datasets/anli/plain_text/0.1.0/aabce88453b06dff21c201855ea83283bab0390bff746deadb30b65695755c0b/cache-41b5295a9ac6d9f0.arrow\n"
     ]
    },
    {
     "name": "stdout",
     "output_type": "stream",
     "text": [
      "Split: test_r1 - 23 (2.354145%) sequences excluded\n"
     ]
    },
    {
     "data": {
      "application/vnd.jupyter.widget-view+json": {
       "model_id": "a6cb6a3b323546f89bb1d5496b8fc726",
       "version_major": 2,
       "version_minor": 0
      },
      "text/plain": [
       "  0%|          | 0/31 [00:00<?, ?it/s]"
      ]
     },
     "metadata": {},
     "output_type": "display_data"
    },
    {
     "name": "stdout",
     "output_type": "stream",
     "text": [
      "Round: r1 - Model: Random 190k Subset - Accuracy: 29.068577%, RK: -0.064965\n"
     ]
    },
    {
     "name": "stderr",
     "output_type": "stream",
     "text": [
      "Reusing dataset anli (/home/shana92/.cache/huggingface/datasets/anli/plain_text/0.1.0/aabce88453b06dff21c201855ea83283bab0390bff746deadb30b65695755c0b)\n",
      "Loading cached processed dataset at /home/shana92/.cache/huggingface/datasets/anli/plain_text/0.1.0/aabce88453b06dff21c201855ea83283bab0390bff746deadb30b65695755c0b/cache-72ff5d2a386ecbe0.arrow\n",
      "Loading cached processed dataset at /home/shana92/.cache/huggingface/datasets/anli/plain_text/0.1.0/aabce88453b06dff21c201855ea83283bab0390bff746deadb30b65695755c0b/cache-4737819096da1dac.arrow\n",
      "Loading cached processed dataset at /home/shana92/.cache/huggingface/datasets/anli/plain_text/0.1.0/aabce88453b06dff21c201855ea83283bab0390bff746deadb30b65695755c0b/cache-35e17ea66d2e5df4.arrow\n"
     ]
    },
    {
     "name": "stdout",
     "output_type": "stream",
     "text": [
      "Split: train_r2 - 944 (2.120586%) sequences excluded\n"
     ]
    },
    {
     "data": {
      "application/vnd.jupyter.widget-view+json": {
       "model_id": "97e050490fd94c3d880bcbe628a42e1d",
       "version_major": 2,
       "version_minor": 0
      },
      "text/plain": [
       "  0%|          | 0/1392 [00:00<?, ?it/s]"
      ]
     },
     "metadata": {},
     "output_type": "display_data"
    },
    {
     "name": "stdout",
     "output_type": "stream",
     "text": [
      "loss: 0.650364  [    0/44516]\n",
      "loss: 0.505515  [ 4448/44516]\n",
      "loss: 0.687516  [ 8896/44516]\n",
      "loss: 0.549529  [13344/44516]\n",
      "loss: 0.545793  [17792/44516]\n",
      "loss: 0.605471  [22240/44516]\n",
      "loss: 0.585989  [26688/44516]\n",
      "loss: 0.576187  [31136/44516]\n",
      "loss: 0.533918  [35584/44516]\n",
      "loss: 0.556270  [40032/44516]\n",
      "loss: 0.706448  [44480/44516]\n",
      "Epoch average loss: 0.596747100353241\n"
     ]
    },
    {
     "data": {
      "application/vnd.jupyter.widget-view+json": {
       "model_id": "b7acca0505ba4de58ad9af6daa953f29",
       "version_major": 2,
       "version_minor": 0
      },
      "text/plain": [
       "  0%|          | 0/1392 [00:00<?, ?it/s]"
      ]
     },
     "metadata": {},
     "output_type": "display_data"
    },
    {
     "name": "stdout",
     "output_type": "stream",
     "text": [
      "loss: 0.566010  [    0/44516]\n",
      "loss: 0.524469  [ 4448/44516]\n",
      "loss: 0.577212  [ 8896/44516]\n",
      "loss: 0.513699  [13344/44516]\n",
      "loss: 0.488073  [17792/44516]\n",
      "loss: 0.533705  [22240/44516]\n",
      "loss: 0.523417  [26688/44516]\n",
      "loss: 0.453544  [31136/44516]\n",
      "loss: 0.477487  [35584/44516]\n",
      "loss: 0.446688  [40032/44516]\n",
      "loss: 0.614061  [44480/44516]\n",
      "Epoch average loss: 0.5331624150276184\n"
     ]
    },
    {
     "data": {
      "application/vnd.jupyter.widget-view+json": {
       "model_id": "98a1cddbf01748b1a45b1fb1990c33f6",
       "version_major": 2,
       "version_minor": 0
      },
      "text/plain": [
       "  0%|          | 0/1392 [00:00<?, ?it/s]"
      ]
     },
     "metadata": {},
     "output_type": "display_data"
    },
    {
     "name": "stdout",
     "output_type": "stream",
     "text": [
      "loss: 0.487233  [    0/44516]\n",
      "loss: 0.391564  [ 4448/44516]\n",
      "loss: 0.461376  [ 8896/44516]\n",
      "loss: 0.587088  [13344/44516]\n",
      "loss: 0.375201  [17792/44516]\n",
      "loss: 0.427533  [22240/44516]\n",
      "loss: 0.596620  [26688/44516]\n",
      "loss: 0.509357  [31136/44516]\n",
      "loss: 0.552391  [35584/44516]\n",
      "loss: 0.446038  [40032/44516]\n",
      "loss: 0.566244  [44480/44516]\n",
      "Epoch average loss: 0.49270346760749817\n",
      "Done!\n"
     ]
    },
    {
     "name": "stderr",
     "output_type": "stream",
     "text": [
      "Reusing dataset anli (/home/shana92/.cache/huggingface/datasets/anli/plain_text/0.1.0/aabce88453b06dff21c201855ea83283bab0390bff746deadb30b65695755c0b)\n",
      "Loading cached processed dataset at /home/shana92/.cache/huggingface/datasets/anli/plain_text/0.1.0/aabce88453b06dff21c201855ea83283bab0390bff746deadb30b65695755c0b/cache-de8a774bcf36d58b.arrow\n",
      "Loading cached processed dataset at /home/shana92/.cache/huggingface/datasets/anli/plain_text/0.1.0/aabce88453b06dff21c201855ea83283bab0390bff746deadb30b65695755c0b/cache-c241330b01a9e71f.arrow\n",
      "Loading cached processed dataset at /home/shana92/.cache/huggingface/datasets/anli/plain_text/0.1.0/aabce88453b06dff21c201855ea83283bab0390bff746deadb30b65695755c0b/cache-b2aaa3b7333cf62b.arrow\n"
     ]
    },
    {
     "name": "stdout",
     "output_type": "stream",
     "text": [
      "Split: test_r2 - 18 (1.832994%) sequences excluded\n"
     ]
    },
    {
     "data": {
      "application/vnd.jupyter.widget-view+json": {
       "model_id": "60404c16c1324d5ebefd7a444a198470",
       "version_major": 2,
       "version_minor": 0
      },
      "text/plain": [
       "  0%|          | 0/31 [00:00<?, ?it/s]"
      ]
     },
     "metadata": {},
     "output_type": "display_data"
    },
    {
     "name": "stdout",
     "output_type": "stream",
     "text": [
      "Round: r2 - Model: Random 190k Subset - Accuracy: 31.670061%, RK: -0.026966\n"
     ]
    },
    {
     "name": "stderr",
     "output_type": "stream",
     "text": [
      "Reusing dataset anli (/home/shana92/.cache/huggingface/datasets/anli/plain_text/0.1.0/aabce88453b06dff21c201855ea83283bab0390bff746deadb30b65695755c0b)\n",
      "Loading cached processed dataset at /home/shana92/.cache/huggingface/datasets/anli/plain_text/0.1.0/aabce88453b06dff21c201855ea83283bab0390bff746deadb30b65695755c0b/cache-28df6ec4ce4a2bbd.arrow\n",
      "Loading cached processed dataset at /home/shana92/.cache/huggingface/datasets/anli/plain_text/0.1.0/aabce88453b06dff21c201855ea83283bab0390bff746deadb30b65695755c0b/cache-6c307511b2b9437a.arrow\n",
      "Loading cached processed dataset at /home/shana92/.cache/huggingface/datasets/anli/plain_text/0.1.0/aabce88453b06dff21c201855ea83283bab0390bff746deadb30b65695755c0b/cache-f516c5e31f2a3706.arrow\n"
     ]
    },
    {
     "name": "stdout",
     "output_type": "stream",
     "text": [
      "Split: train_r3 - 7468 (8.030885%) sequences excluded\n"
     ]
    },
    {
     "data": {
      "application/vnd.jupyter.widget-view+json": {
       "model_id": "977a76c4e2b747568c0358997569730b",
       "version_major": 2,
       "version_minor": 0
      },
      "text/plain": [
       "  0%|          | 0/2906 [00:00<?, ?it/s]"
      ]
     },
     "metadata": {},
     "output_type": "display_data"
    },
    {
     "name": "stdout",
     "output_type": "stream",
     "text": [
      "loss: 0.664677  [    0/92991]\n",
      "loss: 0.565441  [ 9280/92991]\n",
      "loss: 0.598905  [18560/92991]\n",
      "loss: 0.542414  [27840/92991]\n",
      "loss: 0.623132  [37120/92991]\n",
      "loss: 0.559415  [46400/92991]\n",
      "loss: 0.549161  [55680/92991]\n",
      "loss: 0.600914  [64960/92991]\n",
      "loss: 0.527071  [74240/92991]\n",
      "loss: 0.575946  [83520/92991]\n",
      "loss: 0.516883  [92800/92991]\n",
      "Epoch average loss: 0.5740217566490173\n"
     ]
    },
    {
     "data": {
      "application/vnd.jupyter.widget-view+json": {
       "model_id": "a159e840bccf49eea49f4d92b62fa5df",
       "version_major": 2,
       "version_minor": 0
      },
      "text/plain": [
       "  0%|          | 0/2906 [00:00<?, ?it/s]"
      ]
     },
     "metadata": {},
     "output_type": "display_data"
    },
    {
     "name": "stdout",
     "output_type": "stream",
     "text": [
      "loss: 0.507156  [    0/92991]\n",
      "loss: 0.537158  [ 9280/92991]\n",
      "loss: 0.531504  [18560/92991]\n",
      "loss: 0.537328  [27840/92991]\n",
      "loss: 0.455334  [37120/92991]\n",
      "loss: 0.508827  [46400/92991]\n",
      "loss: 0.490320  [55680/92991]\n",
      "loss: 0.487713  [64960/92991]\n",
      "loss: 0.422076  [74240/92991]\n",
      "loss: 0.400336  [83520/92991]\n",
      "loss: 0.507926  [92800/92991]\n",
      "Epoch average loss: 0.5088816285133362\n"
     ]
    },
    {
     "data": {
      "application/vnd.jupyter.widget-view+json": {
       "model_id": "62be8ed617d4448f9bb528639b0a17bb",
       "version_major": 2,
       "version_minor": 0
      },
      "text/plain": [
       "  0%|          | 0/2906 [00:00<?, ?it/s]"
      ]
     },
     "metadata": {},
     "output_type": "display_data"
    },
    {
     "name": "stdout",
     "output_type": "stream",
     "text": [
      "loss: 0.405011  [    0/92991]\n",
      "loss: 0.459857  [ 9280/92991]\n",
      "loss: 0.437436  [18560/92991]\n",
      "loss: 0.539131  [27840/92991]\n",
      "loss: 0.445319  [37120/92991]\n",
      "loss: 0.519733  [46400/92991]\n",
      "loss: 0.452904  [55680/92991]\n",
      "loss: 0.394394  [64960/92991]\n",
      "loss: 0.348360  [74240/92991]\n",
      "loss: 0.378628  [83520/92991]\n",
      "loss: 0.419476  [92800/92991]\n",
      "Epoch average loss: 0.454674631357193\n",
      "Done!\n"
     ]
    },
    {
     "name": "stderr",
     "output_type": "stream",
     "text": [
      "Reusing dataset anli (/home/shana92/.cache/huggingface/datasets/anli/plain_text/0.1.0/aabce88453b06dff21c201855ea83283bab0390bff746deadb30b65695755c0b)\n",
      "Loading cached processed dataset at /home/shana92/.cache/huggingface/datasets/anli/plain_text/0.1.0/aabce88453b06dff21c201855ea83283bab0390bff746deadb30b65695755c0b/cache-47229389571aa876.arrow\n",
      "Loading cached processed dataset at /home/shana92/.cache/huggingface/datasets/anli/plain_text/0.1.0/aabce88453b06dff21c201855ea83283bab0390bff746deadb30b65695755c0b/cache-371ecd7b27cd8130.arrow\n",
      "Loading cached processed dataset at /home/shana92/.cache/huggingface/datasets/anli/plain_text/0.1.0/aabce88453b06dff21c201855ea83283bab0390bff746deadb30b65695755c0b/cache-38aece53e1b59f38.arrow\n"
     ]
    },
    {
     "name": "stdout",
     "output_type": "stream",
     "text": [
      "Split: test_r3 - 90 (8.108108%) sequences excluded\n"
     ]
    },
    {
     "data": {
      "application/vnd.jupyter.widget-view+json": {
       "model_id": "ec71cc0f75be479bbbcc08b67d59fa0c",
       "version_major": 2,
       "version_minor": 0
      },
      "text/plain": [
       "  0%|          | 0/35 [00:00<?, ?it/s]"
      ]
     },
     "metadata": {},
     "output_type": "display_data"
    },
    {
     "name": "stdout",
     "output_type": "stream",
     "text": [
      "Round: r3 - Model: Random 190k Subset - Accuracy: 34.774774%, RK: 0.021023\n"
     ]
    }
   ],
   "source": [
    "for model_name, file_name in models.items(): # two baseline models\n",
    "    \n",
    "    for rd in ['r1', 'r2', 'r3']: # rounds\n",
    "        \n",
    "        # fine-tune\n",
    "        tr = anli_data('train_' + rd, tokenizer)\n",
    "        tr_model = torch.load(file_name)\n",
    "        tr_dataloader = torch.utils.data.DataLoader(tr, batch_size=32, shuffle=True, collate_fn=data_collator)\n",
    "        optimizer = torch.optim.Adam(tr_model.parameters(), lr = 1e-5)\n",
    "        trained_classifier = train_classifier(tr_model, tr_dataloader, optimizer, device)\n",
    "        del tr\n",
    "        \n",
    "        # evaluate\n",
    "        te = anli_data('test_' + rd, tokenizer)\n",
    "        te_dataloader = torch.utils.data.DataLoader(te, batch_size=32, collate_fn=data_collator)\n",
    "        acc, rk = evaluate_acc_rk(trained_classifier, te_dataloader, device)\n",
    "        del te\n",
    "        del tr_model\n",
    "        print(f'Round: {rd} - Model: {model_name} - Accuracy: {acc*100:>3f}%, RK: {rk:>3f}')       "
   ]
  },
  {
   "cell_type": "code",
   "execution_count": null,
   "id": "232491ae",
   "metadata": {},
   "outputs": [],
   "source": []
  }
 ],
 "metadata": {
  "kernelspec": {
   "display_name": "Python 3 (ipykernel)",
   "language": "python",
   "name": "python3"
  },
  "language_info": {
   "codemirror_mode": {
    "name": "ipython",
    "version": 3
   },
   "file_extension": ".py",
   "mimetype": "text/x-python",
   "name": "python",
   "nbconvert_exporter": "python",
   "pygments_lexer": "ipython3",
   "version": "3.8.13"
  }
 },
 "nbformat": 4,
 "nbformat_minor": 5
}
