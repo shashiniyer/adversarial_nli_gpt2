{
 "cells": [
  {
   "cell_type": "code",
   "execution_count": 22,
   "id": "1c7c6d8d",
   "metadata": {},
   "outputs": [],
   "source": [
    "from datasets import load_dataset\n",
    "import pandas as pd\n",
    "import os\n",
    "import json"
   ]
  },
  {
   "cell_type": "markdown",
   "id": "3e2b02b3",
   "metadata": {},
   "source": [
    "# 1. Assemble Data for Analysis"
   ]
  },
  {
   "cell_type": "markdown",
   "id": "62fa5b01",
   "metadata": {},
   "source": [
    "## 1.1. SNLI Dataset"
   ]
  },
  {
   "cell_type": "code",
   "execution_count": 3,
   "id": "2b601b1f",
   "metadata": {},
   "outputs": [
    {
     "name": "stderr",
     "output_type": "stream",
     "text": [
      "Reusing dataset snli (/Users/stray/.cache/huggingface/datasets/snli/plain_text/1.0.0/1f60b67533b65ae0275561ff7828aad5ee4282d0e6f844fd148d05d3c6ea251b)\n"
     ]
    },
    {
     "data": {
      "application/vnd.jupyter.widget-view+json": {
       "model_id": "83f37c16b06148498e74243f5b97a089",
       "version_major": 2,
       "version_minor": 0
      },
      "text/plain": [
       "  0%|          | 0/3 [00:00<?, ?it/s]"
      ]
     },
     "metadata": {},
     "output_type": "display_data"
    }
   ],
   "source": [
    "snli = load_dataset(\"snli\")"
   ]
  },
  {
   "cell_type": "markdown",
   "id": "dbca9a76",
   "metadata": {},
   "source": [
    "## 1.2. HANS Dataset"
   ]
  },
  {
   "cell_type": "code",
   "execution_count": 4,
   "id": "2b3f5ae7",
   "metadata": {},
   "outputs": [
    {
     "name": "stderr",
     "output_type": "stream",
     "text": [
      "Reusing dataset hans (/Users/stray/.cache/huggingface/datasets/hans/plain_text/1.0.0/1bbcb735c482acd54f2e118074b59cfd2bf5f7a5a285d4d540d1e632216672ac)\n"
     ]
    },
    {
     "data": {
      "application/vnd.jupyter.widget-view+json": {
       "model_id": "7e2b788f05f541ff9efaa88b4fd83aad",
       "version_major": 2,
       "version_minor": 0
      },
      "text/plain": [
       "  0%|          | 0/2 [00:00<?, ?it/s]"
      ]
     },
     "metadata": {},
     "output_type": "display_data"
    }
   ],
   "source": [
    "hans = load_dataset(\"hans\")"
   ]
  },
  {
   "cell_type": "markdown",
   "id": "789f3ed9",
   "metadata": {},
   "source": [
    "## 1.3. NLI Diagnostics\n",
    "- About the Dataset: https://super.gluebenchmark.com/diagnostics/\n",
    "- Download Link: https://www.dropbox.com/s/ju7d95ifb072q9f/diagnostic-full.tsv?dl=1"
   ]
  },
  {
   "cell_type": "code",
   "execution_count": 7,
   "id": "a338e5a9",
   "metadata": {},
   "outputs": [],
   "source": [
    "nli_diagnostics = pd.read_csv('../data/nli_diagnostics/diagnostic-full.tsv', delimiter = '\\t')"
   ]
  },
  {
   "cell_type": "markdown",
   "id": "b01089e5",
   "metadata": {},
   "source": [
    "## 1.4. Stress Tests Datasets\n",
    "- About the Dataset: https://abhilasharavichander.github.io/NLI_StressTest/\n",
    "- Download Link: https://drive.google.com/open?id=1faGA5pHdu5Co8rFhnXn-6jbBYC2R1dhw"
   ]
  },
  {
   "cell_type": "code",
   "execution_count": 50,
   "id": "795f02e7",
   "metadata": {},
   "outputs": [
    {
     "name": "stdout",
     "output_type": "stream",
     "text": [
      "File 1: quant_hard - Begin\n",
      "File 1: quant_hard - End\n",
      "File 2: negation_matched - Begin\n",
      "File 2: negation_matched - End\n",
      "File 3: negation_mismatched - Begin\n",
      "File 3: negation_mismatched - End\n",
      "File 4: length_mismatch_mismatched - Begin\n",
      "File 4: length_mismatch_mismatched - End\n",
      "File 5: length_mismatch_matched - Begin\n",
      "File 5: length_mismatch_matched - End\n",
      "File 6: dev_gram_functionword_swap_perturbed_mismatched - Begin\n",
      "File 6: dev_gram_functionword_swap_perturbed_mismatched - End\n",
      "File 7: dev_gram_contentword_swap_perturbed_mismatched - Begin\n",
      "File 7: dev_gram_contentword_swap_perturbed_mismatched - End\n",
      "File 8: dev_gram_keyboard_matched - Begin\n",
      "File 8: dev_gram_keyboard_matched - End\n",
      "File 9: dev_gram_swap_matched - Begin\n",
      "File 9: dev_gram_swap_matched - End\n",
      "File 10: dev_gram_contentword_swap_perturbed_matched - Begin\n",
      "File 10: dev_gram_contentword_swap_perturbed_matched - End\n",
      "File 11: dev_gram_keyboard_mismatched - Begin\n",
      "File 11: dev_gram_keyboard_mismatched - End\n",
      "File 12: dev_gram_swap_mismatched - Begin\n",
      "File 12: dev_gram_swap_mismatched - End\n",
      "File 13: dev_gram_functionword_swap_perturbed_matched - Begin\n",
      "File 13: dev_gram_functionword_swap_perturbed_matched - End\n",
      "File 14: taut2_matched - Begin\n",
      "File 14: taut2_matched - End\n",
      "File 15: taut2_mismatched - Begin\n",
      "File 15: taut2_mismatched - End\n",
      "File 16: antonym_mismatched - Begin\n",
      "File 16: antonym_mismatched - End\n",
      "File 17: antonym_matched - Begin\n",
      "File 17: antonym_matched - End\n"
     ]
    }
   ],
   "source": [
    "stress_tests_datasets = {}  \n",
    "count = 0\n",
    "\n",
    "for path, subdirs, files in os.walk('../data/Stress Tests/'):\n",
    "\n",
    "    for name in files:\n",
    "        \n",
    "        if name.endswith('.jsonl'):\n",
    "            \n",
    "            count += 1\n",
    "            \n",
    "            dict_key = name.replace('multinli_0.9_', '').replace('.jsonl', '')\n",
    "            \n",
    "            print('File ' + str(count) + ': ' + dict_key + ' - Begin')\n",
    "        \n",
    "            with open(os.path.join(path, name), 'r') as json_file:\n",
    "                \n",
    "                json_list = list(json_file)\n",
    "            \n",
    "            if list in [type(x) for x in json.loads(json_list[0]).values()]:\n",
    "            \n",
    "                df = pd.DataFrame(json.loads(json_list[0]))\n",
    "            \n",
    "            else:\n",
    "                \n",
    "                df = pd.DataFrame(json.loads(json_list[0]), index = [0])\n",
    "            \n",
    "            for i in range(1, len(json_list)):\n",
    "                \n",
    "                if list in [type(x) for x in json.loads(json_list[i]).values()]:\n",
    "                \n",
    "                    df = pd.concat([df, pd.DataFrame(json.loads(json_list[i]))], axis = 0)\n",
    "                \n",
    "                else:\n",
    "                    \n",
    "                    df = pd.concat([df, pd.DataFrame(json.loads(json_list[i]), index = [0])], axis = 0)\n",
    "            \n",
    "            stress_tests_datasets[dict_key] = df.reset_index()\n",
    "            print('File ' + str(count) + ': ' + dict_key + ' - End')"
   ]
  },
  {
   "cell_type": "markdown",
   "id": "83a5423d",
   "metadata": {},
   "source": [
    "## 1.5. Adversarial NLI Datasets\n",
    "- About the Dataset: https://github.com/facebookresearch/anli\n",
    "- Download Link: https://dl.fbaipublicfiles.com/anli/anli_v1.0.zip"
   ]
  },
  {
   "cell_type": "code",
   "execution_count": 52,
   "id": "a9adacd5",
   "metadata": {},
   "outputs": [
    {
     "name": "stdout",
     "output_type": "stream",
     "text": [
      "File 1: R1_train - Begin\n",
      "File 1: R1_train - End\n",
      "File 2: R1_test - Begin\n",
      "File 2: R1_test - End\n",
      "File 3: R1_dev - Begin\n",
      "File 3: R1_dev - End\n",
      "File 4: R3_train - Begin\n",
      "File 4: R3_train - End\n",
      "File 5: R3_test - Begin\n",
      "File 5: R3_test - End\n",
      "File 6: R3_dev - Begin\n",
      "File 6: R3_dev - End\n",
      "File 7: R2_train - Begin\n",
      "File 7: R2_train - End\n",
      "File 8: R2_test - Begin\n",
      "File 8: R2_test - End\n",
      "File 9: R2_dev - Begin\n",
      "File 9: R2_dev - End\n"
     ]
    }
   ],
   "source": [
    "anli_datasets = {}\n",
    "count = 0\n",
    "\n",
    "for path, subdirs, files in os.walk('../data/anli_v1.0/'):\n",
    "    \n",
    "    if path != '../data/anli_v1.0/':\n",
    "    \n",
    "        for name in files:\n",
    "            \n",
    "            count += 1\n",
    "\n",
    "            dict_key = path[-2:] + '_' + name.replace('.jsonl', '')\n",
    "            \n",
    "            print('File ' + str(count) + ': ' + dict_key + ' - Begin')\n",
    "\n",
    "            with open(os.path.join(path, name), 'r') as json_file:\n",
    "\n",
    "                json_list = list(json_file)\n",
    "\n",
    "            if list in [type(x) for x in json.loads(json_list[0]).values()]:\n",
    "\n",
    "                df = pd.DataFrame(json.loads(json_list[0]))\n",
    "\n",
    "            else:\n",
    "\n",
    "                df = pd.DataFrame(json.loads(json_list[0]), index = [0])\n",
    "\n",
    "            for i in range(1, len(json_list)):\n",
    "\n",
    "                if list in [type(x) for x in json.loads(json_list[i]).values()]:\n",
    "\n",
    "                    df = pd.concat([df, pd.DataFrame(json.loads(json_list[i]))], axis = 0)\n",
    "\n",
    "                else:\n",
    "\n",
    "                    df = pd.concat([df, pd.DataFrame(json.loads(json_list[i]), index = [0])], axis = 0)\n",
    "\n",
    "            anli_datasets[dict_key] = df.reset_index()\n",
    "            print('File ' + str(count) + ': ' + dict_key + ' - End')"
   ]
  },
  {
   "cell_type": "code",
   "execution_count": null,
   "id": "f7c6fcce",
   "metadata": {},
   "outputs": [],
   "source": []
  }
 ],
 "metadata": {
  "kernelspec": {
   "display_name": "Python 3 (ipykernel)",
   "language": "python",
   "name": "python3"
  },
  "language_info": {
   "codemirror_mode": {
    "name": "ipython",
    "version": 3
   },
   "file_extension": ".py",
   "mimetype": "text/x-python",
   "name": "python",
   "nbconvert_exporter": "python",
   "pygments_lexer": "ipython3",
   "version": "3.8.13"
  }
 },
 "nbformat": 4,
 "nbformat_minor": 5
}
