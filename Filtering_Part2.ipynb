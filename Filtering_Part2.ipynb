{
 "cells": [
  {
   "cell_type": "markdown",
   "id": "8edbca70",
   "metadata": {},
   "source": [
    "# Dual Objective:\n",
    "- A) Use AFLite to greedily solve for $\\text{arg min}_{S \\subset \\mathcal{D}, ~|S| \\geq n}\\mathcal{R}(\\Phi, ~S, ~\\mathcal{M})$\n",
    "- B) Fine-tune GPT-2 with the resulting filtered dataset\n",
    "\n",
    "### 1. Imports and Global Settings"
   ]
  },
  {
   "cell_type": "code",
   "execution_count": 1,
   "id": "cfebceb7",
   "metadata": {},
   "outputs": [],
   "source": [
    "from datasets import load_dataset, disable_caching\n",
    "from tqdm.notebook import tqdm\n",
    "from transformers import GPT2TokenizerFast, DataCollatorWithPadding, set_seed\n",
    "import torch\n",
    "from torch.nn.functional import one_hot\n",
    "import copy\n",
    "import numpy as np\n",
    "from utils_ import tokenize, train_classifier, predict\n",
    "device = torch.device(\"cuda\") if torch.cuda.is_available() else torch.device(\"cpu\")\n",
    "set_seed(42)\n",
    "disable_caching()"
   ]
  },
  {
   "cell_type": "markdown",
   "id": "78053619",
   "metadata": {},
   "source": [
    "### 2. Pre-Processing\n",
    "- Get SNLI Dataset (Train fold) and shuffle it using the same seed as used for obtaining GPT-2 based Feature Representation (see notebook [Filtering_Part1.ipynb](https://github.com/shashiniyer/adversarial_nli_gpt2/blob/main/Filtering_Part1.ipynb))\n",
    "- Remove instances without gold standard labels, i.e., label = -1\n",
    "- One-hot encoding for labels\n",
    "- Partition data 10%/90%; use the 90% as `train`\n",
    "- Tokenise train"
   ]
  },
  {
   "cell_type": "code",
   "execution_count": 2,
   "id": "e62ad078",
   "metadata": {},
   "outputs": [
    {
     "name": "stderr",
     "output_type": "stream",
     "text": [
      "Reusing dataset snli (/home/shana92/.cache/huggingface/datasets/snli/plain_text/1.0.0/1f60b67533b65ae0275561ff7828aad5ee4282d0e6f844fd148d05d3c6ea251b)\n"
     ]
    },
    {
     "data": {
      "application/vnd.jupyter.widget-view+json": {
       "model_id": "2a9aa56a5e7a4889a7d65406225c6a9d",
       "version_major": 2,
       "version_minor": 0
      },
      "text/plain": [
       "  0%|          | 0/551 [00:00<?, ?ba/s]"
      ]
     },
     "metadata": {},
     "output_type": "display_data"
    },
    {
     "data": {
      "application/vnd.jupyter.widget-view+json": {
       "model_id": "e7d114d566cc43cf9a1f3a188cb61c71",
       "version_major": 2,
       "version_minor": 0
      },
      "text/plain": [
       "  0%|          | 0/550 [00:00<?, ?ba/s]"
      ]
     },
     "metadata": {},
     "output_type": "display_data"
    }
   ],
   "source": [
    "snli_train = load_dataset('snli', split = 'train').shuffle(seed = 42)\n",
    "snli_train = snli_train.filter(lambda x: x['label'] != -1).map( \\\n",
    "    lambda x: {'label': one_hot(torch.tensor(x['label']), 3).type(torch.float32).numpy()}, \\\n",
    "    batched = True)\n",
    "train = snli_train.select(range(int(len(snli_train)/10), len(snli_train)))"
   ]
  },
  {
   "cell_type": "code",
   "execution_count": 3,
   "id": "4e9d6a83",
   "metadata": {},
   "outputs": [],
   "source": [
    "# set up tokeniser\n",
    "# padding to left because GPT2 uses last token for prediction\n",
    "tokenizer = GPT2TokenizerFast.from_pretrained(\"gpt2\", padding_side = 'left', \\\n",
    "                                              padding = True, truncation = True)\n",
    "tokenizer.pad_token = tokenizer.eos_token # pad with 'eos' token"
   ]
  },
  {
   "cell_type": "code",
   "execution_count": 4,
   "id": "2820639c",
   "metadata": {},
   "outputs": [
    {
     "data": {
      "application/vnd.jupyter.widget-view+json": {
       "model_id": "7d5dcff785bb4e0fbd2ee2b076c8af1a",
       "version_major": 2,
       "version_minor": 0
      },
      "text/plain": [
       "  0%|          | 0/494431 [00:00<?, ?ex/s]"
      ]
     },
     "metadata": {},
     "output_type": "display_data"
    },
    {
     "data": {
      "application/vnd.jupyter.widget-view+json": {
       "model_id": "b95d9a2123de45b3b652190f5579e63e",
       "version_major": 2,
       "version_minor": 0
      },
      "text/plain": [
       "  0%|          | 0/495 [00:00<?, ?ba/s]"
      ]
     },
     "metadata": {},
     "output_type": "display_data"
    }
   ],
   "source": [
    "# tokenize data\n",
    "train = train.map(lambda x: tokenize(tokenizer, x['premise'] + '|' + x['hypothesis']))\n",
    "len_bef_exclusion = len(train)\n",
    "\n",
    "# exclude instances with > 128 tokens\n",
    "train = train.filter(lambda x: x['exclude'] == False)\n",
    "len_aft_exclusion = len(train)\n",
    "\n",
    "# print message if instances were in fact excluded\n",
    "if len_bef_exclusion - len_aft_exclusion > 0:\n",
    "    \n",
    "    print(f'{len_bef_exclusion - len_aft_exclusion} ' + \\\n",
    "          f'({(en_bef_exclusion/len_aft_exclusion - 1):>2f}%) sequences excluded')"
   ]
  },
  {
   "cell_type": "code",
   "execution_count": 5,
   "id": "12276e50",
   "metadata": {},
   "outputs": [],
   "source": [
    "# keep only needed columns, set data format to PyTorch\n",
    "train.set_format(type = 'torch', columns = ['label', 'input_ids', 'attention_mask'])"
   ]
  },
  {
   "cell_type": "markdown",
   "id": "efb6458a",
   "metadata": {},
   "source": [
    "### 3. Set up inputs for AFLite"
   ]
  },
  {
   "cell_type": "code",
   "execution_count": 6,
   "id": "7048b59f",
   "metadata": {},
   "outputs": [],
   "source": [
    "# load in the feature representation, Phi, with linear layer attached\n",
    "model = torch.load('feature_rep.pth')\n",
    "\n",
    "# move model to CPU\n",
    "model.to('cpu')\n",
    "\n",
    "# freeze all layers except the last\n",
    "num_layers = sum(1 for _ in model.parameters())\n",
    "for idx, param in enumerate(model.parameters()):\n",
    "    \n",
    "    if idx != num_layers - 1:\n",
    "        \n",
    "        # freeze\n",
    "        param.requires_grad = False"
   ]
  },
  {
   "cell_type": "code",
   "execution_count": 7,
   "id": "9e87074b",
   "metadata": {},
   "outputs": [],
   "source": [
    "# set up data collator - https://huggingface.co/docs/transformers/main_classes/data_collator\n",
    "# this is a (callable) helper object that sends batches of data to the model\n",
    "data_collator = DataCollatorWithPadding(tokenizer, padding = 'max_length', \\\n",
    "                                         return_tensors = 'pt', max_length = 128)"
   ]
  },
  {
   "cell_type": "code",
   "execution_count": 8,
   "id": "32c380ea",
   "metadata": {},
   "outputs": [],
   "source": [
    "# hyper-parameters - constrained by training time available\n",
    "m = 30\n",
    "n = 195000\n",
    "t = 50000\n",
    "k = 100000\n",
    "tau = 0.75\n",
    "AFLite_seeds = [0, 1, 2, 3, 4]"
   ]
  },
  {
   "cell_type": "code",
   "execution_count": 9,
   "id": "b7ff63fb",
   "metadata": {},
   "outputs": [],
   "source": [
    "# hyper-parameters for model training within AFLite implementation\n",
    "batch_size = 128 # constrained by GPU memory\n",
    "lr = 1e-5 # set to match Le et al. (2020) - https://arxiv.org/abs/2002.04108"
   ]
  },
  {
   "cell_type": "markdown",
   "id": "0b3fc727",
   "metadata": {},
   "source": [
    "### 4. Utility Function for AFLite"
   ]
  },
  {
   "cell_type": "code",
   "execution_count": 10,
   "id": "e9e1f460",
   "metadata": {},
   "outputs": [],
   "source": [
    "def select_k(pred_scores, tau, k):\n",
    "    \n",
    "    \"\"\"\n",
    "        Select up to k instances with the highest predictability\n",
    "        scores (see report) subject to score >= tau\n",
    "    \"\"\"\n",
    "    \n",
    "    k_idx = [] # initialise\n",
    "    pred_scores = np.array(pred_scores) # format as numpy array for subsequent steps\n",
    "    sorted_descended_idx = np.argsort(-pred_scores) # sorting because we want to select instances with high pred_score\n",
    "    sorted_pred_scores = pred_scores[sorted_descended_idx] # cache\n",
    "    \n",
    "    for idx in sorted_descended_idx:\n",
    "        \n",
    "        if pred_scores[idx] < tau:\n",
    "            \n",
    "            return(k_idx)\n",
    "        \n",
    "        elif idx == sorted_descended_idx.shape[0]:\n",
    "            \n",
    "            k_idx += idx\n",
    "        \n",
    "        elif pred_scores[idx] == pred_scores[idx + 1]:\n",
    "            \n",
    "            candidates = sorted_descended_idx[sorted_pred_scores == pred_scores[idx]]\n",
    "            max_candidates_to_select = k - len(k_idx)\n",
    "            \n",
    "            if max_candidates_to_select >= candidates.shape[0]:\n",
    "                \n",
    "                k_idx += candidates.tolist()\n",
    "            \n",
    "            else:\n",
    "                \n",
    "                # randomly select a subset of `max_candidates_to_select` candidates\n",
    "                k_idx += np.random.default_rng(42).choice(candidates, max_candidates_to_select, replace = False)\n",
    "        \n",
    "        else:\n",
    "            \n",
    "            k_idx += idx\n",
    "        \n",
    "        if len(k_idx) == k:\n",
    "            \n",
    "            return(k_idx)"
   ]
  },
  {
   "cell_type": "markdown",
   "id": "390eef5f",
   "metadata": {},
   "source": [
    "### 5.  AFLite Procedure"
   ]
  },
  {
   "cell_type": "code",
   "execution_count": 11,
   "id": "25189fff",
   "metadata": {
    "scrolled": false
   },
   "outputs": [
    {
     "name": "stdout",
     "output_type": "stream",
     "text": [
      "Seed 0 - Iteration 1 - Model 0 - Begin\n"
     ]
    },
    {
     "data": {
      "application/vnd.jupyter.widget-view+json": {
       "model_id": "c66cca0736c143878988168f921a5955",
       "version_major": 2,
       "version_minor": 0
      },
      "text/plain": [
       "  0%|          | 0/391 [00:00<?, ?it/s]"
      ]
     },
     "metadata": {},
     "output_type": "display_data"
    },
    {
     "name": "stdout",
     "output_type": "stream",
     "text": [
      "loss: 0.490815  [    0/50000]\n",
      "loss: 0.462348  [ 4992/50000]\n",
      "loss: 0.483250  [ 9984/50000]\n",
      "loss: 0.501971  [14976/50000]\n",
      "loss: 0.445378  [19968/50000]\n",
      "loss: 0.507128  [24960/50000]\n",
      "loss: 0.435846  [29952/50000]\n",
      "loss: 0.411889  [34944/50000]\n",
      "loss: 0.481307  [39936/50000]\n",
      "loss: 0.452662  [44928/50000]\n",
      "loss: 0.496749  [31200/50000]\n",
      "Epoch average loss: 0.4680524170398712\n"
     ]
    },
    {
     "data": {
      "application/vnd.jupyter.widget-view+json": {
       "model_id": "38a05a63e8354d43ab7d5ff721d1b0c0",
       "version_major": 2,
       "version_minor": 0
      },
      "text/plain": [
       "  0%|          | 0/391 [00:00<?, ?it/s]"
      ]
     },
     "metadata": {},
     "output_type": "display_data"
    },
    {
     "name": "stdout",
     "output_type": "stream",
     "text": [
      "loss: 0.488783  [    0/50000]\n",
      "loss: 0.467965  [ 4992/50000]\n",
      "loss: 0.482960  [ 9984/50000]\n",
      "loss: 0.464695  [14976/50000]\n",
      "loss: 0.479309  [19968/50000]\n",
      "loss: 0.460052  [24960/50000]\n",
      "loss: 0.459742  [29952/50000]\n",
      "loss: 0.501513  [34944/50000]\n",
      "loss: 0.476872  [39936/50000]\n",
      "loss: 0.534709  [44928/50000]\n",
      "loss: 0.460403  [31200/50000]\n",
      "Epoch average loss: 0.46620702743530273\n"
     ]
    },
    {
     "data": {
      "application/vnd.jupyter.widget-view+json": {
       "model_id": "979ce77560ec4d2ca5b35da01960e9d7",
       "version_major": 2,
       "version_minor": 0
      },
      "text/plain": [
       "  0%|          | 0/391 [00:00<?, ?it/s]"
      ]
     },
     "metadata": {},
     "output_type": "display_data"
    },
    {
     "name": "stdout",
     "output_type": "stream",
     "text": [
      "loss: 0.439318  [    0/50000]\n",
      "loss: 0.496312  [ 4992/50000]\n",
      "loss: 0.486560  [ 9984/50000]\n",
      "loss: 0.445026  [14976/50000]\n",
      "loss: 0.457667  [19968/50000]\n",
      "loss: 0.512696  [24960/50000]\n",
      "loss: 0.515036  [29952/50000]\n",
      "loss: 0.453929  [34944/50000]\n",
      "loss: 0.412722  [39936/50000]\n",
      "loss: 0.464638  [44928/50000]\n",
      "loss: 0.542555  [31200/50000]\n",
      "Epoch average loss: 0.4677579998970032\n",
      "Done!\n"
     ]
    },
    {
     "data": {
      "application/vnd.jupyter.widget-view+json": {
       "model_id": "f6c15bb88a3649fd9e385226908ca2b8",
       "version_major": 2,
       "version_minor": 0
      },
      "text/plain": [
       "  0%|          | 0/3473 [00:00<?, ?it/s]"
      ]
     },
     "metadata": {},
     "output_type": "display_data"
    },
    {
     "name": "stdout",
     "output_type": "stream",
     "text": [
      "Seed 0 - Iteration 1 - Model 30 - Done\n",
      "Seed 0 - Iteration 1 - Model 1 - Begin\n"
     ]
    },
    {
     "data": {
      "application/vnd.jupyter.widget-view+json": {
       "model_id": "fd1aed3fde7a4ad8bd5af371e7d1d210",
       "version_major": 2,
       "version_minor": 0
      },
      "text/plain": [
       "  0%|          | 0/391 [00:00<?, ?it/s]"
      ]
     },
     "metadata": {},
     "output_type": "display_data"
    },
    {
     "name": "stdout",
     "output_type": "stream",
     "text": [
      "loss: 0.496329  [    0/50000]\n",
      "loss: 0.461750  [ 4992/50000]\n",
      "loss: 0.414453  [ 9984/50000]\n",
      "loss: 0.499598  [14976/50000]\n",
      "loss: 0.489535  [19968/50000]\n",
      "loss: 0.493609  [24960/50000]\n",
      "loss: 0.491454  [29952/50000]\n",
      "loss: 0.517127  [34944/50000]\n",
      "loss: 0.455259  [39936/50000]\n",
      "loss: 0.461471  [44928/50000]\n",
      "loss: 0.489900  [31200/50000]\n",
      "Epoch average loss: 0.4648999571800232\n"
     ]
    },
    {
     "data": {
      "application/vnd.jupyter.widget-view+json": {
       "model_id": "0822d4f7981547e8807bcb8aac4f5a4c",
       "version_major": 2,
       "version_minor": 0
      },
      "text/plain": [
       "  0%|          | 0/391 [00:00<?, ?it/s]"
      ]
     },
     "metadata": {},
     "output_type": "display_data"
    },
    {
     "name": "stdout",
     "output_type": "stream",
     "text": [
      "loss: 0.480835  [    0/50000]\n",
      "loss: 0.514182  [ 4992/50000]\n",
      "loss: 0.455320  [ 9984/50000]\n",
      "loss: 0.439934  [14976/50000]\n",
      "loss: 0.424020  [19968/50000]\n",
      "loss: 0.511567  [24960/50000]\n",
      "loss: 0.536579  [29952/50000]\n",
      "loss: 0.472423  [34944/50000]\n",
      "loss: 0.482909  [39936/50000]\n",
      "loss: 0.452261  [44928/50000]\n",
      "loss: 0.445191  [31200/50000]\n",
      "Epoch average loss: 0.46628013253211975\n"
     ]
    },
    {
     "data": {
      "application/vnd.jupyter.widget-view+json": {
       "model_id": "0f54c33d3a184df1b4488ee0f83f4467",
       "version_major": 2,
       "version_minor": 0
      },
      "text/plain": [
       "  0%|          | 0/391 [00:00<?, ?it/s]"
      ]
     },
     "metadata": {},
     "output_type": "display_data"
    },
    {
     "name": "stdout",
     "output_type": "stream",
     "text": [
      "loss: 0.433838  [    0/50000]\n",
      "loss: 0.455367  [ 4992/50000]\n",
      "loss: 0.442342  [ 9984/50000]\n",
      "loss: 0.443768  [14976/50000]\n",
      "loss: 0.433495  [19968/50000]\n",
      "loss: 0.446716  [24960/50000]\n",
      "loss: 0.519018  [29952/50000]\n",
      "loss: 0.480844  [34944/50000]\n",
      "loss: 0.473903  [39936/50000]\n",
      "loss: 0.441200  [44928/50000]\n",
      "loss: 0.526351  [31200/50000]\n",
      "Epoch average loss: 0.46541374921798706\n",
      "Done!\n"
     ]
    },
    {
     "data": {
      "application/vnd.jupyter.widget-view+json": {
       "model_id": "0a0dbbf9741240bdb84b8901216c6ea2",
       "version_major": 2,
       "version_minor": 0
      },
      "text/plain": [
       "  0%|          | 0/3473 [00:00<?, ?it/s]"
      ]
     },
     "metadata": {},
     "output_type": "display_data"
    },
    {
     "name": "stdout",
     "output_type": "stream",
     "text": [
      "Seed 0 - Iteration 1 - Model 30 - Done\n",
      "Seed 0 - Iteration 1 - Model 2 - Begin\n"
     ]
    },
    {
     "data": {
      "application/vnd.jupyter.widget-view+json": {
       "model_id": "4bbf9d699f29457cad4b7771864494ab",
       "version_major": 2,
       "version_minor": 0
      },
      "text/plain": [
       "  0%|          | 0/391 [00:00<?, ?it/s]"
      ]
     },
     "metadata": {},
     "output_type": "display_data"
    },
    {
     "name": "stdout",
     "output_type": "stream",
     "text": [
      "loss: 0.468877  [    0/50000]\n",
      "loss: 0.444588  [ 4992/50000]\n",
      "loss: 0.463039  [ 9984/50000]\n",
      "loss: 0.452809  [14976/50000]\n",
      "loss: 0.475705  [19968/50000]\n",
      "loss: 0.507545  [24960/50000]\n",
      "loss: 0.442597  [29952/50000]\n",
      "loss: 0.422230  [34944/50000]\n",
      "loss: 0.504980  [39936/50000]\n",
      "loss: 0.464689  [44928/50000]\n",
      "loss: 0.475628  [31200/50000]\n",
      "Epoch average loss: 0.4662174582481384\n"
     ]
    },
    {
     "data": {
      "application/vnd.jupyter.widget-view+json": {
       "model_id": "e17cf51e334c4f6ba91908908df7ae5a",
       "version_major": 2,
       "version_minor": 0
      },
      "text/plain": [
       "  0%|          | 0/391 [00:00<?, ?it/s]"
      ]
     },
     "metadata": {},
     "output_type": "display_data"
    },
    {
     "name": "stdout",
     "output_type": "stream",
     "text": [
      "loss: 0.434559  [    0/50000]\n",
      "loss: 0.472283  [ 4992/50000]\n",
      "loss: 0.515166  [ 9984/50000]\n",
      "loss: 0.440969  [14976/50000]\n",
      "loss: 0.435638  [19968/50000]\n",
      "loss: 0.420971  [24960/50000]\n",
      "loss: 0.485145  [29952/50000]\n",
      "loss: 0.495289  [34944/50000]\n",
      "loss: 0.464453  [39936/50000]\n",
      "loss: 0.464244  [44928/50000]\n",
      "loss: 0.437880  [31200/50000]\n",
      "Epoch average loss: 0.4661409258842468\n"
     ]
    },
    {
     "data": {
      "application/vnd.jupyter.widget-view+json": {
       "model_id": "224024ef6ec84db1a0c5bac51d595c07",
       "version_major": 2,
       "version_minor": 0
      },
      "text/plain": [
       "  0%|          | 0/391 [00:00<?, ?it/s]"
      ]
     },
     "metadata": {},
     "output_type": "display_data"
    },
    {
     "name": "stdout",
     "output_type": "stream",
     "text": [
      "loss: 0.471737  [    0/50000]\n",
      "loss: 0.412788  [ 4992/50000]\n",
      "loss: 0.467256  [ 9984/50000]\n",
      "loss: 0.425003  [14976/50000]\n",
      "loss: 0.399822  [19968/50000]\n",
      "loss: 0.389849  [24960/50000]\n",
      "loss: 0.456639  [29952/50000]\n",
      "loss: 0.413032  [34944/50000]\n",
      "loss: 0.473176  [39936/50000]\n",
      "loss: 0.409610  [44928/50000]\n",
      "loss: 0.495577  [31200/50000]\n",
      "Epoch average loss: 0.46622443199157715\n",
      "Done!\n"
     ]
    },
    {
     "data": {
      "application/vnd.jupyter.widget-view+json": {
       "model_id": "8c855e5766934321ac6afd64d5e01692",
       "version_major": 2,
       "version_minor": 0
      },
      "text/plain": [
       "  0%|          | 0/3473 [00:00<?, ?it/s]"
      ]
     },
     "metadata": {},
     "output_type": "display_data"
    },
    {
     "name": "stdout",
     "output_type": "stream",
     "text": [
      "Seed 0 - Iteration 1 - Model 30 - Done\n",
      "Seed 0 - Iteration 1 - Model 3 - Begin\n"
     ]
    },
    {
     "data": {
      "application/vnd.jupyter.widget-view+json": {
       "model_id": "8594b0c4e53543448bb381876397bf0c",
       "version_major": 2,
       "version_minor": 0
      },
      "text/plain": [
       "  0%|          | 0/391 [00:00<?, ?it/s]"
      ]
     },
     "metadata": {},
     "output_type": "display_data"
    },
    {
     "name": "stdout",
     "output_type": "stream",
     "text": [
      "loss: 0.482670  [    0/50000]\n",
      "loss: 0.467089  [ 4992/50000]\n",
      "loss: 0.488443  [ 9984/50000]\n",
      "loss: 0.473134  [14976/50000]\n",
      "loss: 0.512105  [19968/50000]\n",
      "loss: 0.512495  [24960/50000]\n",
      "loss: 0.485099  [29952/50000]\n",
      "loss: 0.429189  [34944/50000]\n",
      "loss: 0.452853  [39936/50000]\n",
      "loss: 0.462465  [44928/50000]\n",
      "loss: 0.515317  [31200/50000]\n",
      "Epoch average loss: 0.466852605342865\n"
     ]
    },
    {
     "data": {
      "application/vnd.jupyter.widget-view+json": {
       "model_id": "4cbbdf29c6844bc6a71eee5e4f3e0eaf",
       "version_major": 2,
       "version_minor": 0
      },
      "text/plain": [
       "  0%|          | 0/391 [00:00<?, ?it/s]"
      ]
     },
     "metadata": {},
     "output_type": "display_data"
    },
    {
     "name": "stdout",
     "output_type": "stream",
     "text": [
      "loss: 0.485342  [    0/50000]\n",
      "loss: 0.458100  [ 4992/50000]\n",
      "loss: 0.455437  [ 9984/50000]\n",
      "loss: 0.439894  [14976/50000]\n",
      "loss: 0.443444  [19968/50000]\n",
      "loss: 0.519521  [24960/50000]\n",
      "loss: 0.455382  [29952/50000]\n",
      "loss: 0.451171  [34944/50000]\n",
      "loss: 0.459446  [39936/50000]\n",
      "loss: 0.459204  [44928/50000]\n",
      "loss: 0.475304  [31200/50000]\n",
      "Epoch average loss: 0.4650052487850189\n"
     ]
    },
    {
     "data": {
      "application/vnd.jupyter.widget-view+json": {
       "model_id": "e19387a887d9483188d66bc7a9c5563e",
       "version_major": 2,
       "version_minor": 0
      },
      "text/plain": [
       "  0%|          | 0/391 [00:00<?, ?it/s]"
      ]
     },
     "metadata": {},
     "output_type": "display_data"
    },
    {
     "name": "stdout",
     "output_type": "stream",
     "text": [
      "loss: 0.533792  [    0/50000]\n",
      "loss: 0.471606  [ 4992/50000]\n",
      "loss: 0.526378  [ 9984/50000]\n",
      "loss: 0.412952  [14976/50000]\n",
      "loss: 0.413553  [19968/50000]\n",
      "loss: 0.475280  [24960/50000]\n",
      "loss: 0.390599  [29952/50000]\n",
      "loss: 0.534704  [34944/50000]\n",
      "loss: 0.460793  [39936/50000]\n",
      "loss: 0.422744  [44928/50000]\n",
      "loss: 0.466432  [31200/50000]\n",
      "Epoch average loss: 0.4644717574119568\n",
      "Done!\n"
     ]
    },
    {
     "data": {
      "application/vnd.jupyter.widget-view+json": {
       "model_id": "365e6f8ab65c4b69b5a3729fa47b31a9",
       "version_major": 2,
       "version_minor": 0
      },
      "text/plain": [
       "  0%|          | 0/3473 [00:00<?, ?it/s]"
      ]
     },
     "metadata": {},
     "output_type": "display_data"
    },
    {
     "name": "stdout",
     "output_type": "stream",
     "text": [
      "Seed 0 - Iteration 1 - Model 30 - Done\n",
      "Seed 0 - Iteration 1 - Model 4 - Begin\n"
     ]
    },
    {
     "data": {
      "application/vnd.jupyter.widget-view+json": {
       "model_id": "4ba4e8a48b064f41a3bdd162b476fc32",
       "version_major": 2,
       "version_minor": 0
      },
      "text/plain": [
       "  0%|          | 0/391 [00:00<?, ?it/s]"
      ]
     },
     "metadata": {},
     "output_type": "display_data"
    },
    {
     "name": "stdout",
     "output_type": "stream",
     "text": [
      "loss: 0.433044  [    0/50000]\n",
      "loss: 0.526016  [ 4992/50000]\n",
      "loss: 0.445489  [ 9984/50000]\n",
      "loss: 0.485510  [14976/50000]\n",
      "loss: 0.439847  [19968/50000]\n",
      "loss: 0.432596  [24960/50000]\n",
      "loss: 0.465773  [29952/50000]\n",
      "loss: 0.468632  [34944/50000]\n",
      "loss: 0.491474  [39936/50000]\n",
      "loss: 0.441192  [44928/50000]\n",
      "loss: 0.419341  [31200/50000]\n",
      "Epoch average loss: 0.4678686261177063\n"
     ]
    },
    {
     "data": {
      "application/vnd.jupyter.widget-view+json": {
       "model_id": "c558230a26344d26b848186955aafc4c",
       "version_major": 2,
       "version_minor": 0
      },
      "text/plain": [
       "  0%|          | 0/391 [00:00<?, ?it/s]"
      ]
     },
     "metadata": {},
     "output_type": "display_data"
    },
    {
     "name": "stdout",
     "output_type": "stream",
     "text": [
      "loss: 0.437656  [    0/50000]\n",
      "loss: 0.469157  [ 4992/50000]\n",
      "loss: 0.535088  [ 9984/50000]\n",
      "loss: 0.466430  [14976/50000]\n",
      "loss: 0.393062  [19968/50000]\n",
      "loss: 0.467271  [24960/50000]\n",
      "loss: 0.490180  [29952/50000]\n",
      "loss: 0.471673  [34944/50000]\n",
      "loss: 0.447780  [39936/50000]\n",
      "loss: 0.473813  [44928/50000]\n",
      "loss: 0.492109  [31200/50000]\n",
      "Epoch average loss: 0.46632587909698486\n"
     ]
    },
    {
     "data": {
      "application/vnd.jupyter.widget-view+json": {
       "model_id": "485631263acd4a459c2c1e004fb0b253",
       "version_major": 2,
       "version_minor": 0
      },
      "text/plain": [
       "  0%|          | 0/391 [00:00<?, ?it/s]"
      ]
     },
     "metadata": {},
     "output_type": "display_data"
    },
    {
     "name": "stdout",
     "output_type": "stream",
     "text": [
      "loss: 0.524030  [    0/50000]\n",
      "loss: 0.466867  [ 4992/50000]\n",
      "loss: 0.433357  [ 9984/50000]\n",
      "loss: 0.438189  [14976/50000]\n",
      "loss: 0.443250  [19968/50000]\n",
      "loss: 0.460037  [24960/50000]\n",
      "loss: 0.468671  [29952/50000]\n",
      "loss: 0.523864  [34944/50000]\n",
      "loss: 0.450836  [39936/50000]\n",
      "loss: 0.456779  [44928/50000]\n",
      "loss: 0.424690  [31200/50000]\n",
      "Epoch average loss: 0.465709924697876\n",
      "Done!\n"
     ]
    },
    {
     "data": {
      "application/vnd.jupyter.widget-view+json": {
       "model_id": "ca1768a00a3140b987d567e68d58d30c",
       "version_major": 2,
       "version_minor": 0
      },
      "text/plain": [
       "  0%|          | 0/3473 [00:00<?, ?it/s]"
      ]
     },
     "metadata": {},
     "output_type": "display_data"
    },
    {
     "name": "stdout",
     "output_type": "stream",
     "text": [
      "Seed 0 - Iteration 1 - Model 30 - Done\n",
      "Seed 0 - Iteration 1 - Model 5 - Begin\n"
     ]
    },
    {
     "data": {
      "application/vnd.jupyter.widget-view+json": {
       "model_id": "c374452e3933490da6b5e58ed7c13499",
       "version_major": 2,
       "version_minor": 0
      },
      "text/plain": [
       "  0%|          | 0/391 [00:00<?, ?it/s]"
      ]
     },
     "metadata": {},
     "output_type": "display_data"
    },
    {
     "name": "stdout",
     "output_type": "stream",
     "text": [
      "loss: 0.455836  [    0/50000]\n",
      "loss: 0.462964  [ 4992/50000]\n",
      "loss: 0.456246  [ 9984/50000]\n",
      "loss: 0.477656  [14976/50000]\n",
      "loss: 0.453614  [19968/50000]\n",
      "loss: 0.469198  [24960/50000]\n",
      "loss: 0.409245  [29952/50000]\n",
      "loss: 0.425582  [34944/50000]\n",
      "loss: 0.456350  [39936/50000]\n",
      "loss: 0.535352  [44928/50000]\n",
      "loss: 0.456168  [31200/50000]\n",
      "Epoch average loss: 0.4682939052581787\n"
     ]
    },
    {
     "data": {
      "application/vnd.jupyter.widget-view+json": {
       "model_id": "fda52bd3a25440709b77d30537049873",
       "version_major": 2,
       "version_minor": 0
      },
      "text/plain": [
       "  0%|          | 0/391 [00:00<?, ?it/s]"
      ]
     },
     "metadata": {},
     "output_type": "display_data"
    },
    {
     "name": "stdout",
     "output_type": "stream",
     "text": [
      "loss: 0.500058  [    0/50000]\n",
      "loss: 0.450341  [ 4992/50000]\n",
      "loss: 0.422983  [ 9984/50000]\n",
      "loss: 0.448929  [14976/50000]\n",
      "loss: 0.475844  [19968/50000]\n",
      "loss: 0.493882  [24960/50000]\n",
      "loss: 0.442765  [29952/50000]\n",
      "loss: 0.521435  [34944/50000]\n",
      "loss: 0.529140  [39936/50000]\n",
      "loss: 0.467571  [44928/50000]\n",
      "loss: 0.430057  [31200/50000]\n",
      "Epoch average loss: 0.46802929043769836\n"
     ]
    },
    {
     "data": {
      "application/vnd.jupyter.widget-view+json": {
       "model_id": "7b32ed4847904659b26f696cbcd494d5",
       "version_major": 2,
       "version_minor": 0
      },
      "text/plain": [
       "  0%|          | 0/391 [00:00<?, ?it/s]"
      ]
     },
     "metadata": {},
     "output_type": "display_data"
    },
    {
     "name": "stdout",
     "output_type": "stream",
     "text": [
      "loss: 0.451216  [    0/50000]\n",
      "loss: 0.473506  [ 4992/50000]\n",
      "loss: 0.436486  [ 9984/50000]\n",
      "loss: 0.477905  [14976/50000]\n",
      "loss: 0.505407  [19968/50000]\n",
      "loss: 0.503532  [24960/50000]\n",
      "loss: 0.531428  [29952/50000]\n",
      "loss: 0.515665  [34944/50000]\n",
      "loss: 0.444911  [39936/50000]\n",
      "loss: 0.485046  [44928/50000]\n",
      "loss: 0.491922  [31200/50000]\n",
      "Epoch average loss: 0.4658316373825073\n",
      "Done!\n"
     ]
    },
    {
     "data": {
      "application/vnd.jupyter.widget-view+json": {
       "model_id": "e5f393592bf5426cb00bcb87e5fcfe7e",
       "version_major": 2,
       "version_minor": 0
      },
      "text/plain": [
       "  0%|          | 0/3473 [00:00<?, ?it/s]"
      ]
     },
     "metadata": {},
     "output_type": "display_data"
    },
    {
     "name": "stdout",
     "output_type": "stream",
     "text": [
      "Seed 0 - Iteration 1 - Model 30 - Done\n",
      "Seed 0 - Iteration 1 - Model 6 - Begin\n"
     ]
    },
    {
     "data": {
      "application/vnd.jupyter.widget-view+json": {
       "model_id": "71e1fff856804c0a9f08fbf5f3cc3a71",
       "version_major": 2,
       "version_minor": 0
      },
      "text/plain": [
       "  0%|          | 0/391 [00:00<?, ?it/s]"
      ]
     },
     "metadata": {},
     "output_type": "display_data"
    },
    {
     "name": "stdout",
     "output_type": "stream",
     "text": [
      "loss: 0.437287  [    0/50000]\n",
      "loss: 0.459754  [ 4992/50000]\n",
      "loss: 0.489548  [ 9984/50000]\n",
      "loss: 0.409811  [14976/50000]\n",
      "loss: 0.417509  [19968/50000]\n",
      "loss: 0.431104  [24960/50000]\n",
      "loss: 0.451993  [29952/50000]\n",
      "loss: 0.485138  [34944/50000]\n",
      "loss: 0.526658  [39936/50000]\n",
      "loss: 0.459254  [44928/50000]\n",
      "loss: 0.476036  [31200/50000]\n",
      "Epoch average loss: 0.4688470661640167\n"
     ]
    },
    {
     "data": {
      "application/vnd.jupyter.widget-view+json": {
       "model_id": "fdb0391071f84567b6794e4d525f6182",
       "version_major": 2,
       "version_minor": 0
      },
      "text/plain": [
       "  0%|          | 0/391 [00:00<?, ?it/s]"
      ]
     },
     "metadata": {},
     "output_type": "display_data"
    },
    {
     "name": "stdout",
     "output_type": "stream",
     "text": [
      "loss: 0.435326  [    0/50000]\n",
      "loss: 0.462147  [ 4992/50000]\n",
      "loss: 0.465431  [ 9984/50000]\n",
      "loss: 0.502050  [14976/50000]\n",
      "loss: 0.433416  [19968/50000]\n",
      "loss: 0.463284  [24960/50000]\n",
      "loss: 0.439393  [29952/50000]\n",
      "loss: 0.446625  [34944/50000]\n",
      "loss: 0.480686  [39936/50000]\n",
      "loss: 0.491207  [44928/50000]\n",
      "loss: 0.547830  [31200/50000]\n",
      "Epoch average loss: 0.4671629071235657\n"
     ]
    },
    {
     "data": {
      "application/vnd.jupyter.widget-view+json": {
       "model_id": "7fe6df4fef344b7daf0dee4e8f6e2913",
       "version_major": 2,
       "version_minor": 0
      },
      "text/plain": [
       "  0%|          | 0/391 [00:00<?, ?it/s]"
      ]
     },
     "metadata": {},
     "output_type": "display_data"
    },
    {
     "name": "stdout",
     "output_type": "stream",
     "text": [
      "loss: 0.460736  [    0/50000]\n",
      "loss: 0.437581  [ 4992/50000]\n",
      "loss: 0.527526  [ 9984/50000]\n",
      "loss: 0.491923  [14976/50000]\n",
      "loss: 0.456977  [19968/50000]\n",
      "loss: 0.510696  [24960/50000]\n",
      "loss: 0.455466  [29952/50000]\n",
      "loss: 0.519326  [34944/50000]\n",
      "loss: 0.480725  [39936/50000]\n",
      "loss: 0.474543  [44928/50000]\n",
      "loss: 0.515977  [31200/50000]\n",
      "Epoch average loss: 0.4668899178504944\n",
      "Done!\n"
     ]
    },
    {
     "data": {
      "application/vnd.jupyter.widget-view+json": {
       "model_id": "356bb9524d0f4d3b898454fa23ce81b8",
       "version_major": 2,
       "version_minor": 0
      },
      "text/plain": [
       "  0%|          | 0/3473 [00:00<?, ?it/s]"
      ]
     },
     "metadata": {},
     "output_type": "display_data"
    },
    {
     "name": "stdout",
     "output_type": "stream",
     "text": [
      "Seed 0 - Iteration 1 - Model 30 - Done\n",
      "Seed 0 - Iteration 1 - Model 7 - Begin\n"
     ]
    },
    {
     "data": {
      "application/vnd.jupyter.widget-view+json": {
       "model_id": "6ab25189136e4416824d8a23770a7af5",
       "version_major": 2,
       "version_minor": 0
      },
      "text/plain": [
       "  0%|          | 0/391 [00:00<?, ?it/s]"
      ]
     },
     "metadata": {},
     "output_type": "display_data"
    },
    {
     "name": "stdout",
     "output_type": "stream",
     "text": [
      "loss: 0.514175  [    0/50000]\n",
      "loss: 0.422671  [ 4992/50000]\n",
      "loss: 0.387330  [ 9984/50000]\n",
      "loss: 0.438503  [14976/50000]\n",
      "loss: 0.442139  [19968/50000]\n",
      "loss: 0.456264  [24960/50000]\n",
      "loss: 0.476131  [29952/50000]\n",
      "loss: 0.430742  [34944/50000]\n",
      "loss: 0.510662  [39936/50000]\n",
      "loss: 0.443369  [44928/50000]\n",
      "loss: 0.496969  [31200/50000]\n",
      "Epoch average loss: 0.46389877796173096\n"
     ]
    },
    {
     "data": {
      "application/vnd.jupyter.widget-view+json": {
       "model_id": "1f2ea26589d64265b532a1a226140fa0",
       "version_major": 2,
       "version_minor": 0
      },
      "text/plain": [
       "  0%|          | 0/391 [00:00<?, ?it/s]"
      ]
     },
     "metadata": {},
     "output_type": "display_data"
    },
    {
     "name": "stdout",
     "output_type": "stream",
     "text": [
      "loss: 0.447469  [    0/50000]\n",
      "loss: 0.438273  [ 4992/50000]\n",
      "loss: 0.497786  [ 9984/50000]\n",
      "loss: 0.555004  [14976/50000]\n",
      "loss: 0.507763  [19968/50000]\n",
      "loss: 0.462944  [24960/50000]\n",
      "loss: 0.472244  [29952/50000]\n",
      "loss: 0.490931  [34944/50000]\n",
      "loss: 0.511012  [39936/50000]\n",
      "loss: 0.452350  [44928/50000]\n",
      "loss: 0.506961  [31200/50000]\n",
      "Epoch average loss: 0.4642736613750458\n"
     ]
    },
    {
     "data": {
      "application/vnd.jupyter.widget-view+json": {
       "model_id": "f73e8637a37c4f53a986ec769110d98f",
       "version_major": 2,
       "version_minor": 0
      },
      "text/plain": [
       "  0%|          | 0/391 [00:00<?, ?it/s]"
      ]
     },
     "metadata": {},
     "output_type": "display_data"
    },
    {
     "name": "stdout",
     "output_type": "stream",
     "text": [
      "loss: 0.470216  [    0/50000]\n",
      "loss: 0.417639  [ 4992/50000]\n",
      "loss: 0.448084  [ 9984/50000]\n",
      "loss: 0.534630  [14976/50000]\n",
      "loss: 0.437972  [19968/50000]\n",
      "loss: 0.424240  [24960/50000]\n",
      "loss: 0.419690  [29952/50000]\n",
      "loss: 0.450670  [34944/50000]\n",
      "loss: 0.528334  [39936/50000]\n",
      "loss: 0.431874  [44928/50000]\n",
      "loss: 0.436372  [31200/50000]\n",
      "Epoch average loss: 0.46379101276397705\n",
      "Done!\n"
     ]
    },
    {
     "data": {
      "application/vnd.jupyter.widget-view+json": {
       "model_id": "21b582aaa5ee46f4999c7748a21c4fe1",
       "version_major": 2,
       "version_minor": 0
      },
      "text/plain": [
       "  0%|          | 0/3473 [00:00<?, ?it/s]"
      ]
     },
     "metadata": {},
     "output_type": "display_data"
    },
    {
     "name": "stdout",
     "output_type": "stream",
     "text": [
      "Seed 0 - Iteration 1 - Model 30 - Done\n",
      "Seed 0 - Iteration 1 - Model 8 - Begin\n"
     ]
    },
    {
     "data": {
      "application/vnd.jupyter.widget-view+json": {
       "model_id": "0ba1fccf91544bb3a55adc86ad5ceb1f",
       "version_major": 2,
       "version_minor": 0
      },
      "text/plain": [
       "  0%|          | 0/391 [00:00<?, ?it/s]"
      ]
     },
     "metadata": {},
     "output_type": "display_data"
    },
    {
     "name": "stdout",
     "output_type": "stream",
     "text": [
      "loss: 0.452210  [    0/50000]\n",
      "loss: 0.492686  [ 4992/50000]\n",
      "loss: 0.416774  [ 9984/50000]\n",
      "loss: 0.452274  [14976/50000]\n",
      "loss: 0.481391  [19968/50000]\n",
      "loss: 0.489002  [24960/50000]\n",
      "loss: 0.409274  [29952/50000]\n",
      "loss: 0.444181  [34944/50000]\n",
      "loss: 0.471738  [39936/50000]\n",
      "loss: 0.470591  [44928/50000]\n",
      "loss: 0.430503  [31200/50000]\n",
      "Epoch average loss: 0.4669973850250244\n"
     ]
    },
    {
     "data": {
      "application/vnd.jupyter.widget-view+json": {
       "model_id": "7da0a6c885e4466bbba4e3c79c7c6d36",
       "version_major": 2,
       "version_minor": 0
      },
      "text/plain": [
       "  0%|          | 0/391 [00:00<?, ?it/s]"
      ]
     },
     "metadata": {},
     "output_type": "display_data"
    },
    {
     "name": "stdout",
     "output_type": "stream",
     "text": [
      "loss: 0.426227  [    0/50000]\n",
      "loss: 0.442118  [ 4992/50000]\n",
      "loss: 0.446396  [ 9984/50000]\n",
      "loss: 0.479805  [14976/50000]\n",
      "loss: 0.533572  [19968/50000]\n",
      "loss: 0.446090  [24960/50000]\n",
      "loss: 0.433642  [29952/50000]\n",
      "loss: 0.509674  [34944/50000]\n",
      "loss: 0.490265  [39936/50000]\n",
      "loss: 0.417314  [44928/50000]\n",
      "loss: 0.489345  [31200/50000]\n",
      "Epoch average loss: 0.4667733907699585\n"
     ]
    },
    {
     "data": {
      "application/vnd.jupyter.widget-view+json": {
       "model_id": "5614dba523e9416bbe4e6f24dd071832",
       "version_major": 2,
       "version_minor": 0
      },
      "text/plain": [
       "  0%|          | 0/391 [00:00<?, ?it/s]"
      ]
     },
     "metadata": {},
     "output_type": "display_data"
    },
    {
     "name": "stdout",
     "output_type": "stream",
     "text": [
      "loss: 0.482425  [    0/50000]\n",
      "loss: 0.492693  [ 4992/50000]\n",
      "loss: 0.439013  [ 9984/50000]\n",
      "loss: 0.472188  [14976/50000]\n",
      "loss: 0.521811  [19968/50000]\n",
      "loss: 0.422870  [24960/50000]\n",
      "loss: 0.438534  [29952/50000]\n",
      "loss: 0.426945  [34944/50000]\n",
      "loss: 0.523431  [39936/50000]\n",
      "loss: 0.456516  [44928/50000]\n",
      "loss: 0.566117  [31200/50000]\n",
      "Epoch average loss: 0.46429717540740967\n",
      "Done!\n"
     ]
    },
    {
     "data": {
      "application/vnd.jupyter.widget-view+json": {
       "model_id": "1b2917839ed449b9bdebd80d7d84d11f",
       "version_major": 2,
       "version_minor": 0
      },
      "text/plain": [
       "  0%|          | 0/3473 [00:00<?, ?it/s]"
      ]
     },
     "metadata": {},
     "output_type": "display_data"
    },
    {
     "name": "stdout",
     "output_type": "stream",
     "text": [
      "Seed 0 - Iteration 1 - Model 30 - Done\n",
      "Seed 0 - Iteration 1 - Model 9 - Begin\n"
     ]
    },
    {
     "data": {
      "application/vnd.jupyter.widget-view+json": {
       "model_id": "8424c6dedd13474897303fdc1c7cefb2",
       "version_major": 2,
       "version_minor": 0
      },
      "text/plain": [
       "  0%|          | 0/391 [00:00<?, ?it/s]"
      ]
     },
     "metadata": {},
     "output_type": "display_data"
    },
    {
     "name": "stdout",
     "output_type": "stream",
     "text": [
      "loss: 0.451098  [    0/50000]\n",
      "loss: 0.477350  [ 4992/50000]\n",
      "loss: 0.475644  [ 9984/50000]\n",
      "loss: 0.458085  [14976/50000]\n",
      "loss: 0.433531  [19968/50000]\n",
      "loss: 0.406473  [24960/50000]\n",
      "loss: 0.535883  [29952/50000]\n",
      "loss: 0.500435  [34944/50000]\n",
      "loss: 0.498843  [39936/50000]\n",
      "loss: 0.484204  [44928/50000]\n",
      "loss: 0.453903  [31200/50000]\n",
      "Epoch average loss: 0.4672124981880188\n"
     ]
    },
    {
     "data": {
      "application/vnd.jupyter.widget-view+json": {
       "model_id": "13ce2b5b1bfd4b379e88fec5be5d1595",
       "version_major": 2,
       "version_minor": 0
      },
      "text/plain": [
       "  0%|          | 0/391 [00:00<?, ?it/s]"
      ]
     },
     "metadata": {},
     "output_type": "display_data"
    },
    {
     "name": "stdout",
     "output_type": "stream",
     "text": [
      "loss: 0.443359  [    0/50000]\n",
      "loss: 0.496375  [ 4992/50000]\n",
      "loss: 0.437462  [ 9984/50000]\n",
      "loss: 0.480564  [14976/50000]\n",
      "loss: 0.479855  [19968/50000]\n",
      "loss: 0.427105  [24960/50000]\n",
      "loss: 0.454992  [29952/50000]\n",
      "loss: 0.459519  [34944/50000]\n",
      "loss: 0.472355  [39936/50000]\n",
      "loss: 0.475721  [44928/50000]\n",
      "loss: 0.425852  [31200/50000]\n",
      "Epoch average loss: 0.46523669362068176\n"
     ]
    },
    {
     "data": {
      "application/vnd.jupyter.widget-view+json": {
       "model_id": "d8ce6c70467543d68491e583027bb33c",
       "version_major": 2,
       "version_minor": 0
      },
      "text/plain": [
       "  0%|          | 0/391 [00:00<?, ?it/s]"
      ]
     },
     "metadata": {},
     "output_type": "display_data"
    },
    {
     "name": "stdout",
     "output_type": "stream",
     "text": [
      "loss: 0.484567  [    0/50000]\n",
      "loss: 0.450713  [ 4992/50000]\n",
      "loss: 0.448480  [ 9984/50000]\n",
      "loss: 0.451641  [14976/50000]\n",
      "loss: 0.475978  [19968/50000]\n",
      "loss: 0.457994  [24960/50000]\n",
      "loss: 0.452651  [29952/50000]\n",
      "loss: 0.462930  [34944/50000]\n",
      "loss: 0.492389  [39936/50000]\n",
      "loss: 0.469986  [44928/50000]\n",
      "loss: 0.451083  [31200/50000]\n",
      "Epoch average loss: 0.4656510055065155\n",
      "Done!\n"
     ]
    },
    {
     "data": {
      "application/vnd.jupyter.widget-view+json": {
       "model_id": "7c5a5090d5f44c6c809361a2d05bd909",
       "version_major": 2,
       "version_minor": 0
      },
      "text/plain": [
       "  0%|          | 0/3473 [00:00<?, ?it/s]"
      ]
     },
     "metadata": {},
     "output_type": "display_data"
    },
    {
     "name": "stdout",
     "output_type": "stream",
     "text": [
      "Seed 0 - Iteration 1 - Model 30 - Done\n",
      "Seed 0 - Iteration 1 - Model 10 - Begin\n"
     ]
    },
    {
     "data": {
      "application/vnd.jupyter.widget-view+json": {
       "model_id": "e93f1235064d4a63a2f5898b27bf26a0",
       "version_major": 2,
       "version_minor": 0
      },
      "text/plain": [
       "  0%|          | 0/391 [00:00<?, ?it/s]"
      ]
     },
     "metadata": {},
     "output_type": "display_data"
    },
    {
     "name": "stdout",
     "output_type": "stream",
     "text": [
      "loss: 0.468861  [    0/50000]\n",
      "loss: 0.461141  [ 4992/50000]\n",
      "loss: 0.499373  [ 9984/50000]\n",
      "loss: 0.428628  [14976/50000]\n",
      "loss: 0.442285  [19968/50000]\n",
      "loss: 0.387423  [24960/50000]\n",
      "loss: 0.476965  [29952/50000]\n",
      "loss: 0.483892  [34944/50000]\n",
      "loss: 0.477934  [39936/50000]\n",
      "loss: 0.477053  [44928/50000]\n",
      "loss: 0.497267  [31200/50000]\n",
      "Epoch average loss: 0.4649522006511688\n"
     ]
    },
    {
     "data": {
      "application/vnd.jupyter.widget-view+json": {
       "model_id": "8b62ec1e45bd450a8e850e896df9356c",
       "version_major": 2,
       "version_minor": 0
      },
      "text/plain": [
       "  0%|          | 0/391 [00:00<?, ?it/s]"
      ]
     },
     "metadata": {},
     "output_type": "display_data"
    },
    {
     "name": "stdout",
     "output_type": "stream",
     "text": [
      "loss: 0.435785  [    0/50000]\n",
      "loss: 0.533157  [ 4992/50000]\n",
      "loss: 0.455788  [ 9984/50000]\n",
      "loss: 0.501789  [14976/50000]\n",
      "loss: 0.482162  [19968/50000]\n",
      "loss: 0.441350  [24960/50000]\n",
      "loss: 0.486231  [29952/50000]\n",
      "loss: 0.452827  [34944/50000]\n",
      "loss: 0.461257  [39936/50000]\n",
      "loss: 0.488426  [44928/50000]\n",
      "loss: 0.437270  [31200/50000]\n",
      "Epoch average loss: 0.464244544506073\n"
     ]
    },
    {
     "data": {
      "application/vnd.jupyter.widget-view+json": {
       "model_id": "729e73e7d02645d6b3cdb2b682e026c0",
       "version_major": 2,
       "version_minor": 0
      },
      "text/plain": [
       "  0%|          | 0/391 [00:00<?, ?it/s]"
      ]
     },
     "metadata": {},
     "output_type": "display_data"
    },
    {
     "name": "stdout",
     "output_type": "stream",
     "text": [
      "loss: 0.460283  [    0/50000]\n",
      "loss: 0.479496  [ 4992/50000]\n",
      "loss: 0.569986  [ 9984/50000]\n",
      "loss: 0.459675  [14976/50000]\n",
      "loss: 0.443899  [19968/50000]\n",
      "loss: 0.472687  [24960/50000]\n",
      "loss: 0.538514  [29952/50000]\n",
      "loss: 0.457028  [34944/50000]\n",
      "loss: 0.506931  [39936/50000]\n",
      "loss: 0.458667  [44928/50000]\n",
      "loss: 0.469683  [31200/50000]\n",
      "Epoch average loss: 0.4621706008911133\n",
      "Done!\n"
     ]
    },
    {
     "data": {
      "application/vnd.jupyter.widget-view+json": {
       "model_id": "5b0e812e67874da5b14aaeddb14e8df7",
       "version_major": 2,
       "version_minor": 0
      },
      "text/plain": [
       "  0%|          | 0/3473 [00:00<?, ?it/s]"
      ]
     },
     "metadata": {},
     "output_type": "display_data"
    },
    {
     "name": "stdout",
     "output_type": "stream",
     "text": [
      "Seed 0 - Iteration 1 - Model 30 - Done\n",
      "Seed 0 - Iteration 1 - Model 11 - Begin\n"
     ]
    },
    {
     "data": {
      "application/vnd.jupyter.widget-view+json": {
       "model_id": "5328c477707445e294dddcffbe145878",
       "version_major": 2,
       "version_minor": 0
      },
      "text/plain": [
       "  0%|          | 0/391 [00:00<?, ?it/s]"
      ]
     },
     "metadata": {},
     "output_type": "display_data"
    },
    {
     "name": "stdout",
     "output_type": "stream",
     "text": [
      "loss: 0.488408  [    0/50000]\n",
      "loss: 0.504679  [ 4992/50000]\n",
      "loss: 0.470553  [ 9984/50000]\n",
      "loss: 0.500734  [14976/50000]\n",
      "loss: 0.472549  [19968/50000]\n",
      "loss: 0.473824  [24960/50000]\n",
      "loss: 0.448258  [29952/50000]\n",
      "loss: 0.424527  [34944/50000]\n",
      "loss: 0.439294  [39936/50000]\n",
      "loss: 0.479055  [44928/50000]\n",
      "loss: 0.468200  [31200/50000]\n",
      "Epoch average loss: 0.46702322363853455\n"
     ]
    },
    {
     "data": {
      "application/vnd.jupyter.widget-view+json": {
       "model_id": "28aadac38cd0432b92bb2b62fac077e6",
       "version_major": 2,
       "version_minor": 0
      },
      "text/plain": [
       "  0%|          | 0/391 [00:00<?, ?it/s]"
      ]
     },
     "metadata": {},
     "output_type": "display_data"
    },
    {
     "name": "stdout",
     "output_type": "stream",
     "text": [
      "loss: 0.481663  [    0/50000]\n",
      "loss: 0.487122  [ 4992/50000]\n",
      "loss: 0.479060  [ 9984/50000]\n",
      "loss: 0.478496  [14976/50000]\n",
      "loss: 0.452755  [19968/50000]\n",
      "loss: 0.513808  [24960/50000]\n",
      "loss: 0.490463  [29952/50000]\n",
      "loss: 0.451463  [34944/50000]\n",
      "loss: 0.445567  [39936/50000]\n",
      "loss: 0.460318  [44928/50000]\n",
      "loss: 0.473600  [31200/50000]\n",
      "Epoch average loss: 0.4657803773880005\n"
     ]
    },
    {
     "data": {
      "application/vnd.jupyter.widget-view+json": {
       "model_id": "2f417d694e77406c956aaf4a015c133f",
       "version_major": 2,
       "version_minor": 0
      },
      "text/plain": [
       "  0%|          | 0/391 [00:00<?, ?it/s]"
      ]
     },
     "metadata": {},
     "output_type": "display_data"
    },
    {
     "name": "stdout",
     "output_type": "stream",
     "text": [
      "loss: 0.445372  [    0/50000]\n",
      "loss: 0.483058  [ 4992/50000]\n",
      "loss: 0.409557  [ 9984/50000]\n",
      "loss: 0.495329  [14976/50000]\n",
      "loss: 0.510445  [19968/50000]\n",
      "loss: 0.445253  [24960/50000]\n",
      "loss: 0.443186  [29952/50000]\n",
      "loss: 0.501668  [34944/50000]\n",
      "loss: 0.478168  [39936/50000]\n",
      "loss: 0.441746  [44928/50000]\n",
      "loss: 0.449356  [31200/50000]\n",
      "Epoch average loss: 0.4645027220249176\n",
      "Done!\n"
     ]
    },
    {
     "data": {
      "application/vnd.jupyter.widget-view+json": {
       "model_id": "a3ab7db45654478db0dc36255dd3d7ab",
       "version_major": 2,
       "version_minor": 0
      },
      "text/plain": [
       "  0%|          | 0/3473 [00:00<?, ?it/s]"
      ]
     },
     "metadata": {},
     "output_type": "display_data"
    },
    {
     "name": "stdout",
     "output_type": "stream",
     "text": [
      "Seed 0 - Iteration 1 - Model 30 - Done\n",
      "Seed 0 - Iteration 1 - Model 12 - Begin\n"
     ]
    },
    {
     "data": {
      "application/vnd.jupyter.widget-view+json": {
       "model_id": "6ca230570a5d4cb597a1e806a6c6db83",
       "version_major": 2,
       "version_minor": 0
      },
      "text/plain": [
       "  0%|          | 0/391 [00:00<?, ?it/s]"
      ]
     },
     "metadata": {},
     "output_type": "display_data"
    },
    {
     "name": "stdout",
     "output_type": "stream",
     "text": [
      "loss: 0.509644  [    0/50000]\n",
      "loss: 0.461033  [ 4992/50000]\n",
      "loss: 0.442738  [ 9984/50000]\n",
      "loss: 0.521098  [14976/50000]\n",
      "loss: 0.417417  [19968/50000]\n",
      "loss: 0.429046  [24960/50000]\n",
      "loss: 0.476489  [29952/50000]\n",
      "loss: 0.500365  [34944/50000]\n",
      "loss: 0.454865  [39936/50000]\n",
      "loss: 0.511599  [44928/50000]\n",
      "loss: 0.540245  [31200/50000]\n",
      "Epoch average loss: 0.46408531069755554\n"
     ]
    },
    {
     "data": {
      "application/vnd.jupyter.widget-view+json": {
       "model_id": "4398a810fb2348c59377d9f131f65cab",
       "version_major": 2,
       "version_minor": 0
      },
      "text/plain": [
       "  0%|          | 0/391 [00:00<?, ?it/s]"
      ]
     },
     "metadata": {},
     "output_type": "display_data"
    },
    {
     "name": "stdout",
     "output_type": "stream",
     "text": [
      "loss: 0.489265  [    0/50000]\n",
      "loss: 0.461402  [ 4992/50000]\n",
      "loss: 0.443232  [ 9984/50000]\n",
      "loss: 0.504986  [14976/50000]\n",
      "loss: 0.494491  [19968/50000]\n",
      "loss: 0.504043  [24960/50000]\n",
      "loss: 0.521035  [29952/50000]\n",
      "loss: 0.409282  [34944/50000]\n",
      "loss: 0.478492  [39936/50000]\n",
      "loss: 0.549472  [44928/50000]\n",
      "loss: 0.468177  [31200/50000]\n",
      "Epoch average loss: 0.46384698152542114\n"
     ]
    },
    {
     "data": {
      "application/vnd.jupyter.widget-view+json": {
       "model_id": "47e4216bf8b742aba05d33bc085b3e41",
       "version_major": 2,
       "version_minor": 0
      },
      "text/plain": [
       "  0%|          | 0/391 [00:00<?, ?it/s]"
      ]
     },
     "metadata": {},
     "output_type": "display_data"
    },
    {
     "name": "stdout",
     "output_type": "stream",
     "text": [
      "loss: 0.492013  [    0/50000]\n",
      "loss: 0.479922  [ 4992/50000]\n",
      "loss: 0.459161  [ 9984/50000]\n",
      "loss: 0.441321  [14976/50000]\n",
      "loss: 0.479816  [19968/50000]\n",
      "loss: 0.449824  [24960/50000]\n",
      "loss: 0.465926  [29952/50000]\n",
      "loss: 0.447740  [34944/50000]\n",
      "loss: 0.392865  [39936/50000]\n",
      "loss: 0.458488  [44928/50000]\n",
      "loss: 0.503041  [31200/50000]\n",
      "Epoch average loss: 0.4644061326980591\n",
      "Done!\n"
     ]
    },
    {
     "data": {
      "application/vnd.jupyter.widget-view+json": {
       "model_id": "fb8a6ccd03f04db9a2d45c2d975d0025",
       "version_major": 2,
       "version_minor": 0
      },
      "text/plain": [
       "  0%|          | 0/3473 [00:00<?, ?it/s]"
      ]
     },
     "metadata": {},
     "output_type": "display_data"
    },
    {
     "name": "stdout",
     "output_type": "stream",
     "text": [
      "Seed 0 - Iteration 1 - Model 30 - Done\n",
      "Seed 0 - Iteration 1 - Model 13 - Begin\n"
     ]
    },
    {
     "data": {
      "application/vnd.jupyter.widget-view+json": {
       "model_id": "e9192d6e752d4004b606639c968fe7f3",
       "version_major": 2,
       "version_minor": 0
      },
      "text/plain": [
       "  0%|          | 0/391 [00:00<?, ?it/s]"
      ]
     },
     "metadata": {},
     "output_type": "display_data"
    },
    {
     "name": "stdout",
     "output_type": "stream",
     "text": [
      "loss: 0.497591  [    0/50000]\n",
      "loss: 0.530760  [ 4992/50000]\n",
      "loss: 0.497899  [ 9984/50000]\n",
      "loss: 0.478314  [14976/50000]\n",
      "loss: 0.518068  [19968/50000]\n",
      "loss: 0.486955  [24960/50000]\n",
      "loss: 0.456379  [29952/50000]\n",
      "loss: 0.457733  [34944/50000]\n",
      "loss: 0.457381  [39936/50000]\n",
      "loss: 0.414165  [44928/50000]\n",
      "loss: 0.490314  [31200/50000]\n",
      "Epoch average loss: 0.46755897998809814\n"
     ]
    },
    {
     "data": {
      "application/vnd.jupyter.widget-view+json": {
       "model_id": "ccc1b0c75d3749c3b9357aeede5f8945",
       "version_major": 2,
       "version_minor": 0
      },
      "text/plain": [
       "  0%|          | 0/391 [00:00<?, ?it/s]"
      ]
     },
     "metadata": {},
     "output_type": "display_data"
    },
    {
     "name": "stdout",
     "output_type": "stream",
     "text": [
      "loss: 0.474509  [    0/50000]\n",
      "loss: 0.487641  [ 4992/50000]\n",
      "loss: 0.515323  [ 9984/50000]\n",
      "loss: 0.533875  [14976/50000]\n",
      "loss: 0.448765  [19968/50000]\n",
      "loss: 0.406020  [24960/50000]\n",
      "loss: 0.432788  [29952/50000]\n",
      "loss: 0.465067  [34944/50000]\n",
      "loss: 0.463552  [39936/50000]\n",
      "loss: 0.500254  [44928/50000]\n",
      "loss: 0.453372  [31200/50000]\n",
      "Epoch average loss: 0.4643569886684418\n"
     ]
    },
    {
     "data": {
      "application/vnd.jupyter.widget-view+json": {
       "model_id": "51d5a520f32b402592b08a4d79547045",
       "version_major": 2,
       "version_minor": 0
      },
      "text/plain": [
       "  0%|          | 0/391 [00:00<?, ?it/s]"
      ]
     },
     "metadata": {},
     "output_type": "display_data"
    },
    {
     "name": "stdout",
     "output_type": "stream",
     "text": [
      "loss: 0.488214  [    0/50000]\n",
      "loss: 0.468060  [ 4992/50000]\n",
      "loss: 0.480280  [ 9984/50000]\n",
      "loss: 0.427781  [14976/50000]\n",
      "loss: 0.518617  [19968/50000]\n",
      "loss: 0.498264  [24960/50000]\n",
      "loss: 0.427276  [29952/50000]\n",
      "loss: 0.422488  [34944/50000]\n",
      "loss: 0.462825  [39936/50000]\n",
      "loss: 0.448409  [44928/50000]\n",
      "loss: 0.419108  [31200/50000]\n",
      "Epoch average loss: 0.46405351161956787\n",
      "Done!\n"
     ]
    },
    {
     "data": {
      "application/vnd.jupyter.widget-view+json": {
       "model_id": "1734fcbed8d14cc28f6bae2e67998ec1",
       "version_major": 2,
       "version_minor": 0
      },
      "text/plain": [
       "  0%|          | 0/3473 [00:00<?, ?it/s]"
      ]
     },
     "metadata": {},
     "output_type": "display_data"
    },
    {
     "name": "stdout",
     "output_type": "stream",
     "text": [
      "Seed 0 - Iteration 1 - Model 30 - Done\n",
      "Seed 0 - Iteration 1 - Model 14 - Begin\n"
     ]
    },
    {
     "data": {
      "application/vnd.jupyter.widget-view+json": {
       "model_id": "bd7173cebb4543a6b9efb6830555ac12",
       "version_major": 2,
       "version_minor": 0
      },
      "text/plain": [
       "  0%|          | 0/391 [00:00<?, ?it/s]"
      ]
     },
     "metadata": {},
     "output_type": "display_data"
    },
    {
     "name": "stdout",
     "output_type": "stream",
     "text": [
      "loss: 0.512553  [    0/50000]\n",
      "loss: 0.474466  [ 4992/50000]\n",
      "loss: 0.468083  [ 9984/50000]\n",
      "loss: 0.508476  [14976/50000]\n",
      "loss: 0.437254  [19968/50000]\n",
      "loss: 0.494658  [24960/50000]\n",
      "loss: 0.447799  [29952/50000]\n",
      "loss: 0.484724  [34944/50000]\n",
      "loss: 0.504379  [39936/50000]\n",
      "loss: 0.460049  [44928/50000]\n",
      "loss: 0.482386  [31200/50000]\n",
      "Epoch average loss: 0.4697825014591217\n"
     ]
    },
    {
     "data": {
      "application/vnd.jupyter.widget-view+json": {
       "model_id": "cd518c191a944a85928b39e40c61f9ef",
       "version_major": 2,
       "version_minor": 0
      },
      "text/plain": [
       "  0%|          | 0/391 [00:00<?, ?it/s]"
      ]
     },
     "metadata": {},
     "output_type": "display_data"
    },
    {
     "name": "stdout",
     "output_type": "stream",
     "text": [
      "loss: 0.440578  [    0/50000]\n",
      "loss: 0.564142  [ 4992/50000]\n",
      "loss: 0.430481  [ 9984/50000]\n",
      "loss: 0.516748  [14976/50000]\n",
      "loss: 0.468006  [19968/50000]\n",
      "loss: 0.515787  [24960/50000]\n",
      "loss: 0.459798  [29952/50000]\n",
      "loss: 0.478496  [34944/50000]\n",
      "loss: 0.486582  [39936/50000]\n",
      "loss: 0.448254  [44928/50000]\n",
      "loss: 0.520714  [31200/50000]\n",
      "Epoch average loss: 0.46750015020370483\n"
     ]
    },
    {
     "data": {
      "application/vnd.jupyter.widget-view+json": {
       "model_id": "58a56a23aadc4b618c1d86721334c4dd",
       "version_major": 2,
       "version_minor": 0
      },
      "text/plain": [
       "  0%|          | 0/391 [00:00<?, ?it/s]"
      ]
     },
     "metadata": {},
     "output_type": "display_data"
    },
    {
     "name": "stdout",
     "output_type": "stream",
     "text": [
      "loss: 0.441896  [    0/50000]\n",
      "loss: 0.463895  [ 4992/50000]\n",
      "loss: 0.473388  [ 9984/50000]\n",
      "loss: 0.512665  [14976/50000]\n",
      "loss: 0.489067  [19968/50000]\n",
      "loss: 0.458733  [24960/50000]\n",
      "loss: 0.447567  [29952/50000]\n",
      "loss: 0.480978  [34944/50000]\n",
      "loss: 0.477234  [39936/50000]\n",
      "loss: 0.465917  [44928/50000]\n",
      "loss: 0.465807  [31200/50000]\n",
      "Epoch average loss: 0.4676004946231842\n",
      "Done!\n"
     ]
    },
    {
     "data": {
      "application/vnd.jupyter.widget-view+json": {
       "model_id": "de724137a7f74a1fa7a916c013867865",
       "version_major": 2,
       "version_minor": 0
      },
      "text/plain": [
       "  0%|          | 0/3473 [00:00<?, ?it/s]"
      ]
     },
     "metadata": {},
     "output_type": "display_data"
    },
    {
     "name": "stdout",
     "output_type": "stream",
     "text": [
      "Seed 0 - Iteration 1 - Model 30 - Done\n",
      "Seed 0 - Iteration 1 - Model 15 - Begin\n"
     ]
    },
    {
     "data": {
      "application/vnd.jupyter.widget-view+json": {
       "model_id": "78c6d9cca84944999d3f2cfa1d2340e5",
       "version_major": 2,
       "version_minor": 0
      },
      "text/plain": [
       "  0%|          | 0/391 [00:00<?, ?it/s]"
      ]
     },
     "metadata": {},
     "output_type": "display_data"
    },
    {
     "name": "stdout",
     "output_type": "stream",
     "text": [
      "loss: 0.507034  [    0/50000]\n",
      "loss: 0.478793  [ 4992/50000]\n",
      "loss: 0.558938  [ 9984/50000]\n",
      "loss: 0.516160  [14976/50000]\n",
      "loss: 0.501782  [19968/50000]\n",
      "loss: 0.458433  [24960/50000]\n",
      "loss: 0.489200  [29952/50000]\n",
      "loss: 0.445365  [34944/50000]\n",
      "loss: 0.494896  [39936/50000]\n",
      "loss: 0.434355  [44928/50000]\n",
      "loss: 0.491686  [31200/50000]\n",
      "Epoch average loss: 0.46463316679000854\n"
     ]
    },
    {
     "data": {
      "application/vnd.jupyter.widget-view+json": {
       "model_id": "2b631a9b67ed4ebdae24d12590e084cd",
       "version_major": 2,
       "version_minor": 0
      },
      "text/plain": [
       "  0%|          | 0/391 [00:00<?, ?it/s]"
      ]
     },
     "metadata": {},
     "output_type": "display_data"
    },
    {
     "name": "stdout",
     "output_type": "stream",
     "text": [
      "loss: 0.497821  [    0/50000]\n",
      "loss: 0.496871  [ 4992/50000]\n",
      "loss: 0.429645  [ 9984/50000]\n",
      "loss: 0.439909  [14976/50000]\n",
      "loss: 0.461965  [19968/50000]\n",
      "loss: 0.454651  [24960/50000]\n",
      "loss: 0.490157  [29952/50000]\n",
      "loss: 0.498831  [34944/50000]\n",
      "loss: 0.483950  [39936/50000]\n",
      "loss: 0.461069  [44928/50000]\n",
      "loss: 0.525301  [31200/50000]\n",
      "Epoch average loss: 0.46480026841163635\n"
     ]
    },
    {
     "data": {
      "application/vnd.jupyter.widget-view+json": {
       "model_id": "8f398e8311644d288ed22a95e199d4a6",
       "version_major": 2,
       "version_minor": 0
      },
      "text/plain": [
       "  0%|          | 0/391 [00:00<?, ?it/s]"
      ]
     },
     "metadata": {},
     "output_type": "display_data"
    },
    {
     "name": "stdout",
     "output_type": "stream",
     "text": [
      "loss: 0.460685  [    0/50000]\n",
      "loss: 0.387969  [ 4992/50000]\n",
      "loss: 0.416599  [ 9984/50000]\n",
      "loss: 0.434959  [14976/50000]\n",
      "loss: 0.474065  [19968/50000]\n",
      "loss: 0.408900  [24960/50000]\n",
      "loss: 0.451993  [29952/50000]\n",
      "loss: 0.408330  [34944/50000]\n",
      "loss: 0.435167  [39936/50000]\n",
      "loss: 0.467250  [44928/50000]\n",
      "loss: 0.480955  [31200/50000]\n",
      "Epoch average loss: 0.4625505805015564\n",
      "Done!\n"
     ]
    },
    {
     "data": {
      "application/vnd.jupyter.widget-view+json": {
       "model_id": "f8c06c52eac9496bb850b117d9d59e26",
       "version_major": 2,
       "version_minor": 0
      },
      "text/plain": [
       "  0%|          | 0/3473 [00:00<?, ?it/s]"
      ]
     },
     "metadata": {},
     "output_type": "display_data"
    },
    {
     "name": "stdout",
     "output_type": "stream",
     "text": [
      "Seed 0 - Iteration 1 - Model 30 - Done\n",
      "Seed 0 - Iteration 1 - Model 16 - Begin\n"
     ]
    },
    {
     "data": {
      "application/vnd.jupyter.widget-view+json": {
       "model_id": "630150bc36504c9d9180adc509a61f87",
       "version_major": 2,
       "version_minor": 0
      },
      "text/plain": [
       "  0%|          | 0/391 [00:00<?, ?it/s]"
      ]
     },
     "metadata": {},
     "output_type": "display_data"
    },
    {
     "name": "stdout",
     "output_type": "stream",
     "text": [
      "loss: 0.498403  [    0/50000]\n",
      "loss: 0.416919  [ 4992/50000]\n",
      "loss: 0.527071  [ 9984/50000]\n",
      "loss: 0.522447  [14976/50000]\n",
      "loss: 0.404433  [19968/50000]\n",
      "loss: 0.461720  [24960/50000]\n",
      "loss: 0.527305  [29952/50000]\n",
      "loss: 0.486443  [34944/50000]\n",
      "loss: 0.524850  [39936/50000]\n",
      "loss: 0.523264  [44928/50000]\n",
      "loss: 0.432307  [31200/50000]\n",
      "Epoch average loss: 0.46635153889656067\n"
     ]
    },
    {
     "data": {
      "application/vnd.jupyter.widget-view+json": {
       "model_id": "580e93781e794337bc475cf017d4a3bf",
       "version_major": 2,
       "version_minor": 0
      },
      "text/plain": [
       "  0%|          | 0/391 [00:00<?, ?it/s]"
      ]
     },
     "metadata": {},
     "output_type": "display_data"
    },
    {
     "name": "stdout",
     "output_type": "stream",
     "text": [
      "loss: 0.473207  [    0/50000]\n",
      "loss: 0.488149  [ 4992/50000]\n",
      "loss: 0.471921  [ 9984/50000]\n",
      "loss: 0.423854  [14976/50000]\n",
      "loss: 0.458517  [19968/50000]\n",
      "loss: 0.463102  [24960/50000]\n",
      "loss: 0.423498  [29952/50000]\n",
      "loss: 0.420713  [34944/50000]\n",
      "loss: 0.468155  [39936/50000]\n",
      "loss: 0.476712  [44928/50000]\n",
      "loss: 0.459700  [31200/50000]\n",
      "Epoch average loss: 0.4639015197753906\n"
     ]
    },
    {
     "data": {
      "application/vnd.jupyter.widget-view+json": {
       "model_id": "72503c582c1e4b9bb6831effaf325db6",
       "version_major": 2,
       "version_minor": 0
      },
      "text/plain": [
       "  0%|          | 0/391 [00:00<?, ?it/s]"
      ]
     },
     "metadata": {},
     "output_type": "display_data"
    },
    {
     "name": "stdout",
     "output_type": "stream",
     "text": [
      "loss: 0.473141  [    0/50000]\n",
      "loss: 0.424607  [ 4992/50000]\n",
      "loss: 0.408113  [ 9984/50000]\n",
      "loss: 0.457685  [14976/50000]\n",
      "loss: 0.536663  [19968/50000]\n",
      "loss: 0.455483  [24960/50000]\n",
      "loss: 0.467286  [29952/50000]\n",
      "loss: 0.500957  [34944/50000]\n",
      "loss: 0.447979  [39936/50000]\n",
      "loss: 0.474516  [44928/50000]\n",
      "loss: 0.473007  [31200/50000]\n",
      "Epoch average loss: 0.46451324224472046\n",
      "Done!\n"
     ]
    },
    {
     "data": {
      "application/vnd.jupyter.widget-view+json": {
       "model_id": "5c50df7466784bafa7f37eb43d6b243e",
       "version_major": 2,
       "version_minor": 0
      },
      "text/plain": [
       "  0%|          | 0/3473 [00:00<?, ?it/s]"
      ]
     },
     "metadata": {},
     "output_type": "display_data"
    },
    {
     "name": "stdout",
     "output_type": "stream",
     "text": [
      "Seed 0 - Iteration 1 - Model 30 - Done\n",
      "Seed 0 - Iteration 1 - Model 17 - Begin\n"
     ]
    },
    {
     "data": {
      "application/vnd.jupyter.widget-view+json": {
       "model_id": "7078cb9912f542d1b6500a50ea8253af",
       "version_major": 2,
       "version_minor": 0
      },
      "text/plain": [
       "  0%|          | 0/391 [00:00<?, ?it/s]"
      ]
     },
     "metadata": {},
     "output_type": "display_data"
    },
    {
     "name": "stdout",
     "output_type": "stream",
     "text": [
      "loss: 0.505127  [    0/50000]\n",
      "loss: 0.500839  [ 4992/50000]\n",
      "loss: 0.438300  [ 9984/50000]\n",
      "loss: 0.495394  [14976/50000]\n",
      "loss: 0.428733  [19968/50000]\n",
      "loss: 0.496772  [24960/50000]\n",
      "loss: 0.446269  [29952/50000]\n",
      "loss: 0.496062  [34944/50000]\n",
      "loss: 0.475473  [39936/50000]\n",
      "loss: 0.456013  [44928/50000]\n",
      "loss: 0.430101  [31200/50000]\n",
      "Epoch average loss: 0.4672999083995819\n"
     ]
    },
    {
     "data": {
      "application/vnd.jupyter.widget-view+json": {
       "model_id": "8fb4960f0eaf44a9b38ec348687ffd75",
       "version_major": 2,
       "version_minor": 0
      },
      "text/plain": [
       "  0%|          | 0/391 [00:00<?, ?it/s]"
      ]
     },
     "metadata": {},
     "output_type": "display_data"
    },
    {
     "name": "stdout",
     "output_type": "stream",
     "text": [
      "loss: 0.455757  [    0/50000]\n",
      "loss: 0.464213  [ 4992/50000]\n",
      "loss: 0.433969  [ 9984/50000]\n",
      "loss: 0.526357  [14976/50000]\n",
      "loss: 0.475596  [19968/50000]\n",
      "loss: 0.444367  [24960/50000]\n",
      "loss: 0.443328  [29952/50000]\n",
      "loss: 0.499319  [34944/50000]\n",
      "loss: 0.432696  [39936/50000]\n",
      "loss: 0.519779  [44928/50000]\n",
      "loss: 0.447838  [31200/50000]\n",
      "Epoch average loss: 0.46694666147232056\n"
     ]
    },
    {
     "data": {
      "application/vnd.jupyter.widget-view+json": {
       "model_id": "0aededea2f4f44d7a5911486ad0aca50",
       "version_major": 2,
       "version_minor": 0
      },
      "text/plain": [
       "  0%|          | 0/391 [00:00<?, ?it/s]"
      ]
     },
     "metadata": {},
     "output_type": "display_data"
    },
    {
     "name": "stdout",
     "output_type": "stream",
     "text": [
      "loss: 0.501469  [    0/50000]\n",
      "loss: 0.450157  [ 4992/50000]\n",
      "loss: 0.476071  [ 9984/50000]\n",
      "loss: 0.430901  [14976/50000]\n",
      "loss: 0.434559  [19968/50000]\n",
      "loss: 0.447274  [24960/50000]\n",
      "loss: 0.497300  [29952/50000]\n",
      "loss: 0.482795  [34944/50000]\n",
      "loss: 0.484207  [39936/50000]\n",
      "loss: 0.451954  [44928/50000]\n",
      "loss: 0.401366  [31200/50000]\n",
      "Epoch average loss: 0.4666641354560852\n",
      "Done!\n"
     ]
    },
    {
     "data": {
      "application/vnd.jupyter.widget-view+json": {
       "model_id": "3b209602be084b9a9d06bda00d428076",
       "version_major": 2,
       "version_minor": 0
      },
      "text/plain": [
       "  0%|          | 0/3473 [00:00<?, ?it/s]"
      ]
     },
     "metadata": {},
     "output_type": "display_data"
    },
    {
     "name": "stdout",
     "output_type": "stream",
     "text": [
      "Seed 0 - Iteration 1 - Model 30 - Done\n",
      "Seed 0 - Iteration 1 - Model 18 - Begin\n"
     ]
    },
    {
     "data": {
      "application/vnd.jupyter.widget-view+json": {
       "model_id": "22f6cfd937f0403487cb7df2c933aedd",
       "version_major": 2,
       "version_minor": 0
      },
      "text/plain": [
       "  0%|          | 0/391 [00:00<?, ?it/s]"
      ]
     },
     "metadata": {},
     "output_type": "display_data"
    },
    {
     "name": "stdout",
     "output_type": "stream",
     "text": [
      "loss: 0.482495  [    0/50000]\n",
      "loss: 0.484927  [ 4992/50000]\n",
      "loss: 0.501310  [ 9984/50000]\n",
      "loss: 0.519095  [14976/50000]\n",
      "loss: 0.548186  [19968/50000]\n",
      "loss: 0.441271  [24960/50000]\n",
      "loss: 0.462279  [29952/50000]\n",
      "loss: 0.499985  [34944/50000]\n",
      "loss: 0.503107  [39936/50000]\n",
      "loss: 0.480263  [44928/50000]\n",
      "loss: 0.470140  [31200/50000]\n",
      "Epoch average loss: 0.4690442979335785\n"
     ]
    },
    {
     "data": {
      "application/vnd.jupyter.widget-view+json": {
       "model_id": "a60becf90f87479f8b01473bb90456da",
       "version_major": 2,
       "version_minor": 0
      },
      "text/plain": [
       "  0%|          | 0/391 [00:00<?, ?it/s]"
      ]
     },
     "metadata": {},
     "output_type": "display_data"
    },
    {
     "name": "stdout",
     "output_type": "stream",
     "text": [
      "loss: 0.398455  [    0/50000]\n",
      "loss: 0.502112  [ 4992/50000]\n",
      "loss: 0.446061  [ 9984/50000]\n",
      "loss: 0.451930  [14976/50000]\n",
      "loss: 0.416348  [19968/50000]\n",
      "loss: 0.398900  [24960/50000]\n",
      "loss: 0.462558  [29952/50000]\n",
      "loss: 0.443684  [34944/50000]\n",
      "loss: 0.432096  [39936/50000]\n",
      "loss: 0.497407  [44928/50000]\n",
      "loss: 0.415352  [31200/50000]\n",
      "Epoch average loss: 0.46500763297080994\n"
     ]
    },
    {
     "data": {
      "application/vnd.jupyter.widget-view+json": {
       "model_id": "4fb65ceb316c4d6387c37df4b6d28a74",
       "version_major": 2,
       "version_minor": 0
      },
      "text/plain": [
       "  0%|          | 0/391 [00:00<?, ?it/s]"
      ]
     },
     "metadata": {},
     "output_type": "display_data"
    },
    {
     "name": "stdout",
     "output_type": "stream",
     "text": [
      "loss: 0.496254  [    0/50000]\n",
      "loss: 0.380434  [ 4992/50000]\n",
      "loss: 0.473774  [ 9984/50000]\n",
      "loss: 0.454833  [14976/50000]\n",
      "loss: 0.456954  [19968/50000]\n",
      "loss: 0.466537  [24960/50000]\n",
      "loss: 0.437903  [29952/50000]\n",
      "loss: 0.512309  [34944/50000]\n",
      "loss: 0.446846  [39936/50000]\n",
      "loss: 0.493539  [44928/50000]\n",
      "loss: 0.454389  [31200/50000]\n",
      "Epoch average loss: 0.4634169936180115\n",
      "Done!\n"
     ]
    },
    {
     "data": {
      "application/vnd.jupyter.widget-view+json": {
       "model_id": "b1efb71728254e8f95d08046b239bd2a",
       "version_major": 2,
       "version_minor": 0
      },
      "text/plain": [
       "  0%|          | 0/3473 [00:00<?, ?it/s]"
      ]
     },
     "metadata": {},
     "output_type": "display_data"
    },
    {
     "name": "stdout",
     "output_type": "stream",
     "text": [
      "Seed 0 - Iteration 1 - Model 30 - Done\n",
      "Seed 0 - Iteration 1 - Model 19 - Begin\n"
     ]
    },
    {
     "data": {
      "application/vnd.jupyter.widget-view+json": {
       "model_id": "75767ab98bc04c1193ee0dfff90eb842",
       "version_major": 2,
       "version_minor": 0
      },
      "text/plain": [
       "  0%|          | 0/391 [00:00<?, ?it/s]"
      ]
     },
     "metadata": {},
     "output_type": "display_data"
    },
    {
     "name": "stdout",
     "output_type": "stream",
     "text": [
      "loss: 0.477555  [    0/50000]\n",
      "loss: 0.476573  [ 4992/50000]\n",
      "loss: 0.502242  [ 9984/50000]\n",
      "loss: 0.480113  [14976/50000]\n",
      "loss: 0.464464  [19968/50000]\n",
      "loss: 0.538147  [24960/50000]\n",
      "loss: 0.487186  [29952/50000]\n",
      "loss: 0.472866  [34944/50000]\n",
      "loss: 0.433335  [39936/50000]\n",
      "loss: 0.482293  [44928/50000]\n",
      "loss: 0.454832  [31200/50000]\n",
      "Epoch average loss: 0.4704963266849518\n"
     ]
    },
    {
     "data": {
      "application/vnd.jupyter.widget-view+json": {
       "model_id": "ea37e3fd4c1b4ac6be6c0430ac1eca40",
       "version_major": 2,
       "version_minor": 0
      },
      "text/plain": [
       "  0%|          | 0/391 [00:00<?, ?it/s]"
      ]
     },
     "metadata": {},
     "output_type": "display_data"
    },
    {
     "name": "stdout",
     "output_type": "stream",
     "text": [
      "loss: 0.534723  [    0/50000]\n",
      "loss: 0.449893  [ 4992/50000]\n",
      "loss: 0.457884  [ 9984/50000]\n",
      "loss: 0.463584  [14976/50000]\n",
      "loss: 0.472090  [19968/50000]\n",
      "loss: 0.402379  [24960/50000]\n",
      "loss: 0.488251  [29952/50000]\n",
      "loss: 0.462015  [34944/50000]\n",
      "loss: 0.425673  [39936/50000]\n",
      "loss: 0.435067  [44928/50000]\n",
      "loss: 0.503056  [31200/50000]\n",
      "Epoch average loss: 0.4670102894306183\n"
     ]
    },
    {
     "data": {
      "application/vnd.jupyter.widget-view+json": {
       "model_id": "0927b4d058f8471e83d6a534d2c74a38",
       "version_major": 2,
       "version_minor": 0
      },
      "text/plain": [
       "  0%|          | 0/391 [00:00<?, ?it/s]"
      ]
     },
     "metadata": {},
     "output_type": "display_data"
    },
    {
     "name": "stdout",
     "output_type": "stream",
     "text": [
      "loss: 0.543958  [    0/50000]\n",
      "loss: 0.503758  [ 4992/50000]\n",
      "loss: 0.478292  [ 9984/50000]\n",
      "loss: 0.519342  [14976/50000]\n",
      "loss: 0.484957  [19968/50000]\n",
      "loss: 0.448890  [24960/50000]\n",
      "loss: 0.446593  [29952/50000]\n",
      "loss: 0.456437  [34944/50000]\n",
      "loss: 0.478185  [39936/50000]\n",
      "loss: 0.468295  [44928/50000]\n",
      "loss: 0.370702  [31200/50000]\n",
      "Epoch average loss: 0.46878892183303833\n",
      "Done!\n"
     ]
    },
    {
     "data": {
      "application/vnd.jupyter.widget-view+json": {
       "model_id": "3266d496851c4a68ab1939cb2fc72e7e",
       "version_major": 2,
       "version_minor": 0
      },
      "text/plain": [
       "  0%|          | 0/3473 [00:00<?, ?it/s]"
      ]
     },
     "metadata": {},
     "output_type": "display_data"
    },
    {
     "name": "stdout",
     "output_type": "stream",
     "text": [
      "Seed 0 - Iteration 1 - Model 30 - Done\n",
      "Seed 0 - Iteration 1 - Model 20 - Begin\n"
     ]
    },
    {
     "data": {
      "application/vnd.jupyter.widget-view+json": {
       "model_id": "0d6c2662d37d472d8c526f5470a6f218",
       "version_major": 2,
       "version_minor": 0
      },
      "text/plain": [
       "  0%|          | 0/391 [00:00<?, ?it/s]"
      ]
     },
     "metadata": {},
     "output_type": "display_data"
    },
    {
     "name": "stdout",
     "output_type": "stream",
     "text": [
      "loss: 0.475372  [    0/50000]\n",
      "loss: 0.447662  [ 4992/50000]\n",
      "loss: 0.465995  [ 9984/50000]\n",
      "loss: 0.455226  [14976/50000]\n",
      "loss: 0.443935  [19968/50000]\n",
      "loss: 0.516199  [24960/50000]\n",
      "loss: 0.500436  [29952/50000]\n",
      "loss: 0.485346  [34944/50000]\n",
      "loss: 0.448143  [39936/50000]\n",
      "loss: 0.518699  [44928/50000]\n",
      "loss: 0.450377  [31200/50000]\n",
      "Epoch average loss: 0.4680536091327667\n"
     ]
    },
    {
     "data": {
      "application/vnd.jupyter.widget-view+json": {
       "model_id": "8ddcb53349554ede8f4ab42cd12b3fee",
       "version_major": 2,
       "version_minor": 0
      },
      "text/plain": [
       "  0%|          | 0/391 [00:00<?, ?it/s]"
      ]
     },
     "metadata": {},
     "output_type": "display_data"
    },
    {
     "name": "stdout",
     "output_type": "stream",
     "text": [
      "loss: 0.418401  [    0/50000]\n",
      "loss: 0.510836  [ 4992/50000]\n",
      "loss: 0.492478  [ 9984/50000]\n",
      "loss: 0.460347  [14976/50000]\n",
      "loss: 0.452218  [19968/50000]\n",
      "loss: 0.473047  [24960/50000]\n",
      "loss: 0.412962  [29952/50000]\n",
      "loss: 0.467663  [34944/50000]\n",
      "loss: 0.463992  [39936/50000]\n",
      "loss: 0.460755  [44928/50000]\n",
      "loss: 0.453841  [31200/50000]\n",
      "Epoch average loss: 0.4667637348175049\n"
     ]
    },
    {
     "data": {
      "application/vnd.jupyter.widget-view+json": {
       "model_id": "89a6bef1ed1d4201838913e988614029",
       "version_major": 2,
       "version_minor": 0
      },
      "text/plain": [
       "  0%|          | 0/391 [00:00<?, ?it/s]"
      ]
     },
     "metadata": {},
     "output_type": "display_data"
    },
    {
     "name": "stdout",
     "output_type": "stream",
     "text": [
      "loss: 0.484204  [    0/50000]\n",
      "loss: 0.494017  [ 4992/50000]\n",
      "loss: 0.485653  [ 9984/50000]\n",
      "loss: 0.432420  [14976/50000]\n",
      "loss: 0.434462  [19968/50000]\n",
      "loss: 0.480072  [24960/50000]\n",
      "loss: 0.404751  [29952/50000]\n",
      "loss: 0.461657  [34944/50000]\n",
      "loss: 0.457187  [39936/50000]\n",
      "loss: 0.442042  [44928/50000]\n",
      "loss: 0.430391  [31200/50000]\n",
      "Epoch average loss: 0.4658651053905487\n",
      "Done!\n"
     ]
    },
    {
     "data": {
      "application/vnd.jupyter.widget-view+json": {
       "model_id": "fd05576ec4364188a357d778dbd3333d",
       "version_major": 2,
       "version_minor": 0
      },
      "text/plain": [
       "  0%|          | 0/3473 [00:00<?, ?it/s]"
      ]
     },
     "metadata": {},
     "output_type": "display_data"
    },
    {
     "name": "stdout",
     "output_type": "stream",
     "text": [
      "Seed 0 - Iteration 1 - Model 30 - Done\n",
      "Seed 0 - Iteration 1 - Model 21 - Begin\n"
     ]
    },
    {
     "data": {
      "application/vnd.jupyter.widget-view+json": {
       "model_id": "73afad2281d14cea9aaa75f791402ba6",
       "version_major": 2,
       "version_minor": 0
      },
      "text/plain": [
       "  0%|          | 0/391 [00:00<?, ?it/s]"
      ]
     },
     "metadata": {},
     "output_type": "display_data"
    },
    {
     "name": "stdout",
     "output_type": "stream",
     "text": [
      "loss: 0.430043  [    0/50000]\n",
      "loss: 0.486160  [ 4992/50000]\n",
      "loss: 0.469001  [ 9984/50000]\n",
      "loss: 0.478766  [14976/50000]\n",
      "loss: 0.456151  [19968/50000]\n",
      "loss: 0.477125  [24960/50000]\n",
      "loss: 0.456789  [29952/50000]\n",
      "loss: 0.487704  [34944/50000]\n",
      "loss: 0.453655  [39936/50000]\n",
      "loss: 0.439149  [44928/50000]\n",
      "loss: 0.415876  [31200/50000]\n",
      "Epoch average loss: 0.46819308400154114\n"
     ]
    },
    {
     "data": {
      "application/vnd.jupyter.widget-view+json": {
       "model_id": "1f75d299a3d54e53848ee3564f649de5",
       "version_major": 2,
       "version_minor": 0
      },
      "text/plain": [
       "  0%|          | 0/391 [00:00<?, ?it/s]"
      ]
     },
     "metadata": {},
     "output_type": "display_data"
    },
    {
     "name": "stdout",
     "output_type": "stream",
     "text": [
      "loss: 0.507056  [    0/50000]\n",
      "loss: 0.508202  [ 4992/50000]\n",
      "loss: 0.484298  [ 9984/50000]\n",
      "loss: 0.472675  [14976/50000]\n",
      "loss: 0.475956  [19968/50000]\n",
      "loss: 0.430125  [24960/50000]\n",
      "loss: 0.445786  [29952/50000]\n",
      "loss: 0.445598  [34944/50000]\n",
      "loss: 0.471165  [39936/50000]\n",
      "loss: 0.462389  [44928/50000]\n",
      "loss: 0.433512  [31200/50000]\n",
      "Epoch average loss: 0.46503567695617676\n"
     ]
    },
    {
     "data": {
      "application/vnd.jupyter.widget-view+json": {
       "model_id": "4e783f3e05264409a05afa01c08e8c41",
       "version_major": 2,
       "version_minor": 0
      },
      "text/plain": [
       "  0%|          | 0/391 [00:00<?, ?it/s]"
      ]
     },
     "metadata": {},
     "output_type": "display_data"
    },
    {
     "name": "stdout",
     "output_type": "stream",
     "text": [
      "loss: 0.440933  [    0/50000]\n",
      "loss: 0.506381  [ 4992/50000]\n",
      "loss: 0.474983  [ 9984/50000]\n",
      "loss: 0.437688  [14976/50000]\n",
      "loss: 0.445092  [19968/50000]\n",
      "loss: 0.453555  [24960/50000]\n",
      "loss: 0.526353  [29952/50000]\n",
      "loss: 0.495068  [34944/50000]\n",
      "loss: 0.458941  [39936/50000]\n",
      "loss: 0.536526  [44928/50000]\n",
      "loss: 0.483201  [31200/50000]\n",
      "Epoch average loss: 0.4664197266101837\n",
      "Done!\n"
     ]
    },
    {
     "data": {
      "application/vnd.jupyter.widget-view+json": {
       "model_id": "1c30cf4272b843ba945504765e8814f9",
       "version_major": 2,
       "version_minor": 0
      },
      "text/plain": [
       "  0%|          | 0/3473 [00:00<?, ?it/s]"
      ]
     },
     "metadata": {},
     "output_type": "display_data"
    },
    {
     "name": "stdout",
     "output_type": "stream",
     "text": [
      "Seed 0 - Iteration 1 - Model 30 - Done\n",
      "Seed 0 - Iteration 1 - Model 22 - Begin\n"
     ]
    },
    {
     "data": {
      "application/vnd.jupyter.widget-view+json": {
       "model_id": "ac8921ff1c8a4ac186fd9cc58cb7597c",
       "version_major": 2,
       "version_minor": 0
      },
      "text/plain": [
       "  0%|          | 0/391 [00:00<?, ?it/s]"
      ]
     },
     "metadata": {},
     "output_type": "display_data"
    },
    {
     "name": "stdout",
     "output_type": "stream",
     "text": [
      "loss: 0.494433  [    0/50000]\n",
      "loss: 0.452008  [ 4992/50000]\n",
      "loss: 0.496163  [ 9984/50000]\n",
      "loss: 0.419790  [14976/50000]\n",
      "loss: 0.478190  [19968/50000]\n",
      "loss: 0.499334  [24960/50000]\n",
      "loss: 0.415537  [29952/50000]\n",
      "loss: 0.496038  [34944/50000]\n",
      "loss: 0.443988  [39936/50000]\n",
      "loss: 0.499493  [44928/50000]\n",
      "loss: 0.520658  [31200/50000]\n",
      "Epoch average loss: 0.46517202258110046\n"
     ]
    },
    {
     "data": {
      "application/vnd.jupyter.widget-view+json": {
       "model_id": "afc5cf615d894a82b0dbd3a5431fdca5",
       "version_major": 2,
       "version_minor": 0
      },
      "text/plain": [
       "  0%|          | 0/391 [00:00<?, ?it/s]"
      ]
     },
     "metadata": {},
     "output_type": "display_data"
    },
    {
     "name": "stdout",
     "output_type": "stream",
     "text": [
      "loss: 0.430317  [    0/50000]\n",
      "loss: 0.492328  [ 4992/50000]\n",
      "loss: 0.466971  [ 9984/50000]\n",
      "loss: 0.487365  [14976/50000]\n",
      "loss: 0.439910  [19968/50000]\n",
      "loss: 0.467765  [24960/50000]\n",
      "loss: 0.436565  [29952/50000]\n",
      "loss: 0.517786  [34944/50000]\n",
      "loss: 0.516299  [39936/50000]\n",
      "loss: 0.470324  [44928/50000]\n",
      "loss: 0.513472  [31200/50000]\n",
      "Epoch average loss: 0.46545150876045227\n"
     ]
    },
    {
     "data": {
      "application/vnd.jupyter.widget-view+json": {
       "model_id": "c3a3f590a4f94933afd98efaaffe0233",
       "version_major": 2,
       "version_minor": 0
      },
      "text/plain": [
       "  0%|          | 0/391 [00:00<?, ?it/s]"
      ]
     },
     "metadata": {},
     "output_type": "display_data"
    },
    {
     "name": "stdout",
     "output_type": "stream",
     "text": [
      "loss: 0.476449  [    0/50000]\n",
      "loss: 0.430233  [ 4992/50000]\n",
      "loss: 0.452127  [ 9984/50000]\n",
      "loss: 0.449089  [14976/50000]\n",
      "loss: 0.457004  [19968/50000]\n",
      "loss: 0.444404  [24960/50000]\n",
      "loss: 0.420915  [29952/50000]\n",
      "loss: 0.501941  [34944/50000]\n",
      "loss: 0.490740  [39936/50000]\n",
      "loss: 0.494690  [44928/50000]\n",
      "loss: 0.464558  [31200/50000]\n",
      "Epoch average loss: 0.4650108218193054\n",
      "Done!\n"
     ]
    },
    {
     "data": {
      "application/vnd.jupyter.widget-view+json": {
       "model_id": "536033558bd4472d88d7c32948e901fd",
       "version_major": 2,
       "version_minor": 0
      },
      "text/plain": [
       "  0%|          | 0/3473 [00:00<?, ?it/s]"
      ]
     },
     "metadata": {},
     "output_type": "display_data"
    },
    {
     "name": "stdout",
     "output_type": "stream",
     "text": [
      "Seed 0 - Iteration 1 - Model 30 - Done\n",
      "Seed 0 - Iteration 1 - Model 23 - Begin\n"
     ]
    },
    {
     "data": {
      "application/vnd.jupyter.widget-view+json": {
       "model_id": "fc46d2ec1fda446c80d6570d93b91b10",
       "version_major": 2,
       "version_minor": 0
      },
      "text/plain": [
       "  0%|          | 0/391 [00:00<?, ?it/s]"
      ]
     },
     "metadata": {},
     "output_type": "display_data"
    },
    {
     "name": "stdout",
     "output_type": "stream",
     "text": [
      "loss: 0.491024  [    0/50000]\n",
      "loss: 0.485894  [ 4992/50000]\n",
      "loss: 0.552416  [ 9984/50000]\n",
      "loss: 0.492041  [14976/50000]\n",
      "loss: 0.501383  [19968/50000]\n",
      "loss: 0.453357  [24960/50000]\n",
      "loss: 0.476226  [29952/50000]\n",
      "loss: 0.440259  [34944/50000]\n",
      "loss: 0.472606  [39936/50000]\n",
      "loss: 0.493140  [44928/50000]\n",
      "loss: 0.414294  [31200/50000]\n",
      "Epoch average loss: 0.46768316626548767\n"
     ]
    },
    {
     "data": {
      "application/vnd.jupyter.widget-view+json": {
       "model_id": "8a1f007e00d04bbeb095be25d2b7f231",
       "version_major": 2,
       "version_minor": 0
      },
      "text/plain": [
       "  0%|          | 0/391 [00:00<?, ?it/s]"
      ]
     },
     "metadata": {},
     "output_type": "display_data"
    },
    {
     "name": "stdout",
     "output_type": "stream",
     "text": [
      "loss: 0.462126  [    0/50000]\n",
      "loss: 0.471112  [ 4992/50000]\n",
      "loss: 0.442025  [ 9984/50000]\n",
      "loss: 0.440201  [14976/50000]\n",
      "loss: 0.453907  [19968/50000]\n",
      "loss: 0.487184  [24960/50000]\n",
      "loss: 0.420961  [29952/50000]\n",
      "loss: 0.430418  [34944/50000]\n",
      "loss: 0.462805  [39936/50000]\n",
      "loss: 0.443001  [44928/50000]\n",
      "loss: 0.406781  [31200/50000]\n",
      "Epoch average loss: 0.4656551480293274\n"
     ]
    },
    {
     "data": {
      "application/vnd.jupyter.widget-view+json": {
       "model_id": "1d009cc264c5410db6ccbfd5a6131f59",
       "version_major": 2,
       "version_minor": 0
      },
      "text/plain": [
       "  0%|          | 0/391 [00:00<?, ?it/s]"
      ]
     },
     "metadata": {},
     "output_type": "display_data"
    },
    {
     "name": "stdout",
     "output_type": "stream",
     "text": [
      "loss: 0.494686  [    0/50000]\n",
      "loss: 0.457101  [ 4992/50000]\n",
      "loss: 0.488097  [ 9984/50000]\n",
      "loss: 0.548597  [14976/50000]\n",
      "loss: 0.482627  [19968/50000]\n",
      "loss: 0.443434  [24960/50000]\n",
      "loss: 0.446603  [29952/50000]\n",
      "loss: 0.518370  [34944/50000]\n",
      "loss: 0.547678  [39936/50000]\n",
      "loss: 0.481638  [44928/50000]\n",
      "loss: 0.412869  [31200/50000]\n",
      "Epoch average loss: 0.46717384457588196\n",
      "Done!\n"
     ]
    },
    {
     "data": {
      "application/vnd.jupyter.widget-view+json": {
       "model_id": "0135ed9568294304a9a2ef9c4a3e3271",
       "version_major": 2,
       "version_minor": 0
      },
      "text/plain": [
       "  0%|          | 0/3473 [00:00<?, ?it/s]"
      ]
     },
     "metadata": {},
     "output_type": "display_data"
    },
    {
     "name": "stdout",
     "output_type": "stream",
     "text": [
      "Seed 0 - Iteration 1 - Model 30 - Done\n",
      "Seed 0 - Iteration 1 - Model 24 - Begin\n"
     ]
    },
    {
     "data": {
      "application/vnd.jupyter.widget-view+json": {
       "model_id": "a023876fec9b40efb80e5bf2ad77e9fd",
       "version_major": 2,
       "version_minor": 0
      },
      "text/plain": [
       "  0%|          | 0/391 [00:00<?, ?it/s]"
      ]
     },
     "metadata": {},
     "output_type": "display_data"
    },
    {
     "name": "stdout",
     "output_type": "stream",
     "text": [
      "loss: 0.449381  [    0/50000]\n",
      "loss: 0.468391  [ 4992/50000]\n",
      "loss: 0.471227  [ 9984/50000]\n",
      "loss: 0.513466  [14976/50000]\n",
      "loss: 0.470658  [19968/50000]\n",
      "loss: 0.418146  [24960/50000]\n",
      "loss: 0.444162  [29952/50000]\n",
      "loss: 0.489960  [34944/50000]\n",
      "loss: 0.474804  [39936/50000]\n",
      "loss: 0.465466  [44928/50000]\n",
      "loss: 0.432358  [31200/50000]\n",
      "Epoch average loss: 0.46811777353286743\n"
     ]
    },
    {
     "data": {
      "application/vnd.jupyter.widget-view+json": {
       "model_id": "a6eb073568834a84af1b1e21579d88f7",
       "version_major": 2,
       "version_minor": 0
      },
      "text/plain": [
       "  0%|          | 0/391 [00:00<?, ?it/s]"
      ]
     },
     "metadata": {},
     "output_type": "display_data"
    },
    {
     "name": "stdout",
     "output_type": "stream",
     "text": [
      "loss: 0.419841  [    0/50000]\n",
      "loss: 0.513758  [ 4992/50000]\n",
      "loss: 0.520749  [ 9984/50000]\n",
      "loss: 0.393288  [14976/50000]\n",
      "loss: 0.469809  [19968/50000]\n",
      "loss: 0.514845  [24960/50000]\n",
      "loss: 0.500509  [29952/50000]\n",
      "loss: 0.436897  [34944/50000]\n",
      "loss: 0.505542  [39936/50000]\n",
      "loss: 0.559366  [44928/50000]\n",
      "loss: 0.421984  [31200/50000]\n",
      "Epoch average loss: 0.4658794701099396\n"
     ]
    },
    {
     "data": {
      "application/vnd.jupyter.widget-view+json": {
       "model_id": "baa8b241d9354cfd9df4ef79038d8e56",
       "version_major": 2,
       "version_minor": 0
      },
      "text/plain": [
       "  0%|          | 0/391 [00:00<?, ?it/s]"
      ]
     },
     "metadata": {},
     "output_type": "display_data"
    },
    {
     "name": "stdout",
     "output_type": "stream",
     "text": [
      "loss: 0.448667  [    0/50000]\n",
      "loss: 0.481965  [ 4992/50000]\n",
      "loss: 0.466432  [ 9984/50000]\n",
      "loss: 0.497261  [14976/50000]\n",
      "loss: 0.466778  [19968/50000]\n",
      "loss: 0.463703  [24960/50000]\n",
      "loss: 0.450942  [29952/50000]\n",
      "loss: 0.466630  [34944/50000]\n",
      "loss: 0.437509  [39936/50000]\n",
      "loss: 0.465097  [44928/50000]\n",
      "loss: 0.456906  [31200/50000]\n",
      "Epoch average loss: 0.46664413809776306\n",
      "Done!\n"
     ]
    },
    {
     "data": {
      "application/vnd.jupyter.widget-view+json": {
       "model_id": "8e705c7d931248218f76dca46c91f5c0",
       "version_major": 2,
       "version_minor": 0
      },
      "text/plain": [
       "  0%|          | 0/3473 [00:00<?, ?it/s]"
      ]
     },
     "metadata": {},
     "output_type": "display_data"
    },
    {
     "name": "stdout",
     "output_type": "stream",
     "text": [
      "Seed 0 - Iteration 1 - Model 30 - Done\n",
      "Seed 0 - Iteration 1 - Model 25 - Begin\n"
     ]
    },
    {
     "data": {
      "application/vnd.jupyter.widget-view+json": {
       "model_id": "2099ae7f3b504b849c99b71f1539e6ba",
       "version_major": 2,
       "version_minor": 0
      },
      "text/plain": [
       "  0%|          | 0/391 [00:00<?, ?it/s]"
      ]
     },
     "metadata": {},
     "output_type": "display_data"
    },
    {
     "name": "stdout",
     "output_type": "stream",
     "text": [
      "loss: 0.502757  [    0/50000]\n",
      "loss: 0.419633  [ 4992/50000]\n",
      "loss: 0.452767  [ 9984/50000]\n",
      "loss: 0.528674  [14976/50000]\n",
      "loss: 0.467477  [19968/50000]\n",
      "loss: 0.454769  [24960/50000]\n",
      "loss: 0.464534  [29952/50000]\n",
      "loss: 0.504483  [34944/50000]\n",
      "loss: 0.486964  [39936/50000]\n",
      "loss: 0.510879  [44928/50000]\n",
      "loss: 0.424436  [31200/50000]\n",
      "Epoch average loss: 0.46565693616867065\n"
     ]
    },
    {
     "data": {
      "application/vnd.jupyter.widget-view+json": {
       "model_id": "e6586e8130ce4fbea3505f0b2771b3c0",
       "version_major": 2,
       "version_minor": 0
      },
      "text/plain": [
       "  0%|          | 0/391 [00:00<?, ?it/s]"
      ]
     },
     "metadata": {},
     "output_type": "display_data"
    },
    {
     "name": "stdout",
     "output_type": "stream",
     "text": [
      "loss: 0.518114  [    0/50000]\n",
      "loss: 0.457981  [ 4992/50000]\n",
      "loss: 0.495266  [ 9984/50000]\n",
      "loss: 0.475037  [14976/50000]\n",
      "loss: 0.472165  [19968/50000]\n",
      "loss: 0.497320  [24960/50000]\n",
      "loss: 0.510403  [29952/50000]\n",
      "loss: 0.424662  [34944/50000]\n",
      "loss: 0.480267  [39936/50000]\n",
      "loss: 0.440383  [44928/50000]\n",
      "loss: 0.460675  [31200/50000]\n",
      "Epoch average loss: 0.46286654472351074\n"
     ]
    },
    {
     "data": {
      "application/vnd.jupyter.widget-view+json": {
       "model_id": "fd34e2e4d8a74d3bbe25462ef2be410a",
       "version_major": 2,
       "version_minor": 0
      },
      "text/plain": [
       "  0%|          | 0/391 [00:00<?, ?it/s]"
      ]
     },
     "metadata": {},
     "output_type": "display_data"
    },
    {
     "name": "stdout",
     "output_type": "stream",
     "text": [
      "loss: 0.501746  [    0/50000]\n",
      "loss: 0.498642  [ 4992/50000]\n",
      "loss: 0.441506  [ 9984/50000]\n",
      "loss: 0.501758  [14976/50000]\n",
      "loss: 0.478087  [19968/50000]\n",
      "loss: 0.459252  [24960/50000]\n",
      "loss: 0.423987  [29952/50000]\n",
      "loss: 0.495204  [34944/50000]\n",
      "loss: 0.433456  [39936/50000]\n",
      "loss: 0.467658  [44928/50000]\n",
      "loss: 0.374183  [31200/50000]\n",
      "Epoch average loss: 0.4630371332168579\n",
      "Done!\n"
     ]
    },
    {
     "data": {
      "application/vnd.jupyter.widget-view+json": {
       "model_id": "758080c7047a45d28c22d3fcdef11876",
       "version_major": 2,
       "version_minor": 0
      },
      "text/plain": [
       "  0%|          | 0/3473 [00:00<?, ?it/s]"
      ]
     },
     "metadata": {},
     "output_type": "display_data"
    },
    {
     "name": "stdout",
     "output_type": "stream",
     "text": [
      "Seed 0 - Iteration 1 - Model 30 - Done\n",
      "Seed 0 - Iteration 1 - Model 26 - Begin\n"
     ]
    },
    {
     "data": {
      "application/vnd.jupyter.widget-view+json": {
       "model_id": "e4db981a70b9463c827d66b1a673a78c",
       "version_major": 2,
       "version_minor": 0
      },
      "text/plain": [
       "  0%|          | 0/391 [00:00<?, ?it/s]"
      ]
     },
     "metadata": {},
     "output_type": "display_data"
    },
    {
     "name": "stdout",
     "output_type": "stream",
     "text": [
      "loss: 0.471016  [    0/50000]\n",
      "loss: 0.411591  [ 4992/50000]\n",
      "loss: 0.516195  [ 9984/50000]\n",
      "loss: 0.462409  [14976/50000]\n",
      "loss: 0.500151  [19968/50000]\n",
      "loss: 0.497262  [24960/50000]\n",
      "loss: 0.472269  [29952/50000]\n",
      "loss: 0.481052  [34944/50000]\n",
      "loss: 0.452132  [39936/50000]\n",
      "loss: 0.477811  [44928/50000]\n",
      "loss: 0.449242  [31200/50000]\n",
      "Epoch average loss: 0.4659276306629181\n"
     ]
    },
    {
     "data": {
      "application/vnd.jupyter.widget-view+json": {
       "model_id": "892cf201ba134643b1985b501f3fb94a",
       "version_major": 2,
       "version_minor": 0
      },
      "text/plain": [
       "  0%|          | 0/391 [00:00<?, ?it/s]"
      ]
     },
     "metadata": {},
     "output_type": "display_data"
    },
    {
     "name": "stdout",
     "output_type": "stream",
     "text": [
      "loss: 0.524131  [    0/50000]\n",
      "loss: 0.491138  [ 4992/50000]\n",
      "loss: 0.491060  [ 9984/50000]\n",
      "loss: 0.479177  [14976/50000]\n",
      "loss: 0.456984  [19968/50000]\n",
      "loss: 0.454466  [24960/50000]\n",
      "loss: 0.509189  [29952/50000]\n",
      "loss: 0.497001  [34944/50000]\n",
      "loss: 0.453285  [39936/50000]\n",
      "loss: 0.423740  [44928/50000]\n",
      "loss: 0.458048  [31200/50000]\n",
      "Epoch average loss: 0.46621713042259216\n"
     ]
    },
    {
     "data": {
      "application/vnd.jupyter.widget-view+json": {
       "model_id": "399c0aa4217646cca8a203d707c43b87",
       "version_major": 2,
       "version_minor": 0
      },
      "text/plain": [
       "  0%|          | 0/391 [00:00<?, ?it/s]"
      ]
     },
     "metadata": {},
     "output_type": "display_data"
    },
    {
     "name": "stdout",
     "output_type": "stream",
     "text": [
      "loss: 0.464815  [    0/50000]\n",
      "loss: 0.479472  [ 4992/50000]\n",
      "loss: 0.433501  [ 9984/50000]\n",
      "loss: 0.504584  [14976/50000]\n",
      "loss: 0.470295  [19968/50000]\n",
      "loss: 0.459972  [24960/50000]\n",
      "loss: 0.457953  [29952/50000]\n",
      "loss: 0.509463  [34944/50000]\n",
      "loss: 0.487049  [39936/50000]\n",
      "loss: 0.443185  [44928/50000]\n",
      "loss: 0.442090  [31200/50000]\n",
      "Epoch average loss: 0.4657314419746399\n",
      "Done!\n"
     ]
    },
    {
     "data": {
      "application/vnd.jupyter.widget-view+json": {
       "model_id": "9ff0ceb89ac1409ca6288704ff9f4da1",
       "version_major": 2,
       "version_minor": 0
      },
      "text/plain": [
       "  0%|          | 0/3473 [00:00<?, ?it/s]"
      ]
     },
     "metadata": {},
     "output_type": "display_data"
    },
    {
     "name": "stdout",
     "output_type": "stream",
     "text": [
      "Seed 0 - Iteration 1 - Model 30 - Done\n",
      "Seed 0 - Iteration 1 - Model 27 - Begin\n"
     ]
    },
    {
     "data": {
      "application/vnd.jupyter.widget-view+json": {
       "model_id": "97e3f05b898b4500891cb884a4c4c5a6",
       "version_major": 2,
       "version_minor": 0
      },
      "text/plain": [
       "  0%|          | 0/391 [00:00<?, ?it/s]"
      ]
     },
     "metadata": {},
     "output_type": "display_data"
    },
    {
     "name": "stdout",
     "output_type": "stream",
     "text": [
      "loss: 0.431224  [    0/50000]\n",
      "loss: 0.476911  [ 4992/50000]\n",
      "loss: 0.509927  [ 9984/50000]\n",
      "loss: 0.470430  [14976/50000]\n",
      "loss: 0.517648  [19968/50000]\n",
      "loss: 0.459220  [24960/50000]\n",
      "loss: 0.494984  [29952/50000]\n",
      "loss: 0.451616  [34944/50000]\n",
      "loss: 0.443977  [39936/50000]\n",
      "loss: 0.450821  [44928/50000]\n",
      "loss: 0.519790  [31200/50000]\n",
      "Epoch average loss: 0.4679385721683502\n"
     ]
    },
    {
     "data": {
      "application/vnd.jupyter.widget-view+json": {
       "model_id": "2b7d36f778b94c978a3948017af05d0d",
       "version_major": 2,
       "version_minor": 0
      },
      "text/plain": [
       "  0%|          | 0/391 [00:00<?, ?it/s]"
      ]
     },
     "metadata": {},
     "output_type": "display_data"
    },
    {
     "name": "stdout",
     "output_type": "stream",
     "text": [
      "loss: 0.464182  [    0/50000]\n",
      "loss: 0.456767  [ 4992/50000]\n",
      "loss: 0.462471  [ 9984/50000]\n",
      "loss: 0.487661  [14976/50000]\n",
      "loss: 0.510534  [19968/50000]\n",
      "loss: 0.410501  [24960/50000]\n",
      "loss: 0.478851  [29952/50000]\n",
      "loss: 0.489471  [34944/50000]\n",
      "loss: 0.462766  [39936/50000]\n",
      "loss: 0.455909  [44928/50000]\n",
      "loss: 0.509098  [31200/50000]\n",
      "Epoch average loss: 0.46559658646583557\n"
     ]
    },
    {
     "data": {
      "application/vnd.jupyter.widget-view+json": {
       "model_id": "7a151657e0d24182b0039eb1789e522c",
       "version_major": 2,
       "version_minor": 0
      },
      "text/plain": [
       "  0%|          | 0/391 [00:00<?, ?it/s]"
      ]
     },
     "metadata": {},
     "output_type": "display_data"
    },
    {
     "name": "stdout",
     "output_type": "stream",
     "text": [
      "loss: 0.496724  [    0/50000]\n",
      "loss: 0.529835  [ 4992/50000]\n",
      "loss: 0.447723  [ 9984/50000]\n",
      "loss: 0.498441  [14976/50000]\n",
      "loss: 0.466099  [19968/50000]\n",
      "loss: 0.506965  [24960/50000]\n",
      "loss: 0.465093  [29952/50000]\n",
      "loss: 0.413828  [34944/50000]\n",
      "loss: 0.468896  [39936/50000]\n",
      "loss: 0.498783  [44928/50000]\n",
      "loss: 0.462995  [31200/50000]\n",
      "Epoch average loss: 0.46492210030555725\n",
      "Done!\n"
     ]
    },
    {
     "data": {
      "application/vnd.jupyter.widget-view+json": {
       "model_id": "5ff5c486f795414f8a7da02e75ece6b3",
       "version_major": 2,
       "version_minor": 0
      },
      "text/plain": [
       "  0%|          | 0/3473 [00:00<?, ?it/s]"
      ]
     },
     "metadata": {},
     "output_type": "display_data"
    },
    {
     "name": "stdout",
     "output_type": "stream",
     "text": [
      "Seed 0 - Iteration 1 - Model 30 - Done\n",
      "Seed 0 - Iteration 1 - Model 28 - Begin\n"
     ]
    },
    {
     "data": {
      "application/vnd.jupyter.widget-view+json": {
       "model_id": "b2132f4c8f3743a79092a78f24a3fc06",
       "version_major": 2,
       "version_minor": 0
      },
      "text/plain": [
       "  0%|          | 0/391 [00:00<?, ?it/s]"
      ]
     },
     "metadata": {},
     "output_type": "display_data"
    },
    {
     "name": "stdout",
     "output_type": "stream",
     "text": [
      "loss: 0.483441  [    0/50000]\n",
      "loss: 0.462353  [ 4992/50000]\n",
      "loss: 0.457516  [ 9984/50000]\n",
      "loss: 0.526151  [14976/50000]\n",
      "loss: 0.458532  [19968/50000]\n",
      "loss: 0.456002  [24960/50000]\n",
      "loss: 0.527666  [29952/50000]\n",
      "loss: 0.492890  [34944/50000]\n",
      "loss: 0.501283  [39936/50000]\n",
      "loss: 0.411950  [44928/50000]\n",
      "loss: 0.462558  [31200/50000]\n",
      "Epoch average loss: 0.46603724360466003\n"
     ]
    },
    {
     "data": {
      "application/vnd.jupyter.widget-view+json": {
       "model_id": "237efc9943414320b264d8be0de9c36a",
       "version_major": 2,
       "version_minor": 0
      },
      "text/plain": [
       "  0%|          | 0/391 [00:00<?, ?it/s]"
      ]
     },
     "metadata": {},
     "output_type": "display_data"
    },
    {
     "name": "stdout",
     "output_type": "stream",
     "text": [
      "loss: 0.471339  [    0/50000]\n",
      "loss: 0.508212  [ 4992/50000]\n",
      "loss: 0.439703  [ 9984/50000]\n",
      "loss: 0.471296  [14976/50000]\n",
      "loss: 0.525493  [19968/50000]\n",
      "loss: 0.463997  [24960/50000]\n",
      "loss: 0.467105  [29952/50000]\n",
      "loss: 0.453285  [34944/50000]\n",
      "loss: 0.510396  [39936/50000]\n",
      "loss: 0.458118  [44928/50000]\n",
      "loss: 0.474276  [31200/50000]\n",
      "Epoch average loss: 0.46495386958122253\n"
     ]
    },
    {
     "data": {
      "application/vnd.jupyter.widget-view+json": {
       "model_id": "c85211c3500c4a13b9940e34fb6a5619",
       "version_major": 2,
       "version_minor": 0
      },
      "text/plain": [
       "  0%|          | 0/391 [00:00<?, ?it/s]"
      ]
     },
     "metadata": {},
     "output_type": "display_data"
    },
    {
     "name": "stdout",
     "output_type": "stream",
     "text": [
      "loss: 0.505913  [    0/50000]\n",
      "loss: 0.388348  [ 4992/50000]\n",
      "loss: 0.492330  [ 9984/50000]\n",
      "loss: 0.413598  [14976/50000]\n",
      "loss: 0.425266  [19968/50000]\n",
      "loss: 0.487858  [24960/50000]\n",
      "loss: 0.506644  [29952/50000]\n",
      "loss: 0.504897  [34944/50000]\n",
      "loss: 0.438456  [39936/50000]\n",
      "loss: 0.445709  [44928/50000]\n",
      "loss: 0.457414  [31200/50000]\n",
      "Epoch average loss: 0.4645688235759735\n",
      "Done!\n"
     ]
    },
    {
     "data": {
      "application/vnd.jupyter.widget-view+json": {
       "model_id": "1f3e4c43b9584d238977d8c65429ad14",
       "version_major": 2,
       "version_minor": 0
      },
      "text/plain": [
       "  0%|          | 0/3473 [00:00<?, ?it/s]"
      ]
     },
     "metadata": {},
     "output_type": "display_data"
    },
    {
     "name": "stdout",
     "output_type": "stream",
     "text": [
      "Seed 0 - Iteration 1 - Model 30 - Done\n",
      "Seed 0 - Iteration 1 - Model 29 - Begin\n"
     ]
    },
    {
     "data": {
      "application/vnd.jupyter.widget-view+json": {
       "model_id": "d5d7209883e749d5bdca1807ff45a19c",
       "version_major": 2,
       "version_minor": 0
      },
      "text/plain": [
       "  0%|          | 0/391 [00:00<?, ?it/s]"
      ]
     },
     "metadata": {},
     "output_type": "display_data"
    },
    {
     "name": "stdout",
     "output_type": "stream",
     "text": [
      "loss: 0.537453  [    0/50000]\n",
      "loss: 0.548949  [ 4992/50000]\n",
      "loss: 0.475675  [ 9984/50000]\n",
      "loss: 0.521718  [14976/50000]\n",
      "loss: 0.478341  [19968/50000]\n",
      "loss: 0.452174  [24960/50000]\n",
      "loss: 0.480157  [29952/50000]\n",
      "loss: 0.492783  [34944/50000]\n",
      "loss: 0.476948  [39936/50000]\n",
      "loss: 0.417546  [44928/50000]\n",
      "loss: 0.419418  [31200/50000]\n",
      "Epoch average loss: 0.4665236175060272\n"
     ]
    },
    {
     "data": {
      "application/vnd.jupyter.widget-view+json": {
       "model_id": "5e78198fb7d44b1f9f1290db192c93a0",
       "version_major": 2,
       "version_minor": 0
      },
      "text/plain": [
       "  0%|          | 0/391 [00:00<?, ?it/s]"
      ]
     },
     "metadata": {},
     "output_type": "display_data"
    },
    {
     "name": "stdout",
     "output_type": "stream",
     "text": [
      "loss: 0.496483  [    0/50000]\n",
      "loss: 0.471519  [ 4992/50000]\n",
      "loss: 0.459434  [ 9984/50000]\n",
      "loss: 0.431235  [14976/50000]\n",
      "loss: 0.476649  [19968/50000]\n",
      "loss: 0.441918  [24960/50000]\n",
      "loss: 0.416509  [29952/50000]\n",
      "loss: 0.487409  [34944/50000]\n",
      "loss: 0.533104  [39936/50000]\n",
      "loss: 0.434549  [44928/50000]\n",
      "loss: 0.425829  [31200/50000]\n",
      "Epoch average loss: 0.46508893370628357\n"
     ]
    },
    {
     "data": {
      "application/vnd.jupyter.widget-view+json": {
       "model_id": "dab4d6a0504e41809c15f5f6ef8d40e4",
       "version_major": 2,
       "version_minor": 0
      },
      "text/plain": [
       "  0%|          | 0/391 [00:00<?, ?it/s]"
      ]
     },
     "metadata": {},
     "output_type": "display_data"
    },
    {
     "name": "stdout",
     "output_type": "stream",
     "text": [
      "loss: 0.453289  [    0/50000]\n",
      "loss: 0.441169  [ 4992/50000]\n",
      "loss: 0.476270  [ 9984/50000]\n",
      "loss: 0.439701  [14976/50000]\n",
      "loss: 0.477623  [19968/50000]\n",
      "loss: 0.436057  [24960/50000]\n",
      "loss: 0.462508  [29952/50000]\n",
      "loss: 0.505712  [34944/50000]\n",
      "loss: 0.455471  [39936/50000]\n",
      "loss: 0.495586  [44928/50000]\n",
      "loss: 0.509076  [31200/50000]\n",
      "Epoch average loss: 0.4643941819667816\n",
      "Done!\n"
     ]
    },
    {
     "data": {
      "application/vnd.jupyter.widget-view+json": {
       "model_id": "e3f36008e8ad4bf6aa1df3c3ca6bc380",
       "version_major": 2,
       "version_minor": 0
      },
      "text/plain": [
       "  0%|          | 0/3473 [00:00<?, ?it/s]"
      ]
     },
     "metadata": {},
     "output_type": "display_data"
    },
    {
     "name": "stdout",
     "output_type": "stream",
     "text": [
      "Seed 0 - Iteration 1 - Model 30 - Done\n",
      "Unexpected exception formatting exception. Falling back to standard exception\n"
     ]
    },
    {
     "name": "stderr",
     "output_type": "stream",
     "text": [
      "Traceback (most recent call last):\n",
      "  File \"/home/shana92/.conda/envs/text/lib/python3.8/site-packages/IPython/core/interactiveshell.py\", line 3397, in run_code\n",
      "  File \"/tmp/ipykernel_30150/1420380528.py\", line 44, in <cell line: 3>\n",
      "    pred_scores = [sum([1 for y_hat in x if y_hat == s[idx]['label']])/len(x) \\\n",
      "  File \"/tmp/ipykernel_30150/1420380528.py\", line 44, in <listcomp>\n",
      "    pred_scores = [sum([1 for y_hat in x if y_hat == s[idx]['label']])/len(x) \\\n",
      "  File \"/tmp/ipykernel_30150/1420380528.py\", line 44, in <listcomp>\n",
      "    pred_scores = [sum([1 for y_hat in x if y_hat == s[idx]['label']])/len(x) \\\n",
      "NameError: name 's' is not defined\n",
      "\n",
      "During handling of the above exception, another exception occurred:\n",
      "\n",
      "Traceback (most recent call last):\n",
      "  File \"/home/shana92/.conda/envs/text/lib/python3.8/site-packages/pygments/styles/__init__.py\", line 78, in get_style_by_name\n",
      "ModuleNotFoundError: No module named 'pygments.styles.default'\n",
      "\n",
      "During handling of the above exception, another exception occurred:\n",
      "\n",
      "Traceback (most recent call last):\n",
      "  File \"/home/shana92/.conda/envs/text/lib/python3.8/site-packages/IPython/core/interactiveshell.py\", line 1992, in showtraceback\n",
      "  File \"/home/shana92/.conda/envs/text/lib/python3.8/site-packages/IPython/core/ultratb.py\", line 1118, in structured_traceback\n",
      "  File \"/home/shana92/.conda/envs/text/lib/python3.8/site-packages/IPython/core/ultratb.py\", line 1012, in structured_traceback\n",
      "  File \"/home/shana92/.conda/envs/text/lib/python3.8/site-packages/IPython/core/ultratb.py\", line 865, in structured_traceback\n",
      "  File \"/home/shana92/.conda/envs/text/lib/python3.8/site-packages/IPython/core/ultratb.py\", line 799, in format_exception_as_a_whole\n",
      "  File \"/home/shana92/.conda/envs/text/lib/python3.8/site-packages/IPython/core/ultratb.py\", line 844, in get_records\n",
      "  File \"/home/shana92/.conda/envs/text/lib/python3.8/site-packages/pygments/styles/__init__.py\", line 80, in get_style_by_name\n",
      "pygments.util.ClassNotFound: Could not find style module 'default', though it should be builtin.\n"
     ]
    }
   ],
   "source": [
    "filtered_datasets = {}\n",
    "\n",
    "for seed in AFLite_seeds:\n",
    "    \n",
    "    # first step of AFLite; initialise S\n",
    "    S = copy.deepcopy(train)\n",
    "    \n",
    "    # initialise iteration index\n",
    "    it_idx = 0\n",
    "    \n",
    "    while len(S) > n:\n",
    "        \n",
    "        # update iteration index\n",
    "        it_idx += 1\n",
    "        \n",
    "        # initialise multiset for Out-Of-Sample predictions\n",
    "        E = {x: [] for x in range(len(S))}\n",
    "\n",
    "        for j in range(m):\n",
    "            \n",
    "            # randomly partition S into (S\\T_j, T_j) s.t. |S\\T_j| = t\n",
    "            tr_idx = set(np.random.default_rng(j).choice(np.arange(len(S)), t, replace = False))\n",
    "            te_idx = set(range(len(S))) - tr_idx\n",
    "            tr, te = S.select(tr_idx), S.select(te_idx)\n",
    "            print(f'Seed {seed} - Iteration {it_idx} - Model {j} - Begin')\n",
    "                        \n",
    "            # train classifier on S\\T_j, i.e. tr\n",
    "            classifier = copy.deepcopy(model)\n",
    "            dataloader = torch.utils.data.DataLoader(tr, batch_size=batch_size, \\\n",
    "                                 shuffle=True, collate_fn=data_collator)\n",
    "            optimizer = torch.optim.Adam(filter(lambda p: p.requires_grad, classifier.parameters()), lr = lr)\n",
    "            trained_classifier = train_classifier(classifier, dataloader, optimizer, device)\n",
    "            \n",
    "            # for all instances i in T_j, add predictions to E(i)\n",
    "            te_dataloader = torch.utils.data.DataLoader(te, batch_size=batch_size, collate_fn=data_collator)\n",
    "            preds = predict(trained_classifier, te_dataloader, device)\n",
    "            print(f'Seed {seed} - Iteration {it_idx} - Model {m} - Done')\n",
    "            \n",
    "            for pred_idx, data_idx in enumerate(te_idx): # there are as many predictions as test instances\n",
    "                \n",
    "                E[data_idx] += [preds[pred_idx]]\n",
    "        \n",
    "        # for all instances in S, compute predictability score\n",
    "        pred_scores = [sum([1 for y_hat in x if y_hat == s[idx]['label']])/len(x) \\\n",
    "                       for idx, x in enumerate(E.values())]\n",
    "        \n",
    "        \n",
    "        # Select up to k instances with the highest predictability scores subject to score >= tau\n",
    "        selected_idx = select_k(pred_scores, tau, k)\n",
    "        \n",
    "        # filter\n",
    "        S = S.select(set(range(len(S))) - selected_idx)\n",
    "        \n",
    "        # early stopping\n",
    "        if len(selected_idx) < k:\n",
    "            \n",
    "            break\n",
    "    \n",
    "    # cache file\n",
    "    filtered_datasets[seed] = S\n",
    "    \n",
    "    # print number of instances in S, for creating random baseline\n",
    "    print(f'Number of instances in S (seed {seed}): {len(S)}')"
   ]
  },
  {
   "cell_type": "markdown",
   "id": "1b2b982e",
   "metadata": {},
   "source": [
    "### 6. Fine-tuning GPT-2 with AFLite filtered datasets"
   ]
  },
  {
   "cell_type": "code",
   "execution_count": null,
   "id": "1b094b14",
   "metadata": {},
   "outputs": [],
   "source": [
    "# Free up some RAM\n",
    "del train \n",
    "del model\n",
    "del classifier\n",
    "\n",
    "# Begin fine-tuning\n",
    "for seed in AFLite_seeds:\n",
    "    \n",
    "    # instantiate new GPT-2 based model\n",
    "    model = GPT2ForSequenceClassification.from_pretrained(\"gpt2\", \n",
    "                                      num_labels=3,\n",
    "                                      problem_type=\"multi_label_classification\")\n",
    "    model.config.pad_token_id = model.config.eos_token_id # specify pad_token used by tokenizer\n",
    "    \n",
    "    # set up data loader\n",
    "    dataloader = torch.utils.data.DataLoader(filtered_datasets[seed], batch_size=batch_size, \\\n",
    "                                             shuffle=True, collate_fn=data_collator)\n",
    "    \n",
    "    # set up optimizer\n",
    "    optimizer = torch.optim.Adam(model.parameters(), lr = lr)    \n",
    "    \n",
    "    # fine-tune model\n",
    "    torch.save(train_classifier(model, dataloader, optimizer, device), \\\n",
    "              'AFLite_fine_tuned_model_seed' + str(seed) + '.pth')"
   ]
  },
  {
   "cell_type": "code",
   "execution_count": null,
   "id": "9aa22f1c",
   "metadata": {},
   "outputs": [],
   "source": []
  }
 ],
 "metadata": {
  "kernelspec": {
   "display_name": "Python 3 (ipykernel)",
   "language": "python",
   "name": "python3"
  },
  "language_info": {
   "codemirror_mode": {
    "name": "ipython",
    "version": 3
   },
   "file_extension": ".py",
   "mimetype": "text/x-python",
   "name": "python",
   "nbconvert_exporter": "python",
   "pygments_lexer": "ipython3",
   "version": "3.8.13"
  }
 },
 "nbformat": 4,
 "nbformat_minor": 5
}
